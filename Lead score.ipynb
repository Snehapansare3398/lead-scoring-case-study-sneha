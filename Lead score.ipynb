{
 "cells": [
  {
   "cell_type": "markdown",
   "id": "a868107e-64cf-41ec-962c-ae4047960ea3",
   "metadata": {},
   "source": [
    "# Lead Scoring Case Study"
   ]
  },
  {
   "cell_type": "code",
   "execution_count": 1,
   "id": "ef09b655-60aa-42fe-ac53-34bbbe00bcfa",
   "metadata": {},
   "outputs": [],
   "source": [
    "#importing libraries\n",
    "\n",
    "import numpy as np\n",
    "import pandas as pd\n",
    "import matplotlib.pyplot as plt\n",
    "import seaborn as sns\n",
    "\n",
    "import warnings\n",
    "warnings.filterwarnings('ignore')\n",
    "\n",
    "from sklearn.preprocessing import StandardScaler"
   ]
  },
  {
   "cell_type": "code",
   "execution_count": 2,
   "id": "d958f629-aa36-443e-b78e-5b77d1d8c63c",
   "metadata": {},
   "outputs": [
    {
     "data": {
      "text/html": [
       "<div>\n",
       "<style scoped>\n",
       "    .dataframe tbody tr th:only-of-type {\n",
       "        vertical-align: middle;\n",
       "    }\n",
       "\n",
       "    .dataframe tbody tr th {\n",
       "        vertical-align: top;\n",
       "    }\n",
       "\n",
       "    .dataframe thead th {\n",
       "        text-align: right;\n",
       "    }\n",
       "</style>\n",
       "<table border=\"1\" class=\"dataframe\">\n",
       "  <thead>\n",
       "    <tr style=\"text-align: right;\">\n",
       "      <th></th>\n",
       "      <th>Prospect ID</th>\n",
       "      <th>Lead Number</th>\n",
       "      <th>Lead Origin</th>\n",
       "      <th>Lead Source</th>\n",
       "      <th>Do Not Email</th>\n",
       "      <th>Do Not Call</th>\n",
       "      <th>Converted</th>\n",
       "      <th>TotalVisits</th>\n",
       "      <th>Total Time Spent on Website</th>\n",
       "      <th>Page Views Per Visit</th>\n",
       "      <th>...</th>\n",
       "      <th>Get updates on DM Content</th>\n",
       "      <th>Lead Profile</th>\n",
       "      <th>City</th>\n",
       "      <th>Asymmetrique Activity Index</th>\n",
       "      <th>Asymmetrique Profile Index</th>\n",
       "      <th>Asymmetrique Activity Score</th>\n",
       "      <th>Asymmetrique Profile Score</th>\n",
       "      <th>I agree to pay the amount through cheque</th>\n",
       "      <th>A free copy of Mastering The Interview</th>\n",
       "      <th>Last Notable Activity</th>\n",
       "    </tr>\n",
       "  </thead>\n",
       "  <tbody>\n",
       "    <tr>\n",
       "      <th>0</th>\n",
       "      <td>7927b2df-8bba-4d29-b9a2-b6e0beafe620</td>\n",
       "      <td>660737</td>\n",
       "      <td>API</td>\n",
       "      <td>Olark Chat</td>\n",
       "      <td>No</td>\n",
       "      <td>No</td>\n",
       "      <td>0</td>\n",
       "      <td>0.0</td>\n",
       "      <td>0</td>\n",
       "      <td>0.0</td>\n",
       "      <td>...</td>\n",
       "      <td>No</td>\n",
       "      <td>Select</td>\n",
       "      <td>Select</td>\n",
       "      <td>02.Medium</td>\n",
       "      <td>02.Medium</td>\n",
       "      <td>15.0</td>\n",
       "      <td>15.0</td>\n",
       "      <td>No</td>\n",
       "      <td>No</td>\n",
       "      <td>Modified</td>\n",
       "    </tr>\n",
       "    <tr>\n",
       "      <th>1</th>\n",
       "      <td>2a272436-5132-4136-86fa-dcc88c88f482</td>\n",
       "      <td>660728</td>\n",
       "      <td>API</td>\n",
       "      <td>Organic Search</td>\n",
       "      <td>No</td>\n",
       "      <td>No</td>\n",
       "      <td>0</td>\n",
       "      <td>5.0</td>\n",
       "      <td>674</td>\n",
       "      <td>2.5</td>\n",
       "      <td>...</td>\n",
       "      <td>No</td>\n",
       "      <td>Select</td>\n",
       "      <td>Select</td>\n",
       "      <td>02.Medium</td>\n",
       "      <td>02.Medium</td>\n",
       "      <td>15.0</td>\n",
       "      <td>15.0</td>\n",
       "      <td>No</td>\n",
       "      <td>No</td>\n",
       "      <td>Email Opened</td>\n",
       "    </tr>\n",
       "    <tr>\n",
       "      <th>2</th>\n",
       "      <td>8cc8c611-a219-4f35-ad23-fdfd2656bd8a</td>\n",
       "      <td>660727</td>\n",
       "      <td>Landing Page Submission</td>\n",
       "      <td>Direct Traffic</td>\n",
       "      <td>No</td>\n",
       "      <td>No</td>\n",
       "      <td>1</td>\n",
       "      <td>2.0</td>\n",
       "      <td>1532</td>\n",
       "      <td>2.0</td>\n",
       "      <td>...</td>\n",
       "      <td>No</td>\n",
       "      <td>Potential Lead</td>\n",
       "      <td>Mumbai</td>\n",
       "      <td>02.Medium</td>\n",
       "      <td>01.High</td>\n",
       "      <td>14.0</td>\n",
       "      <td>20.0</td>\n",
       "      <td>No</td>\n",
       "      <td>Yes</td>\n",
       "      <td>Email Opened</td>\n",
       "    </tr>\n",
       "    <tr>\n",
       "      <th>3</th>\n",
       "      <td>0cc2df48-7cf4-4e39-9de9-19797f9b38cc</td>\n",
       "      <td>660719</td>\n",
       "      <td>Landing Page Submission</td>\n",
       "      <td>Direct Traffic</td>\n",
       "      <td>No</td>\n",
       "      <td>No</td>\n",
       "      <td>0</td>\n",
       "      <td>1.0</td>\n",
       "      <td>305</td>\n",
       "      <td>1.0</td>\n",
       "      <td>...</td>\n",
       "      <td>No</td>\n",
       "      <td>Select</td>\n",
       "      <td>Mumbai</td>\n",
       "      <td>02.Medium</td>\n",
       "      <td>01.High</td>\n",
       "      <td>13.0</td>\n",
       "      <td>17.0</td>\n",
       "      <td>No</td>\n",
       "      <td>No</td>\n",
       "      <td>Modified</td>\n",
       "    </tr>\n",
       "    <tr>\n",
       "      <th>4</th>\n",
       "      <td>3256f628-e534-4826-9d63-4a8b88782852</td>\n",
       "      <td>660681</td>\n",
       "      <td>Landing Page Submission</td>\n",
       "      <td>Google</td>\n",
       "      <td>No</td>\n",
       "      <td>No</td>\n",
       "      <td>1</td>\n",
       "      <td>2.0</td>\n",
       "      <td>1428</td>\n",
       "      <td>1.0</td>\n",
       "      <td>...</td>\n",
       "      <td>No</td>\n",
       "      <td>Select</td>\n",
       "      <td>Mumbai</td>\n",
       "      <td>02.Medium</td>\n",
       "      <td>01.High</td>\n",
       "      <td>15.0</td>\n",
       "      <td>18.0</td>\n",
       "      <td>No</td>\n",
       "      <td>No</td>\n",
       "      <td>Modified</td>\n",
       "    </tr>\n",
       "  </tbody>\n",
       "</table>\n",
       "<p>5 rows × 37 columns</p>\n",
       "</div>"
      ],
      "text/plain": [
       "                            Prospect ID  Lead Number              Lead Origin  \\\n",
       "0  7927b2df-8bba-4d29-b9a2-b6e0beafe620       660737                      API   \n",
       "1  2a272436-5132-4136-86fa-dcc88c88f482       660728                      API   \n",
       "2  8cc8c611-a219-4f35-ad23-fdfd2656bd8a       660727  Landing Page Submission   \n",
       "3  0cc2df48-7cf4-4e39-9de9-19797f9b38cc       660719  Landing Page Submission   \n",
       "4  3256f628-e534-4826-9d63-4a8b88782852       660681  Landing Page Submission   \n",
       "\n",
       "      Lead Source Do Not Email Do Not Call  Converted  TotalVisits  \\\n",
       "0      Olark Chat           No          No          0          0.0   \n",
       "1  Organic Search           No          No          0          5.0   \n",
       "2  Direct Traffic           No          No          1          2.0   \n",
       "3  Direct Traffic           No          No          0          1.0   \n",
       "4          Google           No          No          1          2.0   \n",
       "\n",
       "   Total Time Spent on Website  Page Views Per Visit  ...  \\\n",
       "0                            0                   0.0  ...   \n",
       "1                          674                   2.5  ...   \n",
       "2                         1532                   2.0  ...   \n",
       "3                          305                   1.0  ...   \n",
       "4                         1428                   1.0  ...   \n",
       "\n",
       "  Get updates on DM Content    Lead Profile    City  \\\n",
       "0                        No          Select  Select   \n",
       "1                        No          Select  Select   \n",
       "2                        No  Potential Lead  Mumbai   \n",
       "3                        No          Select  Mumbai   \n",
       "4                        No          Select  Mumbai   \n",
       "\n",
       "  Asymmetrique Activity Index Asymmetrique Profile Index  \\\n",
       "0                   02.Medium                  02.Medium   \n",
       "1                   02.Medium                  02.Medium   \n",
       "2                   02.Medium                    01.High   \n",
       "3                   02.Medium                    01.High   \n",
       "4                   02.Medium                    01.High   \n",
       "\n",
       "  Asymmetrique Activity Score Asymmetrique Profile Score  \\\n",
       "0                        15.0                       15.0   \n",
       "1                        15.0                       15.0   \n",
       "2                        14.0                       20.0   \n",
       "3                        13.0                       17.0   \n",
       "4                        15.0                       18.0   \n",
       "\n",
       "  I agree to pay the amount through cheque  \\\n",
       "0                                       No   \n",
       "1                                       No   \n",
       "2                                       No   \n",
       "3                                       No   \n",
       "4                                       No   \n",
       "\n",
       "  A free copy of Mastering The Interview Last Notable Activity  \n",
       "0                                     No              Modified  \n",
       "1                                     No          Email Opened  \n",
       "2                                    Yes          Email Opened  \n",
       "3                                     No              Modified  \n",
       "4                                     No              Modified  \n",
       "\n",
       "[5 rows x 37 columns]"
      ]
     },
     "execution_count": 2,
     "metadata": {},
     "output_type": "execute_result"
    }
   ],
   "source": [
    "#importing dataset\n",
    "\n",
    "leads=pd.read_csv(\"Leads.csv\")\n",
    "leads.head()"
   ]
  },
  {
   "cell_type": "code",
   "execution_count": 3,
   "id": "64933b26-33c7-450f-967d-ebbdb8aeae13",
   "metadata": {},
   "outputs": [
    {
     "data": {
      "text/plain": [
       "(9240, 37)"
      ]
     },
     "execution_count": 3,
     "metadata": {},
     "output_type": "execute_result"
    }
   ],
   "source": [
    "leads.shape"
   ]
  },
  {
   "cell_type": "code",
   "execution_count": 4,
   "id": "f27a7165-5e49-446d-97ae-b2463bfdaa6e",
   "metadata": {},
   "outputs": [
    {
     "name": "stdout",
     "output_type": "stream",
     "text": [
      "<class 'pandas.core.frame.DataFrame'>\n",
      "RangeIndex: 9240 entries, 0 to 9239\n",
      "Data columns (total 37 columns):\n",
      " #   Column                                         Non-Null Count  Dtype  \n",
      "---  ------                                         --------------  -----  \n",
      " 0   Prospect ID                                    9240 non-null   object \n",
      " 1   Lead Number                                    9240 non-null   int64  \n",
      " 2   Lead Origin                                    9240 non-null   object \n",
      " 3   Lead Source                                    9204 non-null   object \n",
      " 4   Do Not Email                                   9240 non-null   object \n",
      " 5   Do Not Call                                    9240 non-null   object \n",
      " 6   Converted                                      9240 non-null   int64  \n",
      " 7   TotalVisits                                    9103 non-null   float64\n",
      " 8   Total Time Spent on Website                    9240 non-null   int64  \n",
      " 9   Page Views Per Visit                           9103 non-null   float64\n",
      " 10  Last Activity                                  9137 non-null   object \n",
      " 11  Country                                        6779 non-null   object \n",
      " 12  Specialization                                 7802 non-null   object \n",
      " 13  How did you hear about X Education             7033 non-null   object \n",
      " 14  What is your current occupation                6550 non-null   object \n",
      " 15  What matters most to you in choosing a course  6531 non-null   object \n",
      " 16  Search                                         9240 non-null   object \n",
      " 17  Magazine                                       9240 non-null   object \n",
      " 18  Newspaper Article                              9240 non-null   object \n",
      " 19  X Education Forums                             9240 non-null   object \n",
      " 20  Newspaper                                      9240 non-null   object \n",
      " 21  Digital Advertisement                          9240 non-null   object \n",
      " 22  Through Recommendations                        9240 non-null   object \n",
      " 23  Receive More Updates About Our Courses         9240 non-null   object \n",
      " 24  Tags                                           5887 non-null   object \n",
      " 25  Lead Quality                                   4473 non-null   object \n",
      " 26  Update me on Supply Chain Content              9240 non-null   object \n",
      " 27  Get updates on DM Content                      9240 non-null   object \n",
      " 28  Lead Profile                                   6531 non-null   object \n",
      " 29  City                                           7820 non-null   object \n",
      " 30  Asymmetrique Activity Index                    5022 non-null   object \n",
      " 31  Asymmetrique Profile Index                     5022 non-null   object \n",
      " 32  Asymmetrique Activity Score                    5022 non-null   float64\n",
      " 33  Asymmetrique Profile Score                     5022 non-null   float64\n",
      " 34  I agree to pay the amount through cheque       9240 non-null   object \n",
      " 35  A free copy of Mastering The Interview         9240 non-null   object \n",
      " 36  Last Notable Activity                          9240 non-null   object \n",
      "dtypes: float64(4), int64(3), object(30)\n",
      "memory usage: 2.6+ MB\n"
     ]
    }
   ],
   "source": [
    "leads.info()"
   ]
  },
  {
   "cell_type": "code",
   "execution_count": 5,
   "id": "9b23fc10-8aae-4811-9954-0d528e4b09b8",
   "metadata": {},
   "outputs": [
    {
     "data": {
      "text/html": [
       "<div>\n",
       "<style scoped>\n",
       "    .dataframe tbody tr th:only-of-type {\n",
       "        vertical-align: middle;\n",
       "    }\n",
       "\n",
       "    .dataframe tbody tr th {\n",
       "        vertical-align: top;\n",
       "    }\n",
       "\n",
       "    .dataframe thead th {\n",
       "        text-align: right;\n",
       "    }\n",
       "</style>\n",
       "<table border=\"1\" class=\"dataframe\">\n",
       "  <thead>\n",
       "    <tr style=\"text-align: right;\">\n",
       "      <th></th>\n",
       "      <th>Lead Number</th>\n",
       "      <th>Converted</th>\n",
       "      <th>TotalVisits</th>\n",
       "      <th>Total Time Spent on Website</th>\n",
       "      <th>Page Views Per Visit</th>\n",
       "      <th>Asymmetrique Activity Score</th>\n",
       "      <th>Asymmetrique Profile Score</th>\n",
       "    </tr>\n",
       "  </thead>\n",
       "  <tbody>\n",
       "    <tr>\n",
       "      <th>count</th>\n",
       "      <td>9240.000000</td>\n",
       "      <td>9240.000000</td>\n",
       "      <td>9103.000000</td>\n",
       "      <td>9240.000000</td>\n",
       "      <td>9103.000000</td>\n",
       "      <td>5022.000000</td>\n",
       "      <td>5022.000000</td>\n",
       "    </tr>\n",
       "    <tr>\n",
       "      <th>mean</th>\n",
       "      <td>617188.435606</td>\n",
       "      <td>0.385390</td>\n",
       "      <td>3.445238</td>\n",
       "      <td>487.698268</td>\n",
       "      <td>2.362820</td>\n",
       "      <td>14.306252</td>\n",
       "      <td>16.344883</td>\n",
       "    </tr>\n",
       "    <tr>\n",
       "      <th>std</th>\n",
       "      <td>23405.995698</td>\n",
       "      <td>0.486714</td>\n",
       "      <td>4.854853</td>\n",
       "      <td>548.021466</td>\n",
       "      <td>2.161418</td>\n",
       "      <td>1.386694</td>\n",
       "      <td>1.811395</td>\n",
       "    </tr>\n",
       "    <tr>\n",
       "      <th>min</th>\n",
       "      <td>579533.000000</td>\n",
       "      <td>0.000000</td>\n",
       "      <td>0.000000</td>\n",
       "      <td>0.000000</td>\n",
       "      <td>0.000000</td>\n",
       "      <td>7.000000</td>\n",
       "      <td>11.000000</td>\n",
       "    </tr>\n",
       "    <tr>\n",
       "      <th>25%</th>\n",
       "      <td>596484.500000</td>\n",
       "      <td>0.000000</td>\n",
       "      <td>1.000000</td>\n",
       "      <td>12.000000</td>\n",
       "      <td>1.000000</td>\n",
       "      <td>14.000000</td>\n",
       "      <td>15.000000</td>\n",
       "    </tr>\n",
       "    <tr>\n",
       "      <th>50%</th>\n",
       "      <td>615479.000000</td>\n",
       "      <td>0.000000</td>\n",
       "      <td>3.000000</td>\n",
       "      <td>248.000000</td>\n",
       "      <td>2.000000</td>\n",
       "      <td>14.000000</td>\n",
       "      <td>16.000000</td>\n",
       "    </tr>\n",
       "    <tr>\n",
       "      <th>75%</th>\n",
       "      <td>637387.250000</td>\n",
       "      <td>1.000000</td>\n",
       "      <td>5.000000</td>\n",
       "      <td>936.000000</td>\n",
       "      <td>3.000000</td>\n",
       "      <td>15.000000</td>\n",
       "      <td>18.000000</td>\n",
       "    </tr>\n",
       "    <tr>\n",
       "      <th>max</th>\n",
       "      <td>660737.000000</td>\n",
       "      <td>1.000000</td>\n",
       "      <td>251.000000</td>\n",
       "      <td>2272.000000</td>\n",
       "      <td>55.000000</td>\n",
       "      <td>18.000000</td>\n",
       "      <td>20.000000</td>\n",
       "    </tr>\n",
       "  </tbody>\n",
       "</table>\n",
       "</div>"
      ],
      "text/plain": [
       "         Lead Number    Converted  TotalVisits  Total Time Spent on Website  \\\n",
       "count    9240.000000  9240.000000  9103.000000                  9240.000000   \n",
       "mean   617188.435606     0.385390     3.445238                   487.698268   \n",
       "std     23405.995698     0.486714     4.854853                   548.021466   \n",
       "min    579533.000000     0.000000     0.000000                     0.000000   \n",
       "25%    596484.500000     0.000000     1.000000                    12.000000   \n",
       "50%    615479.000000     0.000000     3.000000                   248.000000   \n",
       "75%    637387.250000     1.000000     5.000000                   936.000000   \n",
       "max    660737.000000     1.000000   251.000000                  2272.000000   \n",
       "\n",
       "       Page Views Per Visit  Asymmetrique Activity Score  \\\n",
       "count           9103.000000                  5022.000000   \n",
       "mean               2.362820                    14.306252   \n",
       "std                2.161418                     1.386694   \n",
       "min                0.000000                     7.000000   \n",
       "25%                1.000000                    14.000000   \n",
       "50%                2.000000                    14.000000   \n",
       "75%                3.000000                    15.000000   \n",
       "max               55.000000                    18.000000   \n",
       "\n",
       "       Asymmetrique Profile Score  \n",
       "count                 5022.000000  \n",
       "mean                    16.344883  \n",
       "std                      1.811395  \n",
       "min                     11.000000  \n",
       "25%                     15.000000  \n",
       "50%                     16.000000  \n",
       "75%                     18.000000  \n",
       "max                     20.000000  "
      ]
     },
     "execution_count": 5,
     "metadata": {},
     "output_type": "execute_result"
    }
   ],
   "source": [
    "leads.describe()"
   ]
  },
  {
   "cell_type": "markdown",
   "id": "6f5fc7b2-344c-436f-ba53-a5131ab67b86",
   "metadata": {},
   "source": [
    "## EXPLORATORY DATA ANALYSIS\n",
    "### Data understanding, preparation"
   ]
  },
  {
   "cell_type": "code",
   "execution_count": 6,
   "id": "b50a0298-5b9b-40e8-97ab-539861fa4a87",
   "metadata": {},
   "outputs": [
    {
     "data": {
      "text/plain": [
       "True"
      ]
     },
     "execution_count": 6,
     "metadata": {},
     "output_type": "execute_result"
    }
   ],
   "source": [
    "#check for duplicates\n",
    "\n",
    "sum(leads.duplicated(subset = 'Prospect ID')) == 0\n",
    "sum(leads.duplicated(subset = 'Lead Number')) == 0"
   ]
  },
  {
   "cell_type": "markdown",
   "id": "0c2db04d-8917-4f01-89a4-322bd6b784bb",
   "metadata": {},
   "source": [
    "## No duplicate values found in Prospect ID & Lead Number\n",
    "## Prospect ID & Lead Number are two variables that are just indicative of the ID number of the approched People so can be dropped."
   ]
  },
  {
   "cell_type": "code",
   "execution_count": 7,
   "id": "8108e33e-1091-412d-9cbd-3c82bde0bb0b",
   "metadata": {},
   "outputs": [],
   "source": [
    "#dropping Lead Number and Prospect ID since they have all unique values\n",
    "\n",
    "leads.drop(['Prospect ID', 'Lead Number'], 1, inplace = True)"
   ]
  },
  {
   "cell_type": "code",
   "execution_count": 8,
   "id": "7b161238-0815-4c0b-ab9a-6318a2b86934",
   "metadata": {},
   "outputs": [],
   "source": [
    "#Converting 'Select' values to NaN.\n",
    "\n",
    "leads = leads.replace('Select', np.nan)"
   ]
  },
  {
   "cell_type": "code",
   "execution_count": 9,
   "id": "731eb789-d014-4e4b-af8c-cfd352abd16c",
   "metadata": {},
   "outputs": [
    {
     "data": {
      "text/plain": [
       "Lead Origin                                         0\n",
       "Lead Source                                        36\n",
       "Do Not Email                                        0\n",
       "Do Not Call                                         0\n",
       "Converted                                           0\n",
       "TotalVisits                                       137\n",
       "Total Time Spent on Website                         0\n",
       "Page Views Per Visit                              137\n",
       "Last Activity                                     103\n",
       "Country                                          2461\n",
       "Specialization                                   3380\n",
       "How did you hear about X Education               7250\n",
       "What is your current occupation                  2690\n",
       "What matters most to you in choosing a course    2709\n",
       "Search                                              0\n",
       "Magazine                                            0\n",
       "Newspaper Article                                   0\n",
       "X Education Forums                                  0\n",
       "Newspaper                                           0\n",
       "Digital Advertisement                               0\n",
       "Through Recommendations                             0\n",
       "Receive More Updates About Our Courses              0\n",
       "Tags                                             3353\n",
       "Lead Quality                                     4767\n",
       "Update me on Supply Chain Content                   0\n",
       "Get updates on DM Content                           0\n",
       "Lead Profile                                     6855\n",
       "City                                             3669\n",
       "Asymmetrique Activity Index                      4218\n",
       "Asymmetrique Profile Index                       4218\n",
       "Asymmetrique Activity Score                      4218\n",
       "Asymmetrique Profile Score                       4218\n",
       "I agree to pay the amount through cheque            0\n",
       "A free copy of Mastering The Interview              0\n",
       "Last Notable Activity                               0\n",
       "dtype: int64"
      ]
     },
     "execution_count": 9,
     "metadata": {},
     "output_type": "execute_result"
    }
   ],
   "source": [
    "#checking null values in each rows\n",
    "\n",
    "leads.isnull().sum()"
   ]
  },
  {
   "cell_type": "code",
   "execution_count": 10,
   "id": "a6d2c3d4-edab-4280-97b3-0fde9102f3c6",
   "metadata": {},
   "outputs": [
    {
     "data": {
      "text/plain": [
       "Lead Origin                                       0.00\n",
       "Lead Source                                       0.39\n",
       "Do Not Email                                      0.00\n",
       "Do Not Call                                       0.00\n",
       "Converted                                         0.00\n",
       "TotalVisits                                       1.48\n",
       "Total Time Spent on Website                       0.00\n",
       "Page Views Per Visit                              1.48\n",
       "Last Activity                                     1.11\n",
       "Country                                          26.63\n",
       "Specialization                                   36.58\n",
       "How did you hear about X Education               78.46\n",
       "What is your current occupation                  29.11\n",
       "What matters most to you in choosing a course    29.32\n",
       "Search                                            0.00\n",
       "Magazine                                          0.00\n",
       "Newspaper Article                                 0.00\n",
       "X Education Forums                                0.00\n",
       "Newspaper                                         0.00\n",
       "Digital Advertisement                             0.00\n",
       "Through Recommendations                           0.00\n",
       "Receive More Updates About Our Courses            0.00\n",
       "Tags                                             36.29\n",
       "Lead Quality                                     51.59\n",
       "Update me on Supply Chain Content                 0.00\n",
       "Get updates on DM Content                         0.00\n",
       "Lead Profile                                     74.19\n",
       "City                                             39.71\n",
       "Asymmetrique Activity Index                      45.65\n",
       "Asymmetrique Profile Index                       45.65\n",
       "Asymmetrique Activity Score                      45.65\n",
       "Asymmetrique Profile Score                       45.65\n",
       "I agree to pay the amount through cheque          0.00\n",
       "A free copy of Mastering The Interview            0.00\n",
       "Last Notable Activity                             0.00\n",
       "dtype: float64"
      ]
     },
     "execution_count": 10,
     "metadata": {},
     "output_type": "execute_result"
    }
   ],
   "source": [
    "#checking percentage of null values in each column\n",
    "\n",
    "round(100*(leads.isnull().sum()/len(leads.index)), 2)"
   ]
  },
  {
   "cell_type": "code",
   "execution_count": 11,
   "id": "56fbaf59-7709-496f-bff5-ca2d84677fc8",
   "metadata": {},
   "outputs": [],
   "source": [
    "# Dropping cols with more than 40 % missing values\n",
    "\n",
    "cols=leads.columns\n",
    "\n",
    "for i in cols:\n",
    "    if((100*(leads[i].isnull().sum()/len(leads.index))) >= 40):\n",
    "        leads.drop(i, 1, inplace = True)"
   ]
  },
  {
   "cell_type": "code",
   "execution_count": 12,
   "id": "0f46305b-b4dc-44c5-b302-97f7a05065b1",
   "metadata": {},
   "outputs": [
    {
     "data": {
      "text/plain": [
       "Lead Origin                                       0.00\n",
       "Lead Source                                       0.39\n",
       "Do Not Email                                      0.00\n",
       "Do Not Call                                       0.00\n",
       "Converted                                         0.00\n",
       "TotalVisits                                       1.48\n",
       "Total Time Spent on Website                       0.00\n",
       "Page Views Per Visit                              1.48\n",
       "Last Activity                                     1.11\n",
       "Country                                          26.63\n",
       "Specialization                                   36.58\n",
       "What is your current occupation                  29.11\n",
       "What matters most to you in choosing a course    29.32\n",
       "Search                                            0.00\n",
       "Magazine                                          0.00\n",
       "Newspaper Article                                 0.00\n",
       "X Education Forums                                0.00\n",
       "Newspaper                                         0.00\n",
       "Digital Advertisement                             0.00\n",
       "Through Recommendations                           0.00\n",
       "Receive More Updates About Our Courses            0.00\n",
       "Tags                                             36.29\n",
       "Update me on Supply Chain Content                 0.00\n",
       "Get updates on DM Content                         0.00\n",
       "City                                             39.71\n",
       "I agree to pay the amount through cheque          0.00\n",
       "A free copy of Mastering The Interview            0.00\n",
       "Last Notable Activity                             0.00\n",
       "dtype: float64"
      ]
     },
     "execution_count": 12,
     "metadata": {},
     "output_type": "execute_result"
    }
   ],
   "source": [
    "#checking null values percentage\n",
    "\n",
    "round(100*(leads.isnull().sum()/len(leads.index)), 2)\n"
   ]
  },
  {
   "cell_type": "code",
   "execution_count": 13,
   "id": "4ae1e793-9718-4de2-8658-2063514bcaab",
   "metadata": {},
   "outputs": [
    {
     "data": {
      "text/plain": [
       "India                   6492\n",
       "NaN                     2461\n",
       "United States             69\n",
       "United Arab Emirates      53\n",
       "Singapore                 24\n",
       "Saudi Arabia              21\n",
       "United Kingdom            15\n",
       "Australia                 13\n",
       "Qatar                     10\n",
       "Bahrain                    7\n",
       "Hong Kong                  7\n",
       "Oman                       6\n",
       "France                     6\n",
       "unknown                    5\n",
       "Kuwait                     4\n",
       "South Africa               4\n",
       "Canada                     4\n",
       "Nigeria                    4\n",
       "Germany                    4\n",
       "Sweden                     3\n",
       "Philippines                2\n",
       "Uganda                     2\n",
       "Italy                      2\n",
       "Bangladesh                 2\n",
       "Netherlands                2\n",
       "Asia/Pacific Region        2\n",
       "China                      2\n",
       "Belgium                    2\n",
       "Ghana                      2\n",
       "Kenya                      1\n",
       "Sri Lanka                  1\n",
       "Tanzania                   1\n",
       "Malaysia                   1\n",
       "Liberia                    1\n",
       "Switzerland                1\n",
       "Denmark                    1\n",
       "Russia                     1\n",
       "Vietnam                    1\n",
       "Indonesia                  1\n",
       "Name: Country, dtype: int64"
      ]
     },
     "execution_count": 13,
     "metadata": {},
     "output_type": "execute_result"
    }
   ],
   "source": [
    "#checking value counts of Country column\n",
    "\n",
    "leads['Country'].value_counts(dropna=False)"
   ]
  },
  {
   "cell_type": "markdown",
   "id": "58253ad5-43bc-4784-a0a7-425cef821710",
   "metadata": {},
   "source": [
    "### As we can see the Number of Values for India are quite high (about 97% of the Data), this column can be dropped"
   ]
  },
  {
   "cell_type": "code",
   "execution_count": 16,
   "id": "d74b04e7-a464-4404-8bc9-0ce1ed041c79",
   "metadata": {},
   "outputs": [],
   "source": [
    "#creating a list of columns to be droppped\n",
    "\n",
    "cols_to_drop=['Country']"
   ]
  },
  {
   "cell_type": "code",
   "execution_count": 17,
   "id": "7cf39580-44e8-4914-90a6-275754ca1b86",
   "metadata": {},
   "outputs": [
    {
     "data": {
      "text/plain": [
       "NaN                            3669\n",
       "Mumbai                         3222\n",
       "Thane & Outskirts               752\n",
       "Other Cities                    686\n",
       "Other Cities of Maharashtra     457\n",
       "Other Metro Cities              380\n",
       "Tier II Cities                   74\n",
       "Name: City, dtype: int64"
      ]
     },
     "execution_count": 17,
     "metadata": {},
     "output_type": "execute_result"
    }
   ],
   "source": [
    "#checking value counts of \"City\" column\n",
    "\n",
    "leads['City'].value_counts(dropna=False)"
   ]
  },
  {
   "cell_type": "code",
   "execution_count": 18,
   "id": "187d34f3-c717-49ca-bc21-0b97766f73b7",
   "metadata": {},
   "outputs": [],
   "source": [
    "leads['City'] = leads['City'].replace(np.nan,'Mumbai')"
   ]
  },
  {
   "cell_type": "code",
   "execution_count": 86,
   "id": "a7664786-8c1e-4aaf-9e75-557b4ff415b7",
   "metadata": {},
   "outputs": [
    {
     "data": {
      "image/png": "[encoded data removed]",
      "text/plain": [
       "<Figure size 1000x500 with 1 Axes>"
      ]
     },
     "metadata": {},
     "output_type": "display_data"
    }
   ],
   "source": [
    "#plotting spread of City columnn after replacing NaN values\n",
    "\n",
    "plt.figure(figsize=(10,5))\n",
    "s1= sns.countplot(x= 'City', hue=leads.Converted, data= leads)\n",
    "s1.set_xticklabels(s1.get_xticklabels(),rotation=90)\n",
    "plt.show()\n"
   ]
  },
  {
   "cell_type": "code",
   "execution_count": 24,
   "id": "e95bfbb7-1ee8-43d4-a2f0-cb4451dc0e93",
   "metadata": {},
   "outputs": [
    {
     "data": {
      "text/plain": [
       "NaN                                  3380\n",
       "Finance Management                    976\n",
       "Human Resource Management             848\n",
       "Marketing Management                  838\n",
       "Operations Management                 503\n",
       "Business Administration               403\n",
       "IT Projects Management                366\n",
       "Supply Chain Management               349\n",
       "Banking, Investment And Insurance     338\n",
       "Travel and Tourism                    203\n",
       "Media and Advertising                 203\n",
       "International Business                178\n",
       "Healthcare Management                 159\n",
       "Hospitality Management                114\n",
       "E-COMMERCE                            112\n",
       "Retail Management                     100\n",
       "Rural and Agribusiness                 73\n",
       "E-Business                             57\n",
       "Services Excellence                    40\n",
       "Name: Specialization, dtype: int64"
      ]
     },
     "execution_count": 24,
     "metadata": {},
     "output_type": "execute_result"
    }
   ],
   "source": [
    "#checking value counts of Specialization column\n",
    "\n",
    "leads['Specialization'].value_counts(dropna=False)"
   ]
  },
  {
   "cell_type": "code",
   "execution_count": 25,
   "id": "2e667238-4c8d-448b-82a3-048d03b10d89",
   "metadata": {},
   "outputs": [],
   "source": [
    "# Lead may not have mentioned specialization because it was not in the list or maybe they are a students \n",
    "# and don't have a specialization yet. So we will replace NaN values here with 'Not Specified'\n",
    "\n",
    "leads['Specialization'] = leads['Specialization'].replace(np.nan, 'Not Specified')"
   ]
  },
  {
   "cell_type": "code",
   "execution_count": 85,
   "id": "740a4da4-3d73-44f7-bcfb-63910c293a53",
   "metadata": {},
   "outputs": [
    {
     "data": {
      "image/png": "[encoded data removed]",
      "text/plain": [
       "<Figure size 1500x500 with 1 Axes>"
      ]
     },
     "metadata": {},
     "output_type": "display_data"
    }
   ],
   "source": [
    "#plotting spread of Specialization columnn \n",
    "\n",
    "plt.figure(figsize=(15,5))\n",
    "s1=sns.countplot(x= 'Specialization', hue=leads.Converted, data= leads)\n",
    "s1.set_xticklabels(s1.get_xticklabels(),rotation=90)\n",
    "plt.show()"
   ]
  },
  {
   "cell_type": "code",
   "execution_count": 27,
   "id": "0a7d7fdb-689c-4bba-b4b4-9202093bff93",
   "metadata": {},
   "outputs": [],
   "source": [
    "#combining Management Specializations because they show similar trends\n",
    "\n",
    "leads['Specialization'] = leads['Specialization'].replace(['Finance Management','Human Resource Management',\n",
    "                                                           'Marketing Management','Operations Management',\n",
    "                                                           'IT Projects Management','Supply Chain Management',\n",
    "                                                    'Healthcare Management','Hospitality Management',\n",
    "                                                           'Retail Management'] ,'Management_Specializations')  "
   ]
  },
  {
   "cell_type": "code",
   "execution_count": 84,
   "id": "8598a4cf-6008-4e8e-8467-0a7596b90092",
   "metadata": {},
   "outputs": [
    {
     "data": {
      "image/png": "[encoded data removed]",
      "text/plain": [
       "<Figure size 1500x500 with 1 Axes>"
      ]
     },
     "metadata": {},
     "output_type": "display_data"
    }
   ],
   "source": [
    "#visualizing count of Variable based on Converted value\n",
    "\n",
    "\n",
    "plt.figure(figsize=(15,5))\n",
    "s1=sns.countplot(x='Specialization', hue=leads.Converted, data= leads)\n",
    "s1.set_xticklabels(s1.get_xticklabels(),rotation=90)\n",
    "plt.show()"
   ]
  },
  {
   "cell_type": "code",
   "execution_count": 29,
   "id": "c5c25906-72fc-464d-8be0-b59d0f0238ee",
   "metadata": {},
   "outputs": [
    {
     "data": {
      "text/plain": [
       "Unemployed              5600\n",
       "NaN                     2690\n",
       "Working Professional     706\n",
       "Student                  210\n",
       "Other                     16\n",
       "Housewife                 10\n",
       "Businessman                8\n",
       "Name: What is your current occupation, dtype: int64"
      ]
     },
     "execution_count": 29,
     "metadata": {},
     "output_type": "execute_result"
    }
   ],
   "source": [
    "#What is your current occupation\n",
    "\n",
    "leads['What is your current occupation'].value_counts(dropna=False)"
   ]
  },
  {
   "cell_type": "code",
   "execution_count": 30,
   "id": "9e5ae682-e958-438a-8f42-b3c1c2a384af",
   "metadata": {},
   "outputs": [],
   "source": [
    "#imputing Nan values with mode \"Unemployed\"\n",
    "\n",
    "leads['What is your current occupation'] = leads['What is your current occupation'].replace(np.nan, 'Unemployed')"
   ]
  },
  {
   "cell_type": "code",
   "execution_count": 31,
   "id": "7babc294-a11e-4213-ad3a-d048de1532ec",
   "metadata": {},
   "outputs": [
    {
     "data": {
      "text/plain": [
       "Unemployed              8290\n",
       "Working Professional     706\n",
       "Student                  210\n",
       "Other                     16\n",
       "Housewife                 10\n",
       "Businessman                8\n",
       "Name: What is your current occupation, dtype: int64"
      ]
     },
     "execution_count": 31,
     "metadata": {},
     "output_type": "execute_result"
    }
   ],
   "source": [
    "#checking count of values\n",
    "leads['What is your current occupation'].value_counts(dropna=False)"
   ]
  },
  {
   "cell_type": "code",
   "execution_count": 83,
   "id": "42daf848-6646-46c3-a60e-a88df3dc4ac4",
   "metadata": {},
   "outputs": [
    {
     "data": {
      "image/png": "[encoded data removed]",
      "text/plain": [
       "<Figure size 640x480 with 1 Axes>"
      ]
     },
     "metadata": {},
     "output_type": "display_data"
    }
   ],
   "source": [
    "#visualizing count of Variable based on Converted value\n",
    "\n",
    "s1=sns.countplot(x= 'What is your current occupation', hue=leads.Converted, data= leads)\n",
    "s1.set_xticklabels(s1.get_xticklabels(),rotation=90)\n",
    "plt.show()"
   ]
  },
  {
   "cell_type": "markdown",
   "id": "ad9bff92-9569-46da-9d00-70cbb12fa6e3",
   "metadata": {},
   "source": [
    "## Working Professionals going for the course have high chances of joining it. Unemployed leads are the most in terms of Absolute numbers."
   ]
  },
  {
   "cell_type": "code",
   "execution_count": 34,
   "id": "6c31e7a8-f51a-4e8a-8cd4-d8b844faa3da",
   "metadata": {},
   "outputs": [
    {
     "data": {
      "text/plain": [
       "Better Career Prospects      6528\n",
       "NaN                          2709\n",
       "Flexibility & Convenience       2\n",
       "Other                           1\n",
       "Name: What matters most to you in choosing a course, dtype: int64"
      ]
     },
     "execution_count": 34,
     "metadata": {},
     "output_type": "execute_result"
    }
   ],
   "source": [
    "#checking value counts\n",
    "\n",
    "leads['What matters most to you in choosing a course'].value_counts(dropna=False)"
   ]
  },
  {
   "cell_type": "code",
   "execution_count": 35,
   "id": "f3b75bd1-22d0-4e45-bf05-f8ab1c43dccf",
   "metadata": {},
   "outputs": [],
   "source": [
    "#replacing Nan values with Mode \"Better Career Prospects\"\n",
    "\n",
    "leads['What matters most to you in choosing a course'] = leads['What matters most to you in choosing a course'].replace(np.nan,'Better Career Prospects')"
   ]
  },
  {
   "cell_type": "code",
   "execution_count": 82,
   "id": "2d4f94f9-f726-4752-8aa4-a1c77e4e7933",
   "metadata": {},
   "outputs": [
    {
     "data": {
      "image/png": "[encoded data removed]",
      "text/plain": [
       "<Figure size 640x480 with 1 Axes>"
      ]
     },
     "metadata": {},
     "output_type": "display_data"
    }
   ],
   "source": [
    "#visualizing count of Variable based on Converted value\n",
    "\n",
    "s1=sns.countplot(x='What matters most to you in choosing a course', hue=leads.Converted, data= leads)\n",
    "s1.set_xticklabels(s1.get_xticklabels(),rotation=90)\n",
    "plt.show()"
   ]
  },
  {
   "cell_type": "code",
   "execution_count": 37,
   "id": "11d40ddb-6039-4981-8d82-bb596ce8ed3a",
   "metadata": {},
   "outputs": [
    {
     "data": {
      "text/plain": [
       "Better Career Prospects      9237\n",
       "Flexibility & Convenience       2\n",
       "Other                           1\n",
       "Name: What matters most to you in choosing a course, dtype: int64"
      ]
     },
     "execution_count": 37,
     "metadata": {},
     "output_type": "execute_result"
    }
   ],
   "source": [
    "#checking value counts of variable\n",
    "leads['What matters most to you in choosing a course'].value_counts(dropna=False)"
   ]
  },
  {
   "cell_type": "code",
   "execution_count": 38,
   "id": "a0964918-cc46-493e-bc12-9cb8fb078917",
   "metadata": {},
   "outputs": [
    {
     "data": {
      "text/plain": [
       "['Country', 'What matters most to you in choosing a course']"
      ]
     },
     "execution_count": 38,
     "metadata": {},
     "output_type": "execute_result"
    }
   ],
   "source": [
    "#Here again we have another Column that is worth Dropping. So we Append to the cols_to_drop List\n",
    "cols_to_drop.append('What matters most to you in choosing a course')\n",
    "cols_to_drop"
   ]
  },
  {
   "cell_type": "code",
   "execution_count": 39,
   "id": "d656cf36-3ec4-4400-9251-059a0bcb27fe",
   "metadata": {},
   "outputs": [
    {
     "data": {
      "text/plain": [
       "NaN                                                  3353\n",
       "Will revert after reading the email                  2072\n",
       "Ringing                                              1203\n",
       "Interested in other courses                           513\n",
       "Already a student                                     465\n",
       "Closed by Horizzon                                    358\n",
       "switched off                                          240\n",
       "Busy                                                  186\n",
       "Lost to EINS                                          175\n",
       "Not doing further education                           145\n",
       "Interested  in full time MBA                          117\n",
       "Graduation in progress                                111\n",
       "invalid number                                         83\n",
       "Diploma holder (Not Eligible)                          63\n",
       "wrong number given                                     47\n",
       "opp hangup                                             33\n",
       "number not provided                                    27\n",
       "in touch with EINS                                     12\n",
       "Lost to Others                                          7\n",
       "Still Thinking                                          6\n",
       "Want to take admission but has financial problems       6\n",
       "In confusion whether part time or DLP                   5\n",
       "Interested in Next batch                                5\n",
       "Lateral student                                         3\n",
       "Shall take in the next coming month                     2\n",
       "University not recognized                               2\n",
       "Recognition issue (DEC approval)                        1\n",
       "Name: Tags, dtype: int64"
      ]
     },
     "execution_count": 39,
     "metadata": {},
     "output_type": "execute_result"
    }
   ],
   "source": [
    "#checking value counts of Tag variable\n",
    "leads['Tags'].value_counts(dropna=False)"
   ]
  },
  {
   "cell_type": "code",
   "execution_count": 40,
   "id": "18072407-e991-41b6-82ca-bc94f27e987e",
   "metadata": {},
   "outputs": [],
   "source": [
    "#replacing Nan values with \"Not Specified\"\n",
    "leads['Tags'] = leads['Tags'].replace(np.nan,'Not Specified')"
   ]
  },
  {
   "cell_type": "code",
   "execution_count": 81,
   "id": "7399d9d9-c507-478d-ab37-8d7b3a7d48af",
   "metadata": {},
   "outputs": [
    {
     "data": {
      "image/png": "[encoded data removed]",
      "text/plain": [
       "<Figure size 1500x500 with 1 Axes>"
      ]
     },
     "metadata": {},
     "output_type": "display_data"
    }
   ],
   "source": [
    "#visualizing count of Variable based on Converted value\n",
    "\n",
    "plt.figure(figsize=(15,5))\n",
    "s1=sns.countplot(x='Tags', hue=leads.Converted, data= leads)\n",
    "s1.set_xticklabels(s1.get_xticklabels(),rotation=90)\n",
    "plt.show()"
   ]
  },
  {
   "cell_type": "code",
   "execution_count": 43,
   "id": "0bede371-cffe-46f5-84e4-9d2e182692f3",
   "metadata": {},
   "outputs": [],
   "source": [
    "#replacing tags with low frequency with \"Other Tags\"\n",
    "leads['Tags'] = leads['Tags'].replace(['In confusion whether part time or DLP', 'in touch with EINS','Diploma holder (Not Eligible)',\n",
    "                                     'Approached upfront','Graduation in progress','number not provided', 'opp hangup','Still Thinking',\n",
    "                                    'Lost to Others','Shall take in the next coming month','Lateral student','Interested in Next batch',\n",
    "                                    'Recognition issue (DEC approval)','Want to take admission but has financial problems',\n",
    "                                    'University not recognized'], 'Other_Tags')\n",
    "\n",
    "leads['Tags'] = leads['Tags'].replace(['switched off',\n",
    "                                      'Already a student',\n",
    "                                       'Not doing further education',\n",
    "                                       'invalid number',\n",
    "                                       'wrong number given',\n",
    "                                       'Interested  in full time MBA'] , 'Other_Tags')"
   ]
  },
  {
   "cell_type": "code",
   "execution_count": 44,
   "id": "da6e89af-d64e-4dda-83e5-6286181b2845",
   "metadata": {},
   "outputs": [
    {
     "data": {
      "text/plain": [
       "Lead Origin                                       0.00\n",
       "Lead Source                                       0.39\n",
       "Do Not Email                                      0.00\n",
       "Do Not Call                                       0.00\n",
       "Converted                                         0.00\n",
       "TotalVisits                                       1.48\n",
       "Total Time Spent on Website                       0.00\n",
       "Page Views Per Visit                              1.48\n",
       "Last Activity                                     1.11\n",
       "Country                                          26.63\n",
       "Specialization                                    0.00\n",
       "What is your current occupation                   0.00\n",
       "What matters most to you in choosing a course     0.00\n",
       "Search                                            0.00\n",
       "Magazine                                          0.00\n",
       "Newspaper Article                                 0.00\n",
       "X Education Forums                                0.00\n",
       "Newspaper                                         0.00\n",
       "Digital Advertisement                             0.00\n",
       "Through Recommendations                           0.00\n",
       "Receive More Updates About Our Courses            0.00\n",
       "Tags                                              0.00\n",
       "Update me on Supply Chain Content                 0.00\n",
       "Get updates on DM Content                         0.00\n",
       "City                                              0.00\n",
       "I agree to pay the amount through cheque          0.00\n",
       "A free copy of Mastering The Interview            0.00\n",
       "Last Notable Activity                             0.00\n",
       "dtype: float64"
      ]
     },
     "execution_count": 44,
     "metadata": {},
     "output_type": "execute_result"
    }
   ],
   "source": [
    "#checking percentage of missing values\n",
    "round(100*(leads.isnull().sum()/len(leads.index)), 2)"
   ]
  },
  {
   "cell_type": "code",
   "execution_count": 45,
   "id": "1de5667f-f9bb-4595-b3e3-620a4fb75d3a",
   "metadata": {},
   "outputs": [
    {
     "data": {
      "text/plain": [
       "Google               2868\n",
       "Direct Traffic       2543\n",
       "Olark Chat           1755\n",
       "Organic Search       1154\n",
       "Reference             534\n",
       "Welingak Website      142\n",
       "Referral Sites        125\n",
       "Facebook               55\n",
       "NaN                    36\n",
       "bing                    6\n",
       "google                  5\n",
       "Click2call              4\n",
       "Press_Release           2\n",
       "Social Media            2\n",
       "Live Chat               2\n",
       "youtubechannel          1\n",
       "testone                 1\n",
       "Pay per Click Ads       1\n",
       "welearnblog_Home        1\n",
       "WeLearn                 1\n",
       "blog                    1\n",
       "NC_EDM                  1\n",
       "Name: Lead Source, dtype: int64"
      ]
     },
     "execution_count": 45,
     "metadata": {},
     "output_type": "execute_result"
    }
   ],
   "source": [
    "#checking value counts of Lead Source column\n",
    "\n",
    "leads['Lead Source'].value_counts(dropna=False)"
   ]
  },
  {
   "cell_type": "code",
   "execution_count": 46,
   "id": "440b3193-64a5-4981-b172-43a593f9dba7",
   "metadata": {},
   "outputs": [],
   "source": [
    "#replacing Nan Values and combining low frequency values\n",
    "leads['Lead Source'] = leads['Lead Source'].replace(np.nan,'Others')\n",
    "leads['Lead Source'] = leads['Lead Source'].replace('google','Google')\n",
    "leads['Lead Source'] = leads['Lead Source'].replace('Facebook','Social Media')\n",
    "leads['Lead Source'] = leads['Lead Source'].replace(['bing','Click2call','Press_Release',\n",
    "                                                     'youtubechannel','welearnblog_Home',\n",
    "                                                     'WeLearn','blog','Pay per Click Ads',\n",
    "                                                    'testone','NC_EDM'] ,'Others') "
   ]
  },
  {
   "cell_type": "markdown",
   "id": "91c64b64-2591-4777-a5b1-0de2bfe00fca",
   "metadata": {},
   "source": [
    "### We can group some of the lower frequency occuring labels under a common label 'Others'"
   ]
  },
  {
   "cell_type": "code",
   "execution_count": 80,
   "id": "e4a249a0-1eb6-4ca3-a9a9-fb31a7be4341",
   "metadata": {},
   "outputs": [
    {
     "data": {
      "image/png": "[encoded data removed]",
      "text/plain": [
       "<Figure size 1500x500 with 1 Axes>"
      ]
     },
     "metadata": {},
     "output_type": "display_data"
    }
   ],
   "source": [
    "#visualizing count of Variable based on Converted value\n",
    "plt.figure(figsize=(15,5))\n",
    "s1=sns.countplot(x='Lead Source', hue=leads.Converted, data= leads)\n",
    "s1.set_xticklabels(s1.get_xticklabels(),rotation=90)\n",
    "plt.show()"
   ]
  },
  {
   "cell_type": "markdown",
   "id": "d39cbb79-238b-4dd0-adf7-150ae8f7805e",
   "metadata": {},
   "source": [
    "### Inference\n",
    "\n",
    "### Maximum number of leads are generated by Google and Direct traffic.\n",
    "### Conversion Rate of reference leads and leads through welingak website is high.\n",
    "### To improve overall lead conversion rate, focus should be on improving lead converion of olark chat, organic search, direct traffic, and google leads and generate more leads from reference and welingak website."
   ]
  },
  {
   "cell_type": "code",
   "execution_count": 48,
   "id": "2ee5d3fb-4086-47bf-b0b9-ee68b4bb4b95",
   "metadata": {},
   "outputs": [
    {
     "data": {
      "text/plain": [
       "Email Opened                    3437\n",
       "SMS Sent                        2745\n",
       "Olark Chat Conversation          973\n",
       "Page Visited on Website          640\n",
       "Converted to Lead                428\n",
       "Email Bounced                    326\n",
       "Email Link Clicked               267\n",
       "Form Submitted on Website        116\n",
       "NaN                              103\n",
       "Unreachable                       93\n",
       "Unsubscribed                      61\n",
       "Had a Phone Conversation          30\n",
       "Approached upfront                 9\n",
       "View in browser link Clicked       6\n",
       "Email Received                     2\n",
       "Email Marked Spam                  2\n",
       "Visited Booth in Tradeshow         1\n",
       "Resubscribed to emails             1\n",
       "Name: Last Activity, dtype: int64"
      ]
     },
     "execution_count": 48,
     "metadata": {},
     "output_type": "execute_result"
    }
   ],
   "source": [
    "# Last Activity:\n",
    "\n",
    "leads['Last Activity'].value_counts(dropna=False)"
   ]
  },
  {
   "cell_type": "code",
   "execution_count": 49,
   "id": "73f48e98-8e62-44f2-8670-badd0ab78245",
   "metadata": {},
   "outputs": [],
   "source": [
    "#replacing Nan Values and combining low frequency values\n",
    "\n",
    "leads['Last Activity'] = leads['Last Activity'].replace(np.nan,'Others')\n",
    "leads['Last Activity'] = leads['Last Activity'].replace(['Unreachable','Unsubscribed',\n",
    "                                                        'Had a Phone Conversation', \n",
    "                                                        'Approached upfront',\n",
    "                                                        'View in browser link Clicked',       \n",
    "                                                        'Email Marked Spam',                  \n",
    "                                                        'Email Received','Resubscribed to emails',\n",
    "                                                         'Visited Booth in Tradeshow'],'Others')"
   ]
  },
  {
   "cell_type": "code",
   "execution_count": 50,
   "id": "bb91d4d0-ba4a-4dfe-83d2-79ab96c9071b",
   "metadata": {},
   "outputs": [
    {
     "data": {
      "text/plain": [
       "Email Opened                 3437\n",
       "SMS Sent                     2745\n",
       "Olark Chat Conversation       973\n",
       "Page Visited on Website       640\n",
       "Converted to Lead             428\n",
       "Email Bounced                 326\n",
       "Others                        308\n",
       "Email Link Clicked            267\n",
       "Form Submitted on Website     116\n",
       "Name: Last Activity, dtype: int64"
      ]
     },
     "execution_count": 50,
     "metadata": {},
     "output_type": "execute_result"
    }
   ],
   "source": [
    "# Last Activity:\n",
    "\n",
    "leads['Last Activity'].value_counts(dropna=False)"
   ]
  },
  {
   "cell_type": "code",
   "execution_count": 51,
   "id": "b20da9b9-6108-4eb1-83c7-5e5dbea7d198",
   "metadata": {},
   "outputs": [
    {
     "data": {
      "text/plain": [
       "Lead Origin                                       0.00\n",
       "Lead Source                                       0.00\n",
       "Do Not Email                                      0.00\n",
       "Do Not Call                                       0.00\n",
       "Converted                                         0.00\n",
       "TotalVisits                                       1.48\n",
       "Total Time Spent on Website                       0.00\n",
       "Page Views Per Visit                              1.48\n",
       "Last Activity                                     0.00\n",
       "Country                                          26.63\n",
       "Specialization                                    0.00\n",
       "What is your current occupation                   0.00\n",
       "What matters most to you in choosing a course     0.00\n",
       "Search                                            0.00\n",
       "Magazine                                          0.00\n",
       "Newspaper Article                                 0.00\n",
       "X Education Forums                                0.00\n",
       "Newspaper                                         0.00\n",
       "Digital Advertisement                             0.00\n",
       "Through Recommendations                           0.00\n",
       "Receive More Updates About Our Courses            0.00\n",
       "Tags                                              0.00\n",
       "Update me on Supply Chain Content                 0.00\n",
       "Get updates on DM Content                         0.00\n",
       "City                                              0.00\n",
       "I agree to pay the amount through cheque          0.00\n",
       "A free copy of Mastering The Interview            0.00\n",
       "Last Notable Activity                             0.00\n",
       "dtype: float64"
      ]
     },
     "execution_count": 51,
     "metadata": {},
     "output_type": "execute_result"
    }
   ],
   "source": [
    "#Check the Null Values in All Columns:\n",
    "round(100*(leads.isnull().sum()/len(leads.index)), 2)"
   ]
  },
  {
   "cell_type": "code",
   "execution_count": 52,
   "id": "ba127bb4-d807-4511-8569-236e3851fcc5",
   "metadata": {},
   "outputs": [],
   "source": [
    "#Drop all rows which have Nan Values. Since the number of Dropped rows is less than 2%, it will not affect the model\n",
    "leads = leads.dropna()"
   ]
  },
  {
   "cell_type": "code",
   "execution_count": 53,
   "id": "5b86849d-5d62-4e3b-9668-3b931817a39b",
   "metadata": {},
   "outputs": [
    {
     "data": {
      "text/plain": [
       "Lead Origin                                      0.0\n",
       "Lead Source                                      0.0\n",
       "Do Not Email                                     0.0\n",
       "Do Not Call                                      0.0\n",
       "Converted                                        0.0\n",
       "TotalVisits                                      0.0\n",
       "Total Time Spent on Website                      0.0\n",
       "Page Views Per Visit                             0.0\n",
       "Last Activity                                    0.0\n",
       "Country                                          0.0\n",
       "Specialization                                   0.0\n",
       "What is your current occupation                  0.0\n",
       "What matters most to you in choosing a course    0.0\n",
       "Search                                           0.0\n",
       "Magazine                                         0.0\n",
       "Newspaper Article                                0.0\n",
       "X Education Forums                               0.0\n",
       "Newspaper                                        0.0\n",
       "Digital Advertisement                            0.0\n",
       "Through Recommendations                          0.0\n",
       "Receive More Updates About Our Courses           0.0\n",
       "Tags                                             0.0\n",
       "Update me on Supply Chain Content                0.0\n",
       "Get updates on DM Content                        0.0\n",
       "City                                             0.0\n",
       "I agree to pay the amount through cheque         0.0\n",
       "A free copy of Mastering The Interview           0.0\n",
       "Last Notable Activity                            0.0\n",
       "dtype: float64"
      ]
     },
     "execution_count": 53,
     "metadata": {},
     "output_type": "execute_result"
    }
   ],
   "source": [
    "#Checking percentage of Null Values in All Columns:\n",
    "round(100*(leads.isnull().sum()/len(leads.index)), 2)"
   ]
  },
  {
   "cell_type": "code",
   "execution_count": 54,
   "id": "5c5a4716-07cc-4160-85ae-362fe4cf7826",
   "metadata": {},
   "outputs": [
    {
     "data": {
      "text/plain": [
       "Landing Page Submission    4850\n",
       "API                        1902\n",
       "Lead Add Form                27\n",
       "Name: Lead Origin, dtype: int64"
      ]
     },
     "execution_count": 54,
     "metadata": {},
     "output_type": "execute_result"
    }
   ],
   "source": [
    "#Lead Origin\n",
    "leads['Lead Origin'].value_counts(dropna=False)"
   ]
  },
  {
   "cell_type": "code",
   "execution_count": 79,
   "id": "3191dff7-e1ee-4650-a21e-b9203c0b7d8c",
   "metadata": {},
   "outputs": [
    {
     "data": {
      "image/png": "[encoded data removed]",
      "text/plain": [
       "<Figure size 800x500 with 1 Axes>"
      ]
     },
     "metadata": {},
     "output_type": "display_data"
    }
   ],
   "source": [
    "#visualizing count of Variable based on Converted value\n",
    "\n",
    "plt.figure(figsize=(8,5))\n",
    "s1=sns.countplot(x='Lead Origin', hue=leads.Converted, data= leads)\n",
    "s1.set_xticklabels(s1.get_xticklabels(),rotation=90)\n",
    "plt.show()"
   ]
  },
  {
   "cell_type": "markdown",
   "id": "6d714d1b-e608-4ed4-99b5-e3cf971cd323",
   "metadata": {},
   "source": [
    "### Inference\n",
    "\n",
    "#### API and Landing Page Submission bring higher number of leads as well as conversion.\n",
    "#### Lead Add Form has a very high conversion rate but count of leads are not very high.\n",
    "#### Lead Import and Quick Add Form get very few leads.\n",
    "#### In order to improve overall lead conversion rate, we have to improve lead converion of API and Landing Page Submission origin and generate more leads from Lead Add Form."
   ]
  },
  {
   "cell_type": "code",
   "execution_count": 78,
   "id": "f7c32dbc-2b4a-4b2d-a459-22cc591b1c50",
   "metadata": {},
   "outputs": [
    {
     "data": {
      "image/png": "[encoded data removed]",
      "text/plain": [
       "<Figure size 1500x500 with 2 Axes>"
      ]
     },
     "metadata": {},
     "output_type": "display_data"
    }
   ],
   "source": [
    "#Do Not Email & Do Not Call\n",
    "#visualizing count of Variable based on Converted value\n",
    "\n",
    "plt.figure(figsize=(15,5))\n",
    "\n",
    "ax1=plt.subplot(1, 2, 1)\n",
    "ax1=sns.countplot(x='Do Not Call',  hue=leads.Converted, data= leads)\n",
    "ax1.set_xticklabels(ax1.get_xticklabels(),rotation=90)\n",
    "\n",
    "ax2=plt.subplot(1, 2, 2)\n",
    "ax2=sns.countplot(x= 'Do Not Email',  hue=leads.Converted, data= leads)\n",
    "ax2.set_xticklabels(ax2.get_xticklabels(),rotation=90)\n",
    "plt.show()"
   ]
  },
  {
   "cell_type": "code",
   "execution_count": 57,
   "id": "6e956401-3e2b-4cf5-8940-e444f1477a37",
   "metadata": {},
   "outputs": [
    {
     "data": {
      "text/plain": [
       "No     6778\n",
       "Yes       1\n",
       "Name: Do Not Call, dtype: int64"
      ]
     },
     "execution_count": 57,
     "metadata": {},
     "output_type": "execute_result"
    }
   ],
   "source": [
    "#checking value counts for Do Not Call\n",
    "leads['Do Not Call'].value_counts(dropna=False)"
   ]
  },
  {
   "cell_type": "code",
   "execution_count": 58,
   "id": "36a9e1dc-1de6-4811-b7cf-80d18b5d706a",
   "metadata": {},
   "outputs": [
    {
     "data": {
      "text/plain": [
       "No     6186\n",
       "Yes     593\n",
       "Name: Do Not Email, dtype: int64"
      ]
     },
     "execution_count": 58,
     "metadata": {},
     "output_type": "execute_result"
    }
   ],
   "source": [
    "#checking value counts for Do Not Email\n",
    "leads['Do Not Email'].value_counts(dropna=False)"
   ]
  },
  {
   "cell_type": "markdown",
   "id": "b595cd1f-83ab-402f-8e7e-2c89bd9745a2",
   "metadata": {},
   "source": [
    "### We Can append the Do Not Call Column to the list of Columns to be Dropped since > 90% is of only one Value"
   ]
  },
  {
   "cell_type": "code",
   "execution_count": 59,
   "id": "0f908e52-f21e-4d67-982a-f0efc40efe55",
   "metadata": {},
   "outputs": [
    {
     "data": {
      "text/plain": [
       "['Country', 'What matters most to you in choosing a course', 'Do Not Call']"
      ]
     },
     "execution_count": 59,
     "metadata": {},
     "output_type": "execute_result"
    }
   ],
   "source": [
    "cols_to_drop.append('Do Not Call')\n",
    "cols_to_drop"
   ]
  },
  {
   "cell_type": "code",
   "execution_count": 60,
   "id": "f1e83bf1-ad0a-48c6-bb2a-3b20a29d0c14",
   "metadata": {},
   "outputs": [
    {
     "data": {
      "text/plain": [
       "No     6765\n",
       "Yes      14\n",
       "Name: Search, dtype: int64"
      ]
     },
     "execution_count": 60,
     "metadata": {},
     "output_type": "execute_result"
    }
   ],
   "source": [
    "leads.Search.value_counts(dropna=False)"
   ]
  },
  {
   "cell_type": "code",
   "execution_count": 61,
   "id": "7b33bba5-b881-4e07-b89c-cf348d4f6a0d",
   "metadata": {},
   "outputs": [
    {
     "data": {
      "text/plain": [
       "No    6779\n",
       "Name: Magazine, dtype: int64"
      ]
     },
     "execution_count": 61,
     "metadata": {},
     "output_type": "execute_result"
    }
   ],
   "source": [
    "leads.Magazine.value_counts(dropna=False)"
   ]
  },
  {
   "cell_type": "code",
   "execution_count": 62,
   "id": "d672878d-c663-4168-9d85-222016b6360b",
   "metadata": {},
   "outputs": [
    {
     "data": {
      "text/plain": [
       "No     6777\n",
       "Yes       2\n",
       "Name: Newspaper Article, dtype: int64"
      ]
     },
     "execution_count": 62,
     "metadata": {},
     "output_type": "execute_result"
    }
   ],
   "source": [
    "leads['Newspaper Article'].value_counts(dropna=False)"
   ]
  },
  {
   "cell_type": "code",
   "execution_count": 63,
   "id": "926d4049-aa86-4250-b5c8-7b1895f9e3b0",
   "metadata": {},
   "outputs": [
    {
     "data": {
      "text/plain": [
       "No     6778\n",
       "Yes       1\n",
       "Name: X Education Forums, dtype: int64"
      ]
     },
     "execution_count": 63,
     "metadata": {},
     "output_type": "execute_result"
    }
   ],
   "source": [
    "leads['X Education Forums'].value_counts(dropna=False)"
   ]
  },
  {
   "cell_type": "code",
   "execution_count": 64,
   "id": "a38f2906-6ca4-43ab-9019-ed1a230d4c29",
   "metadata": {},
   "outputs": [
    {
     "data": {
      "text/plain": [
       "No     6778\n",
       "Yes       1\n",
       "Name: Newspaper, dtype: int64"
      ]
     },
     "execution_count": 64,
     "metadata": {},
     "output_type": "execute_result"
    }
   ],
   "source": [
    "leads['Newspaper'].value_counts(dropna=False)"
   ]
  },
  {
   "cell_type": "code",
   "execution_count": 65,
   "id": "04d85a23-ab9e-4bd6-b6a1-d86969d84a0c",
   "metadata": {},
   "outputs": [
    {
     "data": {
      "text/plain": [
       "No     6775\n",
       "Yes       4\n",
       "Name: Digital Advertisement, dtype: int64"
      ]
     },
     "execution_count": 65,
     "metadata": {},
     "output_type": "execute_result"
    }
   ],
   "source": [
    "leads['Digital Advertisement'].value_counts(dropna=False)"
   ]
  },
  {
   "cell_type": "code",
   "execution_count": 66,
   "id": "f5919a35-65a5-4189-a025-78c16e83bd80",
   "metadata": {},
   "outputs": [
    {
     "data": {
      "text/plain": [
       "No     6772\n",
       "Yes       7\n",
       "Name: Through Recommendations, dtype: int64"
      ]
     },
     "execution_count": 66,
     "metadata": {},
     "output_type": "execute_result"
    }
   ],
   "source": [
    "leads['Through Recommendations'].value_counts(dropna=False)"
   ]
  },
  {
   "cell_type": "code",
   "execution_count": 67,
   "id": "ad8b98ce-9812-4db5-afdd-32088aa65cd2",
   "metadata": {},
   "outputs": [
    {
     "data": {
      "text/plain": [
       "No    6779\n",
       "Name: Receive More Updates About Our Courses, dtype: int64"
      ]
     },
     "execution_count": 67,
     "metadata": {},
     "output_type": "execute_result"
    }
   ],
   "source": [
    "leads['Receive More Updates About Our Courses'].value_counts(dropna=False)"
   ]
  },
  {
   "cell_type": "code",
   "execution_count": 68,
   "id": "c6327e00-4b33-4f72-8fb9-7249cad2d791",
   "metadata": {},
   "outputs": [
    {
     "data": {
      "text/plain": [
       "No    6779\n",
       "Name: Update me on Supply Chain Content, dtype: int64"
      ]
     },
     "execution_count": 68,
     "metadata": {},
     "output_type": "execute_result"
    }
   ],
   "source": [
    "leads['Update me on Supply Chain Content'].value_counts(dropna=False)"
   ]
  },
  {
   "cell_type": "code",
   "execution_count": 69,
   "id": "3f27b607-6cc7-459a-8a57-9b7d49dc02fd",
   "metadata": {},
   "outputs": [
    {
     "data": {
      "text/plain": [
       "No    6779\n",
       "Name: Get updates on DM Content, dtype: int64"
      ]
     },
     "execution_count": 69,
     "metadata": {},
     "output_type": "execute_result"
    }
   ],
   "source": [
    "leads['Get updates on DM Content'].value_counts(dropna=False)"
   ]
  },
  {
   "cell_type": "code",
   "execution_count": 70,
   "id": "1df368a6-7ebb-4df8-979c-f7534bc79b6f",
   "metadata": {},
   "outputs": [
    {
     "data": {
      "text/plain": [
       "No    6779\n",
       "Name: I agree to pay the amount through cheque, dtype: int64"
      ]
     },
     "execution_count": 70,
     "metadata": {},
     "output_type": "execute_result"
    }
   ],
   "source": [
    "leads['I agree to pay the amount through cheque'].value_counts(dropna=False)"
   ]
  },
  {
   "cell_type": "code",
   "execution_count": 71,
   "id": "b9cc807c-7b52-4035-b336-b6f0c40f74c3",
   "metadata": {},
   "outputs": [
    {
     "data": {
      "text/plain": [
       "No     3913\n",
       "Yes    2866\n",
       "Name: A free copy of Mastering The Interview, dtype: int64"
      ]
     },
     "execution_count": 71,
     "metadata": {},
     "output_type": "execute_result"
    }
   ],
   "source": [
    "leads['A free copy of Mastering The Interview'].value_counts(dropna=False)"
   ]
  },
  {
   "cell_type": "code",
   "execution_count": 72,
   "id": "f2fceb0f-d128-4da8-b814-d9a1b344fa84",
   "metadata": {},
   "outputs": [],
   "source": [
    "#adding imbalanced columns to the list of columns to be dropped\n",
    "\n",
    "cols_to_drop.extend(['Search','Magazine','Newspaper Article','X Education Forums','Newspaper',\n",
    "                 'Digital Advertisement','Through Recommendations','Receive More Updates About Our Courses',\n",
    "                 'Update me on Supply Chain Content',\n",
    "                 'Get updates on DM Content','I agree to pay the amount through cheque'])"
   ]
  },
  {
   "cell_type": "code",
   "execution_count": 73,
   "id": "b38bf763-a25b-4ea2-aa1e-2a2b17307f4a",
   "metadata": {},
   "outputs": [
    {
     "data": {
      "text/plain": [
       "Modified                        2331\n",
       "Email Opened                    2212\n",
       "SMS Sent                        1643\n",
       "Page Visited on Website          286\n",
       "Email Link Clicked               106\n",
       "Olark Chat Conversation           68\n",
       "Email Bounced                     48\n",
       "Unsubscribed                      40\n",
       "Unreachable                       26\n",
       "Had a Phone Conversation          14\n",
       "Approached upfront                 1\n",
       "View in browser link Clicked       1\n",
       "Form Submitted on Website          1\n",
       "Email Received                     1\n",
       "Email Marked Spam                  1\n",
       "Name: Last Notable Activity, dtype: int64"
      ]
     },
     "execution_count": 73,
     "metadata": {},
     "output_type": "execute_result"
    }
   ],
   "source": [
    "#checking value counts of last Notable Activity\n",
    "leads['Last Notable Activity'].value_counts()"
   ]
  },
  {
   "cell_type": "code",
   "execution_count": 74,
   "id": "ec158a8c-b6ac-4748-99f9-2a3ac2cc9b40",
   "metadata": {},
   "outputs": [],
   "source": [
    "#clubbing lower frequency values\n",
    "\n",
    "leads['Last Notable Activity'] = leads['Last Notable Activity'].replace(['Had a Phone Conversation',\n",
    "                                                                       'Email Marked Spam',\n",
    "                                                                         'Unreachable',\n",
    "                                                                         'Unsubscribed',\n",
    "                                                                         'Email Bounced',                                                                    \n",
    "                                                                       'Resubscribed to emails',\n",
    "                                                                       'View in browser link Clicked',\n",
    "                                                                       'Approached upfront', \n",
    "                                                                       'Form Submitted on Website', \n",
    "                                                                       'Email Received'],'Other_Notable_activity')"
   ]
  },
  {
   "cell_type": "code",
   "execution_count": 75,
   "id": "83d9d5a2-0cdd-4a32-bd93-70d1616e6052",
   "metadata": {},
   "outputs": [
    {
     "data": {
      "image/png": "[encoded data removed]",
      "text/plain": [
       "<Figure size 1400x500 with 1 Axes>"
      ]
     },
     "metadata": {},
     "output_type": "display_data"
    }
   ],
   "source": [
    "#visualizing count of Variable based on Converted value\n",
    "\n",
    "plt.figure(figsize = (14,5))\n",
    "ax1=sns.countplot(x = \"Last Notable Activity\", hue = \"Converted\", data = leads)\n",
    "ax1.set_xticklabels(ax1.get_xticklabels(),rotation=90)\n",
    "plt.show()"
   ]
  },
  {
   "cell_type": "code",
   "execution_count": 87,
   "id": "1b2b23a8-ea1a-40e8-ad62-81e43792111f",
   "metadata": {},
   "outputs": [
    {
     "data": {
      "text/plain": [
       "Modified                   2331\n",
       "Email Opened               2212\n",
       "SMS Sent                   1643\n",
       "Page Visited on Website     286\n",
       "Other_Notable_activity      133\n",
       "Email Link Clicked          106\n",
       "Olark Chat Conversation      68\n",
       "Name: Last Notable Activity, dtype: int64"
      ]
     },
     "execution_count": 87,
     "metadata": {},
     "output_type": "execute_result"
    }
   ],
   "source": [
    "#checking value counts for variable\n",
    "\n",
    "leads['Last Notable Activity'].value_counts()"
   ]
  },
  {
   "cell_type": "code",
   "execution_count": 88,
   "id": "c9474e7b-9b72-4b12-81dd-c39b03c0ba5f",
   "metadata": {},
   "outputs": [
    {
     "data": {
      "text/plain": [
       "['Country',\n",
       " 'What matters most to you in choosing a course',\n",
       " 'Do Not Call',\n",
       " 'Search',\n",
       " 'Magazine',\n",
       " 'Newspaper Article',\n",
       " 'X Education Forums',\n",
       " 'Newspaper',\n",
       " 'Digital Advertisement',\n",
       " 'Through Recommendations',\n",
       " 'Receive More Updates About Our Courses',\n",
       " 'Update me on Supply Chain Content',\n",
       " 'Get updates on DM Content',\n",
       " 'I agree to pay the amount through cheque']"
      ]
     },
     "execution_count": 88,
     "metadata": {},
     "output_type": "execute_result"
    }
   ],
   "source": [
    "#list of columns to be dropped\n",
    "cols_to_drop"
   ]
  },
  {
   "cell_type": "code",
   "execution_count": 89,
   "id": "0972e14c-397c-4004-a569-c7e062b69e33",
   "metadata": {},
   "outputs": [
    {
     "name": "stdout",
     "output_type": "stream",
     "text": [
      "<class 'pandas.core.frame.DataFrame'>\n",
      "Int64Index: 6779 entries, 1 to 9239\n",
      "Data columns (total 14 columns):\n",
      " #   Column                                  Non-Null Count  Dtype  \n",
      "---  ------                                  --------------  -----  \n",
      " 0   Lead Origin                             6779 non-null   object \n",
      " 1   Lead Source                             6779 non-null   object \n",
      " 2   Do Not Email                            6779 non-null   object \n",
      " 3   Converted                               6779 non-null   int64  \n",
      " 4   TotalVisits                             6779 non-null   float64\n",
      " 5   Total Time Spent on Website             6779 non-null   int64  \n",
      " 6   Page Views Per Visit                    6779 non-null   float64\n",
      " 7   Last Activity                           6779 non-null   object \n",
      " 8   Specialization                          6779 non-null   object \n",
      " 9   What is your current occupation         6779 non-null   object \n",
      " 10  Tags                                    6779 non-null   object \n",
      " 11  City                                    6779 non-null   object \n",
      " 12  A free copy of Mastering The Interview  6779 non-null   object \n",
      " 13  Last Notable Activity                   6779 non-null   object \n",
      "dtypes: float64(2), int64(2), object(10)\n",
      "memory usage: 1.0+ MB\n"
     ]
    }
   ],
   "source": [
    "#dropping columns\n",
    "leads = leads.drop(cols_to_drop,1)\n",
    "leads.info()"
   ]
  },
  {
   "cell_type": "code",
   "execution_count": 90,
   "id": "7c54ace0-36c0-4174-bd41-61b2bf40ff35",
   "metadata": {},
   "outputs": [
    {
     "data": {
      "text/plain": [
       "36.65732408909869"
      ]
     },
     "execution_count": 90,
     "metadata": {},
     "output_type": "execute_result"
    }
   ],
   "source": [
    "#Check the % of Data that has Converted Values = 1:\n",
    "\n",
    "Converted = (sum(leads['Converted'])/len(leads['Converted'].index))*100\n",
    "Converted"
   ]
  },
  {
   "cell_type": "code",
   "execution_count": 91,
   "id": "f88f42e8-ff9a-4746-919a-e0e904589162",
   "metadata": {},
   "outputs": [
    {
     "data": {
      "image/png": "[encoded data removed]",
      "text/plain": [
       "<Figure size 1000x800 with 2 Axes>"
      ]
     },
     "metadata": {},
     "output_type": "display_data"
    }
   ],
   "source": [
    "#Checking correlations of numeric values\n",
    "# figure size\n",
    "plt.figure(figsize=(10,8))\n",
    "\n",
    "# heatmap\n",
    "sns.heatmap(leads.corr(), cmap=\"YlGnBu\", annot=True)\n",
    "plt.show()"
   ]
  },
  {
   "cell_type": "code",
   "execution_count": 92,
   "id": "fd21b61a-6e9b-4933-8165-a65c6cdebd35",
   "metadata": {},
   "outputs": [
    {
     "data": {
      "image/png": "[encoded data removed]",
      "text/plain": [
       "<Figure size 600x400 with 1 Axes>"
      ]
     },
     "metadata": {},
     "output_type": "display_data"
    }
   ],
   "source": [
    "#Total Visits\n",
    "#visualizing spread of variable\n",
    "\n",
    "plt.figure(figsize=(6,4))\n",
    "sns.boxplot(y=leads['TotalVisits'])\n",
    "plt.show()"
   ]
  },
  {
   "cell_type": "markdown",
   "id": "7a550fda-5b67-4235-80eb-71ae0ba280aa",
   "metadata": {},
   "source": [
    "### There are outliers present here"
   ]
  },
  {
   "cell_type": "code",
   "execution_count": 93,
   "id": "680f29be-821f-48b0-bef9-ac0d15aa812d",
   "metadata": {},
   "outputs": [
    {
     "data": {
      "text/plain": [
       "count    6779.000000\n",
       "mean        4.553917\n",
       "std         5.138148\n",
       "min         0.000000\n",
       "5%          1.000000\n",
       "25%         2.000000\n",
       "50%         4.000000\n",
       "75%         5.000000\n",
       "90%         8.000000\n",
       "95%        11.000000\n",
       "99%        18.220000\n",
       "max       251.000000\n",
       "Name: TotalVisits, dtype: float64"
      ]
     },
     "execution_count": 93,
     "metadata": {},
     "output_type": "execute_result"
    }
   ],
   "source": [
    "#checking percentile values for \"Total Visits\"\n",
    "leads['TotalVisits'].describe(percentiles=[0.05,.25, .5, .75, .90, .95, .99])"
   ]
  },
  {
   "cell_type": "code",
   "execution_count": 94,
   "id": "acbcd8ad-5ad9-4e7d-922b-5ff0a74cb6b8",
   "metadata": {},
   "outputs": [
    {
     "data": {
      "image/png": "[encoded data removed]",
      "text/plain": [
       "<Figure size 640x480 with 1 Axes>"
      ]
     },
     "metadata": {},
     "output_type": "display_data"
    }
   ],
   "source": [
    "#Outlier Treatment: Remove top & bottom 1% of the Column Outlier values\n",
    "\n",
    "Q3 = leads.TotalVisits.quantile(0.99)\n",
    "leads = leads[(leads.TotalVisits <= Q3)]\n",
    "Q1 = leads.TotalVisits.quantile(0.01)\n",
    "leads = leads[(leads.TotalVisits >= Q1)]\n",
    "sns.boxplot(y=leads['TotalVisits'])\n",
    "plt.show()"
   ]
  },
  {
   "cell_type": "code",
   "execution_count": 95,
   "id": "7c445c72-0d89-4b11-902c-7c8e34619c06",
   "metadata": {},
   "outputs": [
    {
     "data": {
      "text/plain": [
       "(6706, 14)"
      ]
     },
     "execution_count": 95,
     "metadata": {},
     "output_type": "execute_result"
    }
   ],
   "source": [
    "leads.shape"
   ]
  },
  {
   "cell_type": "code",
   "execution_count": 96,
   "id": "9224980a-3fa8-42fd-bddc-97a459953594",
   "metadata": {},
   "outputs": [
    {
     "data": {
      "text/plain": [
       "count    6706.000000\n",
       "mean      631.736206\n",
       "std       541.763382\n",
       "min         0.000000\n",
       "5%         33.000000\n",
       "25%       171.000000\n",
       "50%       397.000000\n",
       "75%      1104.000000\n",
       "90%      1451.500000\n",
       "95%      1606.000000\n",
       "99%      1862.950000\n",
       "max      2272.000000\n",
       "Name: Total Time Spent on Website, dtype: float64"
      ]
     },
     "execution_count": 96,
     "metadata": {},
     "output_type": "execute_result"
    }
   ],
   "source": [
    "#checking percentiles for \"Total Time Spent on Website\"\n",
    "\n",
    "leads['Total Time Spent on Website'].describe(percentiles=[0.05,.25, .5, .75, .90, .95, .99])"
   ]
  },
  {
   "cell_type": "code",
   "execution_count": 97,
   "id": "38ae5808-ff44-4179-83d6-199161a35433",
   "metadata": {},
   "outputs": [
    {
     "data": {
      "image/png": "[encoded data removed]",
      "text/plain": [
       "<Figure size 600x400 with 1 Axes>"
      ]
     },
     "metadata": {},
     "output_type": "display_data"
    }
   ],
   "source": [
    "#visualizing spread of numeric variable\n",
    "\n",
    "plt.figure(figsize=(6,4))\n",
    "sns.boxplot(y=leads['Total Time Spent on Website'])\n",
    "plt.show()"
   ]
  },
  {
   "cell_type": "markdown",
   "id": "579df1a0-b7d5-4af6-902c-44732a958b52",
   "metadata": {},
   "source": [
    "### Since there are no major Outliers for the above variable we don't do any Outlier Treatment for this above Column\n",
    "\n",
    "### Check for Page Views Per Visit:"
   ]
  },
  {
   "cell_type": "code",
   "execution_count": 98,
   "id": "d9c41fc3-a00c-4cc4-ba40-93b7850f9063",
   "metadata": {},
   "outputs": [
    {
     "data": {
      "text/plain": [
       "count    6706.000000\n",
       "mean        3.104545\n",
       "std         1.817244\n",
       "min         1.000000\n",
       "25%         2.000000\n",
       "50%         3.000000\n",
       "75%         4.000000\n",
       "max        16.000000\n",
       "Name: Page Views Per Visit, dtype: float64"
      ]
     },
     "execution_count": 98,
     "metadata": {},
     "output_type": "execute_result"
    }
   ],
   "source": [
    "#checking spread of \"Page Views Per Visit\"\n",
    "\n",
    "leads['Page Views Per Visit'].describe()"
   ]
  },
  {
   "cell_type": "code",
   "execution_count": 99,
   "id": "922cfc4f-1b62-4c3d-be31-5477ed01a189",
   "metadata": {},
   "outputs": [
    {
     "data": {
      "image/png": "[encoded data removed]",
      "text/plain": [
       "<Figure size 600x400 with 1 Axes>"
      ]
     },
     "metadata": {},
     "output_type": "display_data"
    }
   ],
   "source": [
    "#visualizing spread of numeric variable\n",
    "\n",
    "plt.figure(figsize=(6,4))\n",
    "sns.boxplot(y=leads['Page Views Per Visit'])\n",
    "plt.show()\n"
   ]
  },
  {
   "cell_type": "code",
   "execution_count": 100,
   "id": "1d24e613-9c6d-4aec-a056-56b100e45208",
   "metadata": {},
   "outputs": [
    {
     "data": {
      "image/png": "[encoded data removed]",
      "text/plain": [
       "<Figure size 640x480 with 1 Axes>"
      ]
     },
     "metadata": {},
     "output_type": "display_data"
    }
   ],
   "source": [
    "#Outlier Treatment: Remove top & bottom 1% \n",
    "\n",
    "Q3 = leads['Page Views Per Visit'].quantile(0.99)\n",
    "leads = leads[leads['Page Views Per Visit'] <= Q3]\n",
    "Q1 = leads['Page Views Per Visit'].quantile(0.01)\n",
    "leads = leads[leads['Page Views Per Visit'] >= Q1]\n",
    "sns.boxplot(y=leads['Page Views Per Visit'])\n",
    "plt.show()"
   ]
  },
  {
   "cell_type": "code",
   "execution_count": 101,
   "id": "8b185f1a-eed1-4268-9404-7d55b1003a94",
   "metadata": {},
   "outputs": [
    {
     "data": {
      "text/plain": [
       "(6640, 14)"
      ]
     },
     "execution_count": 101,
     "metadata": {},
     "output_type": "execute_result"
    }
   ],
   "source": [
    "leads.shape"
   ]
  },
  {
   "cell_type": "code",
   "execution_count": 102,
   "id": "543f1aec-429f-4815-91c9-74528c62de94",
   "metadata": {},
   "outputs": [
    {
     "data": {
      "image/png": "[encoded data removed]",
      "text/plain": [
       "<Figure size 640x480 with 1 Axes>"
      ]
     },
     "metadata": {},
     "output_type": "display_data"
    }
   ],
   "source": [
    "#checking Spread of \"Total Visits\" vs Converted variable\n",
    "sns.boxplot(y = 'TotalVisits', x = 'Converted', data = leads)\n",
    "plt.show()\n"
   ]
  },
  {
   "cell_type": "markdown",
   "id": "7ee10c93-54c9-4409-9ee3-492c7bf1b801",
   "metadata": {},
   "source": [
    "#### Inference\n",
    "\n",
    "#### Median for converted and not converted leads are the close.\n",
    "#### Nothng conclusive can be said on the basis of Total Visits"
   ]
  },
  {
   "cell_type": "code",
   "execution_count": 103,
   "id": "4d46f3b9-bb02-4663-80d6-de46ff57fbed",
   "metadata": {},
   "outputs": [
    {
     "data": {
      "image/png": "[encoded data removed]",
      "text/plain": [
       "<Figure size 640x480 with 1 Axes>"
      ]
     },
     "metadata": {},
     "output_type": "display_data"
    }
   ],
   "source": [
    "#checking Spread of \"Total Time Spent on Website\" vs Converted variable\n",
    "\n",
    "sns.boxplot(x=leads.Converted, y=leads['Total Time Spent on Website'])\n",
    "plt.show()"
   ]
  },
  {
   "cell_type": "markdown",
   "id": "ecebee63-f0c8-4181-b87b-68acb5b7c368",
   "metadata": {},
   "source": [
    "#### Inference\n",
    "\n",
    "#### Leads spending more time on the website are more likely to be converted.\n",
    "#### Website should be made more engaging to make leads spend more time."
   ]
  },
  {
   "cell_type": "code",
   "execution_count": 104,
   "id": "e2dd9f56-9c0b-4328-987b-7de8e54724e9",
   "metadata": {},
   "outputs": [
    {
     "data": {
      "image/png": "[encoded data removed]",
      "text/plain": [
       "<Figure size 640x480 with 1 Axes>"
      ]
     },
     "metadata": {},
     "output_type": "display_data"
    }
   ],
   "source": [
    "#checking Spread of \"Page Views Per Visit\" vs Converted variable\n",
    "\n",
    "sns.boxplot(x=leads.Converted,y=leads['Page Views Per Visit'])\n",
    "plt.show()"
   ]
  },
  {
   "cell_type": "markdown",
   "id": "53cdf5ee-6475-48e4-a273-b04a3e900797",
   "metadata": {},
   "source": [
    "#### Inference\n",
    "\n",
    "#### Median for converted and unconverted leads is the same.\n",
    "#### Nothing can be said specifically for lead conversion from Page Views Per Visit\n"
   ]
  },
  {
   "cell_type": "code",
   "execution_count": 105,
   "id": "5f2e9115-a756-4c1d-84c4-99c46f1b21d9",
   "metadata": {},
   "outputs": [
    {
     "data": {
      "text/plain": [
       "Lead Origin                               0.0\n",
       "Lead Source                               0.0\n",
       "Do Not Email                              0.0\n",
       "Converted                                 0.0\n",
       "TotalVisits                               0.0\n",
       "Total Time Spent on Website               0.0\n",
       "Page Views Per Visit                      0.0\n",
       "Last Activity                             0.0\n",
       "Specialization                            0.0\n",
       "What is your current occupation           0.0\n",
       "Tags                                      0.0\n",
       "City                                      0.0\n",
       "A free copy of Mastering The Interview    0.0\n",
       "Last Notable Activity                     0.0\n",
       "dtype: float64"
      ]
     },
     "execution_count": 105,
     "metadata": {},
     "output_type": "execute_result"
    }
   ],
   "source": [
    "#checking missing values in leftover columns/\n",
    "\n",
    "round(100*(leads.isnull().sum()/len(leads.index)),2)"
   ]
  },
  {
   "cell_type": "markdown",
   "id": "271184bf-d495-4d14-9b80-1d9ffe2f05a3",
   "metadata": {},
   "source": [
    "#### There are no missing values in the columns to be analyzed further"
   ]
  },
  {
   "cell_type": "markdown",
   "id": "46051501-8177-450f-95d6-f7cce872f06e",
   "metadata": {},
   "source": [
    "### Creating Dummy Variables"
   ]
  },
  {
   "cell_type": "code",
   "execution_count": 106,
   "id": "43cf747d-cace-456f-b4c9-f20d2247d983",
   "metadata": {},
   "outputs": [
    {
     "data": {
      "text/plain": [
       "Index(['Lead Origin', 'Lead Source', 'Do Not Email', 'Last Activity',\n",
       "       'Specialization', 'What is your current occupation', 'Tags', 'City',\n",
       "       'A free copy of Mastering The Interview', 'Last Notable Activity'],\n",
       "      dtype='object')"
      ]
     },
     "execution_count": 106,
     "metadata": {},
     "output_type": "execute_result"
    }
   ],
   "source": [
    "#getting a list of categorical columns\n",
    "\n",
    "cat_cols= leads.select_dtypes(include=['object']).columns\n",
    "cat_cols"
   ]
  },
  {
   "cell_type": "code",
   "execution_count": 107,
   "id": "7cf85a26-f936-43ce-b3b7-bc63c9dd5163",
   "metadata": {},
   "outputs": [],
   "source": [
    "# List of variables to map\n",
    "\n",
    "varlist =  ['A free copy of Mastering The Interview','Do Not Email']\n",
    "\n",
    "# Defining the map function\n",
    "def binary_map(x):\n",
    "    return x.map({'Yes': 1, \"No\": 0})\n",
    "\n",
    "# Applying the function to the housing list\n",
    "leads[varlist] = leads[varlist].apply(binary_map)"
   ]
  },
  {
   "cell_type": "code",
   "execution_count": 108,
   "id": "ff00ced6-3f03-497c-bd16-3108c0588105",
   "metadata": {},
   "outputs": [],
   "source": [
    "#getting dummies and dropping the first column and adding the results to the master dataframe\n",
    "dummy = pd.get_dummies(leads[['Lead Origin','What is your current occupation',\n",
    "                             'City']], drop_first=True)\n",
    "\n",
    "leads = pd.concat([leads,dummy],1)"
   ]
  },
  {
   "cell_type": "code",
   "execution_count": 109,
   "id": "3ff65a3a-d1b2-4bb3-b690-99a821842f5d",
   "metadata": {},
   "outputs": [],
   "source": [
    "dummy = pd.get_dummies(leads['Specialization'], prefix  = 'Specialization')\n",
    "dummy = dummy.drop(['Specialization_Not Specified'], 1)\n",
    "leads = pd.concat([leads, dummy], axis = 1)"
   ]
  },
  {
   "cell_type": "code",
   "execution_count": 110,
   "id": "1003bb0e-2e39-4a90-945e-4c2c6ad7dcf7",
   "metadata": {},
   "outputs": [],
   "source": [
    "dummy = pd.get_dummies(leads['Lead Source'], prefix  = 'Lead Source')\n",
    "dummy = dummy.drop(['Lead Source_Others'], 1)\n",
    "leads = pd.concat([leads, dummy], axis = 1)\n",
    "dummy = pd.get_dummies(leads['Last Activity'], prefix  = 'Last Activity')\n",
    "dummy = dummy.drop(['Last Activity_Others'], 1)\n",
    "leads = pd.concat([leads, dummy], axis = 1)"
   ]
  },
  {
   "cell_type": "code",
   "execution_count": 111,
   "id": "45dac06e-455b-4d83-8f02-e2527df2cd3a",
   "metadata": {},
   "outputs": [],
   "source": [
    "dummy = pd.get_dummies(leads['Last Notable Activity'], prefix  = 'Last Notable Activity')\n",
    "dummy = dummy.drop(['Last Notable Activity_Other_Notable_activity'], 1)\n",
    "leads = pd.concat([leads, dummy], axis = 1)"
   ]
  },
  {
   "cell_type": "code",
   "execution_count": 112,
   "id": "a14a3b84-c100-496e-a656-20e5b26c5537",
   "metadata": {},
   "outputs": [],
   "source": [
    "dummy = pd.get_dummies(leads['Tags'], prefix  = 'Tags')\n",
    "dummy = dummy.drop(['Tags_Not Specified'], 1)\n",
    "leads = pd.concat([leads, dummy], axis = 1)"
   ]
  },
  {
   "cell_type": "code",
   "execution_count": 113,
   "id": "e7714570-a7f3-4458-81a3-53fdd20a026a",
   "metadata": {},
   "outputs": [],
   "source": [
    "#dropping the original columns after dummy variable creation\n",
    "\n",
    "leads.drop(cat_cols,1,inplace = True)"
   ]
  },
  {
   "cell_type": "code",
   "execution_count": 114,
   "id": "b5bb349b-497a-4611-9000-708821e2e681",
   "metadata": {},
   "outputs": [
    {
     "data": {
      "text/html": [
       "<div>\n",
       "<style scoped>\n",
       "    .dataframe tbody tr th:only-of-type {\n",
       "        vertical-align: middle;\n",
       "    }\n",
       "\n",
       "    .dataframe tbody tr th {\n",
       "        vertical-align: top;\n",
       "    }\n",
       "\n",
       "    .dataframe thead th {\n",
       "        text-align: right;\n",
       "    }\n",
       "</style>\n",
       "<table border=\"1\" class=\"dataframe\">\n",
       "  <thead>\n",
       "    <tr style=\"text-align: right;\">\n",
       "      <th></th>\n",
       "      <th>Converted</th>\n",
       "      <th>TotalVisits</th>\n",
       "      <th>Total Time Spent on Website</th>\n",
       "      <th>Page Views Per Visit</th>\n",
       "      <th>Lead Origin_Landing Page Submission</th>\n",
       "      <th>Lead Origin_Lead Add Form</th>\n",
       "      <th>What is your current occupation_Housewife</th>\n",
       "      <th>What is your current occupation_Other</th>\n",
       "      <th>What is your current occupation_Student</th>\n",
       "      <th>What is your current occupation_Unemployed</th>\n",
       "      <th>...</th>\n",
       "      <th>Last Notable Activity_Olark Chat Conversation</th>\n",
       "      <th>Last Notable Activity_Page Visited on Website</th>\n",
       "      <th>Last Notable Activity_SMS Sent</th>\n",
       "      <th>Tags_Busy</th>\n",
       "      <th>Tags_Closed by Horizzon</th>\n",
       "      <th>Tags_Interested in other courses</th>\n",
       "      <th>Tags_Lost to EINS</th>\n",
       "      <th>Tags_Other_Tags</th>\n",
       "      <th>Tags_Ringing</th>\n",
       "      <th>Tags_Will revert after reading the email</th>\n",
       "    </tr>\n",
       "  </thead>\n",
       "  <tbody>\n",
       "    <tr>\n",
       "      <th>1</th>\n",
       "      <td>0</td>\n",
       "      <td>5.0</td>\n",
       "      <td>674</td>\n",
       "      <td>2.5</td>\n",
       "      <td>0</td>\n",
       "      <td>0</td>\n",
       "      <td>0</td>\n",
       "      <td>0</td>\n",
       "      <td>0</td>\n",
       "      <td>1</td>\n",
       "      <td>...</td>\n",
       "      <td>0</td>\n",
       "      <td>0</td>\n",
       "      <td>0</td>\n",
       "      <td>0</td>\n",
       "      <td>0</td>\n",
       "      <td>0</td>\n",
       "      <td>0</td>\n",
       "      <td>0</td>\n",
       "      <td>1</td>\n",
       "      <td>0</td>\n",
       "    </tr>\n",
       "    <tr>\n",
       "      <th>2</th>\n",
       "      <td>1</td>\n",
       "      <td>2.0</td>\n",
       "      <td>1532</td>\n",
       "      <td>2.0</td>\n",
       "      <td>1</td>\n",
       "      <td>0</td>\n",
       "      <td>0</td>\n",
       "      <td>0</td>\n",
       "      <td>1</td>\n",
       "      <td>0</td>\n",
       "      <td>...</td>\n",
       "      <td>0</td>\n",
       "      <td>0</td>\n",
       "      <td>0</td>\n",
       "      <td>0</td>\n",
       "      <td>0</td>\n",
       "      <td>0</td>\n",
       "      <td>0</td>\n",
       "      <td>0</td>\n",
       "      <td>0</td>\n",
       "      <td>1</td>\n",
       "    </tr>\n",
       "    <tr>\n",
       "      <th>3</th>\n",
       "      <td>0</td>\n",
       "      <td>1.0</td>\n",
       "      <td>305</td>\n",
       "      <td>1.0</td>\n",
       "      <td>1</td>\n",
       "      <td>0</td>\n",
       "      <td>0</td>\n",
       "      <td>0</td>\n",
       "      <td>0</td>\n",
       "      <td>1</td>\n",
       "      <td>...</td>\n",
       "      <td>0</td>\n",
       "      <td>0</td>\n",
       "      <td>0</td>\n",
       "      <td>0</td>\n",
       "      <td>0</td>\n",
       "      <td>0</td>\n",
       "      <td>0</td>\n",
       "      <td>0</td>\n",
       "      <td>1</td>\n",
       "      <td>0</td>\n",
       "    </tr>\n",
       "    <tr>\n",
       "      <th>4</th>\n",
       "      <td>1</td>\n",
       "      <td>2.0</td>\n",
       "      <td>1428</td>\n",
       "      <td>1.0</td>\n",
       "      <td>1</td>\n",
       "      <td>0</td>\n",
       "      <td>0</td>\n",
       "      <td>0</td>\n",
       "      <td>0</td>\n",
       "      <td>1</td>\n",
       "      <td>...</td>\n",
       "      <td>0</td>\n",
       "      <td>0</td>\n",
       "      <td>0</td>\n",
       "      <td>0</td>\n",
       "      <td>0</td>\n",
       "      <td>0</td>\n",
       "      <td>0</td>\n",
       "      <td>0</td>\n",
       "      <td>0</td>\n",
       "      <td>1</td>\n",
       "    </tr>\n",
       "    <tr>\n",
       "      <th>6</th>\n",
       "      <td>1</td>\n",
       "      <td>2.0</td>\n",
       "      <td>1640</td>\n",
       "      <td>2.0</td>\n",
       "      <td>1</td>\n",
       "      <td>0</td>\n",
       "      <td>0</td>\n",
       "      <td>0</td>\n",
       "      <td>0</td>\n",
       "      <td>1</td>\n",
       "      <td>...</td>\n",
       "      <td>0</td>\n",
       "      <td>0</td>\n",
       "      <td>0</td>\n",
       "      <td>0</td>\n",
       "      <td>0</td>\n",
       "      <td>0</td>\n",
       "      <td>0</td>\n",
       "      <td>0</td>\n",
       "      <td>0</td>\n",
       "      <td>1</td>\n",
       "    </tr>\n",
       "  </tbody>\n",
       "</table>\n",
       "<p>5 rows × 55 columns</p>\n",
       "</div>"
      ],
      "text/plain": [
       "   Converted  TotalVisits  Total Time Spent on Website  Page Views Per Visit  \\\n",
       "1          0          5.0                          674                   2.5   \n",
       "2          1          2.0                         1532                   2.0   \n",
       "3          0          1.0                          305                   1.0   \n",
       "4          1          2.0                         1428                   1.0   \n",
       "6          1          2.0                         1640                   2.0   \n",
       "\n",
       "   Lead Origin_Landing Page Submission  Lead Origin_Lead Add Form  \\\n",
       "1                                    0                          0   \n",
       "2                                    1                          0   \n",
       "3                                    1                          0   \n",
       "4                                    1                          0   \n",
       "6                                    1                          0   \n",
       "\n",
       "   What is your current occupation_Housewife  \\\n",
       "1                                          0   \n",
       "2                                          0   \n",
       "3                                          0   \n",
       "4                                          0   \n",
       "6                                          0   \n",
       "\n",
       "   What is your current occupation_Other  \\\n",
       "1                                      0   \n",
       "2                                      0   \n",
       "3                                      0   \n",
       "4                                      0   \n",
       "6                                      0   \n",
       "\n",
       "   What is your current occupation_Student  \\\n",
       "1                                        0   \n",
       "2                                        1   \n",
       "3                                        0   \n",
       "4                                        0   \n",
       "6                                        0   \n",
       "\n",
       "   What is your current occupation_Unemployed  ...  \\\n",
       "1                                           1  ...   \n",
       "2                                           0  ...   \n",
       "3                                           1  ...   \n",
       "4                                           1  ...   \n",
       "6                                           1  ...   \n",
       "\n",
       "   Last Notable Activity_Olark Chat Conversation  \\\n",
       "1                                              0   \n",
       "2                                              0   \n",
       "3                                              0   \n",
       "4                                              0   \n",
       "6                                              0   \n",
       "\n",
       "   Last Notable Activity_Page Visited on Website  \\\n",
       "1                                              0   \n",
       "2                                              0   \n",
       "3                                              0   \n",
       "4                                              0   \n",
       "6                                              0   \n",
       "\n",
       "   Last Notable Activity_SMS Sent  Tags_Busy  Tags_Closed by Horizzon  \\\n",
       "1                               0          0                        0   \n",
       "2                               0          0                        0   \n",
       "3                               0          0                        0   \n",
       "4                               0          0                        0   \n",
       "6                               0          0                        0   \n",
       "\n",
       "   Tags_Interested in other courses  Tags_Lost to EINS  Tags_Other_Tags  \\\n",
       "1                                 0                  0                0   \n",
       "2                                 0                  0                0   \n",
       "3                                 0                  0                0   \n",
       "4                                 0                  0                0   \n",
       "6                                 0                  0                0   \n",
       "\n",
       "   Tags_Ringing  Tags_Will revert after reading the email  \n",
       "1             1                                         0  \n",
       "2             0                                         1  \n",
       "3             1                                         0  \n",
       "4             0                                         1  \n",
       "6             0                                         1  \n",
       "\n",
       "[5 rows x 55 columns]"
      ]
     },
     "execution_count": 114,
     "metadata": {},
     "output_type": "execute_result"
    }
   ],
   "source": [
    "leads.head()"
   ]
  },
  {
   "cell_type": "markdown",
   "id": "5e6d355e-7c4b-4364-9527-b445a85217b2",
   "metadata": {},
   "source": [
    "### Train-Test Split & Logistic Regression Model Building:"
   ]
  },
  {
   "cell_type": "code",
   "execution_count": 115,
   "id": "e4f4b1af-3b0f-470d-bfb3-e339f2f97627",
   "metadata": {},
   "outputs": [],
   "source": [
    "from sklearn.model_selection import train_test_split\n",
    "\n",
    "# Putting response variable to y\n",
    "y = leads['Converted']\n",
    "\n",
    "y.head()\n",
    "\n",
    "X=leads.drop('Converted', axis=1)"
   ]
  },
  {
   "cell_type": "code",
   "execution_count": 116,
   "id": "397e2d99-c408-40eb-8094-2ec4130acac3",
   "metadata": {},
   "outputs": [],
   "source": [
    "# Splitting the data into train and test\n",
    "X_train, X_test, y_train, y_test = train_test_split(X, y, train_size=0.7, test_size=0.3, random_state=100)"
   ]
  },
  {
   "cell_type": "code",
   "execution_count": 117,
   "id": "a9d5bee3-c69e-4b4e-ab79-ea335ab0d491",
   "metadata": {},
   "outputs": [
    {
     "name": "stdout",
     "output_type": "stream",
     "text": [
      "<class 'pandas.core.frame.DataFrame'>\n",
      "Int64Index: 4648 entries, 1979 to 7849\n",
      "Data columns (total 54 columns):\n",
      " #   Column                                                Non-Null Count  Dtype  \n",
      "---  ------                                                --------------  -----  \n",
      " 0   TotalVisits                                           4648 non-null   float64\n",
      " 1   Total Time Spent on Website                           4648 non-null   int64  \n",
      " 2   Page Views Per Visit                                  4648 non-null   float64\n",
      " 3   Lead Origin_Landing Page Submission                   4648 non-null   uint8  \n",
      " 4   Lead Origin_Lead Add Form                             4648 non-null   uint8  \n",
      " 5   What is your current occupation_Housewife             4648 non-null   uint8  \n",
      " 6   What is your current occupation_Other                 4648 non-null   uint8  \n",
      " 7   What is your current occupation_Student               4648 non-null   uint8  \n",
      " 8   What is your current occupation_Unemployed            4648 non-null   uint8  \n",
      " 9   What is your current occupation_Working Professional  4648 non-null   uint8  \n",
      " 10  City_Other Cities                                     4648 non-null   uint8  \n",
      " 11  City_Other Cities of Maharashtra                      4648 non-null   uint8  \n",
      " 12  City_Other Metro Cities                               4648 non-null   uint8  \n",
      " 13  City_Thane & Outskirts                                4648 non-null   uint8  \n",
      " 14  City_Tier II Cities                                   4648 non-null   uint8  \n",
      " 15  Specialization_Banking, Investment And Insurance      4648 non-null   uint8  \n",
      " 16  Specialization_Business Administration                4648 non-null   uint8  \n",
      " 17  Specialization_E-Business                             4648 non-null   uint8  \n",
      " 18  Specialization_E-COMMERCE                             4648 non-null   uint8  \n",
      " 19  Specialization_International Business                 4648 non-null   uint8  \n",
      " 20  Specialization_Management_Specializations             4648 non-null   uint8  \n",
      " 21  Specialization_Media and Advertising                  4648 non-null   uint8  \n",
      " 22  Specialization_Rural and Agribusiness                 4648 non-null   uint8  \n",
      " 23  Specialization_Services Excellence                    4648 non-null   uint8  \n",
      " 24  Specialization_Travel and Tourism                     4648 non-null   uint8  \n",
      " 25  Lead Source_Direct Traffic                            4648 non-null   uint8  \n",
      " 26  Lead Source_Google                                    4648 non-null   uint8  \n",
      " 27  Lead Source_Olark Chat                                4648 non-null   uint8  \n",
      " 28  Lead Source_Organic Search                            4648 non-null   uint8  \n",
      " 29  Lead Source_Reference                                 4648 non-null   uint8  \n",
      " 30  Lead Source_Referral Sites                            4648 non-null   uint8  \n",
      " 31  Lead Source_Social Media                              4648 non-null   uint8  \n",
      " 32  Lead Source_Welingak Website                          4648 non-null   uint8  \n",
      " 33  Last Activity_Converted to Lead                       4648 non-null   uint8  \n",
      " 34  Last Activity_Email Bounced                           4648 non-null   uint8  \n",
      " 35  Last Activity_Email Link Clicked                      4648 non-null   uint8  \n",
      " 36  Last Activity_Email Opened                            4648 non-null   uint8  \n",
      " 37  Last Activity_Form Submitted on Website               4648 non-null   uint8  \n",
      " 38  Last Activity_Olark Chat Conversation                 4648 non-null   uint8  \n",
      " 39  Last Activity_Page Visited on Website                 4648 non-null   uint8  \n",
      " 40  Last Activity_SMS Sent                                4648 non-null   uint8  \n",
      " 41  Last Notable Activity_Email Link Clicked              4648 non-null   uint8  \n",
      " 42  Last Notable Activity_Email Opened                    4648 non-null   uint8  \n",
      " 43  Last Notable Activity_Modified                        4648 non-null   uint8  \n",
      " 44  Last Notable Activity_Olark Chat Conversation         4648 non-null   uint8  \n",
      " 45  Last Notable Activity_Page Visited on Website         4648 non-null   uint8  \n",
      " 46  Last Notable Activity_SMS Sent                        4648 non-null   uint8  \n",
      " 47  Tags_Busy                                             4648 non-null   uint8  \n",
      " 48  Tags_Closed by Horizzon                               4648 non-null   uint8  \n",
      " 49  Tags_Interested in other courses                      4648 non-null   uint8  \n",
      " 50  Tags_Lost to EINS                                     4648 non-null   uint8  \n",
      " 51  Tags_Other_Tags                                       4648 non-null   uint8  \n",
      " 52  Tags_Ringing                                          4648 non-null   uint8  \n",
      " 53  Tags_Will revert after reading the email              4648 non-null   uint8  \n",
      "dtypes: float64(2), int64(1), uint8(51)\n",
      "memory usage: 376.7 KB\n"
     ]
    }
   ],
   "source": [
    "X_train.info()"
   ]
  },
  {
   "cell_type": "markdown",
   "id": "2d5ee1a0-146c-4640-8db9-c704448a6867",
   "metadata": {},
   "source": [
    "### Scaling of Data:"
   ]
  },
  {
   "cell_type": "code",
   "execution_count": 118,
   "id": "179e4aab-93dc-486b-a45e-7b118dc96d18",
   "metadata": {},
   "outputs": [
    {
     "data": {
      "text/html": [
       "<div>\n",
       "<style scoped>\n",
       "    .dataframe tbody tr th:only-of-type {\n",
       "        vertical-align: middle;\n",
       "    }\n",
       "\n",
       "    .dataframe tbody tr th {\n",
       "        vertical-align: top;\n",
       "    }\n",
       "\n",
       "    .dataframe thead th {\n",
       "        text-align: right;\n",
       "    }\n",
       "</style>\n",
       "<table border=\"1\" class=\"dataframe\">\n",
       "  <thead>\n",
       "    <tr style=\"text-align: right;\">\n",
       "      <th></th>\n",
       "      <th>TotalVisits</th>\n",
       "      <th>Total Time Spent on Website</th>\n",
       "      <th>Page Views Per Visit</th>\n",
       "      <th>Lead Origin_Landing Page Submission</th>\n",
       "      <th>Lead Origin_Lead Add Form</th>\n",
       "      <th>What is your current occupation_Housewife</th>\n",
       "      <th>What is your current occupation_Other</th>\n",
       "      <th>What is your current occupation_Student</th>\n",
       "      <th>What is your current occupation_Unemployed</th>\n",
       "      <th>What is your current occupation_Working Professional</th>\n",
       "      <th>...</th>\n",
       "      <th>Last Notable Activity_Olark Chat Conversation</th>\n",
       "      <th>Last Notable Activity_Page Visited on Website</th>\n",
       "      <th>Last Notable Activity_SMS Sent</th>\n",
       "      <th>Tags_Busy</th>\n",
       "      <th>Tags_Closed by Horizzon</th>\n",
       "      <th>Tags_Interested in other courses</th>\n",
       "      <th>Tags_Lost to EINS</th>\n",
       "      <th>Tags_Other_Tags</th>\n",
       "      <th>Tags_Ringing</th>\n",
       "      <th>Tags_Will revert after reading the email</th>\n",
       "    </tr>\n",
       "  </thead>\n",
       "  <tbody>\n",
       "    <tr>\n",
       "      <th>1979</th>\n",
       "      <td>0.668033</td>\n",
       "      <td>1.836717</td>\n",
       "      <td>1.846001</td>\n",
       "      <td>1</td>\n",
       "      <td>0</td>\n",
       "      <td>0</td>\n",
       "      <td>0</td>\n",
       "      <td>0</td>\n",
       "      <td>1</td>\n",
       "      <td>0</td>\n",
       "      <td>...</td>\n",
       "      <td>0</td>\n",
       "      <td>0</td>\n",
       "      <td>1</td>\n",
       "      <td>0</td>\n",
       "      <td>0</td>\n",
       "      <td>0</td>\n",
       "      <td>0</td>\n",
       "      <td>0</td>\n",
       "      <td>0</td>\n",
       "      <td>0</td>\n",
       "    </tr>\n",
       "    <tr>\n",
       "      <th>6249</th>\n",
       "      <td>1.418399</td>\n",
       "      <td>1.230405</td>\n",
       "      <td>-0.225650</td>\n",
       "      <td>1</td>\n",
       "      <td>0</td>\n",
       "      <td>0</td>\n",
       "      <td>0</td>\n",
       "      <td>0</td>\n",
       "      <td>1</td>\n",
       "      <td>0</td>\n",
       "      <td>...</td>\n",
       "      <td>0</td>\n",
       "      <td>0</td>\n",
       "      <td>0</td>\n",
       "      <td>0</td>\n",
       "      <td>0</td>\n",
       "      <td>0</td>\n",
       "      <td>0</td>\n",
       "      <td>0</td>\n",
       "      <td>0</td>\n",
       "      <td>0</td>\n",
       "    </tr>\n",
       "    <tr>\n",
       "      <th>5557</th>\n",
       "      <td>1.793583</td>\n",
       "      <td>1.857051</td>\n",
       "      <td>3.712353</td>\n",
       "      <td>1</td>\n",
       "      <td>0</td>\n",
       "      <td>0</td>\n",
       "      <td>0</td>\n",
       "      <td>0</td>\n",
       "      <td>1</td>\n",
       "      <td>0</td>\n",
       "      <td>...</td>\n",
       "      <td>0</td>\n",
       "      <td>0</td>\n",
       "      <td>0</td>\n",
       "      <td>0</td>\n",
       "      <td>0</td>\n",
       "      <td>0</td>\n",
       "      <td>0</td>\n",
       "      <td>1</td>\n",
       "      <td>0</td>\n",
       "      <td>0</td>\n",
       "    </tr>\n",
       "    <tr>\n",
       "      <th>7865</th>\n",
       "      <td>1.793583</td>\n",
       "      <td>-0.645835</td>\n",
       "      <td>3.712353</td>\n",
       "      <td>1</td>\n",
       "      <td>0</td>\n",
       "      <td>0</td>\n",
       "      <td>0</td>\n",
       "      <td>0</td>\n",
       "      <td>1</td>\n",
       "      <td>0</td>\n",
       "      <td>...</td>\n",
       "      <td>0</td>\n",
       "      <td>0</td>\n",
       "      <td>0</td>\n",
       "      <td>0</td>\n",
       "      <td>0</td>\n",
       "      <td>0</td>\n",
       "      <td>0</td>\n",
       "      <td>0</td>\n",
       "      <td>1</td>\n",
       "      <td>0</td>\n",
       "    </tr>\n",
       "    <tr>\n",
       "      <th>8491</th>\n",
       "      <td>-0.082334</td>\n",
       "      <td>0.086176</td>\n",
       "      <td>0.601766</td>\n",
       "      <td>1</td>\n",
       "      <td>0</td>\n",
       "      <td>0</td>\n",
       "      <td>0</td>\n",
       "      <td>0</td>\n",
       "      <td>1</td>\n",
       "      <td>0</td>\n",
       "      <td>...</td>\n",
       "      <td>0</td>\n",
       "      <td>0</td>\n",
       "      <td>0</td>\n",
       "      <td>0</td>\n",
       "      <td>0</td>\n",
       "      <td>0</td>\n",
       "      <td>0</td>\n",
       "      <td>0</td>\n",
       "      <td>1</td>\n",
       "      <td>0</td>\n",
       "    </tr>\n",
       "  </tbody>\n",
       "</table>\n",
       "<p>5 rows × 54 columns</p>\n",
       "</div>"
      ],
      "text/plain": [
       "      TotalVisits  Total Time Spent on Website  Page Views Per Visit  \\\n",
       "1979     0.668033                     1.836717              1.846001   \n",
       "6249     1.418399                     1.230405             -0.225650   \n",
       "5557     1.793583                     1.857051              3.712353   \n",
       "7865     1.793583                    -0.645835              3.712353   \n",
       "8491    -0.082334                     0.086176              0.601766   \n",
       "\n",
       "      Lead Origin_Landing Page Submission  Lead Origin_Lead Add Form  \\\n",
       "1979                                    1                          0   \n",
       "6249                                    1                          0   \n",
       "5557                                    1                          0   \n",
       "7865                                    1                          0   \n",
       "8491                                    1                          0   \n",
       "\n",
       "      What is your current occupation_Housewife  \\\n",
       "1979                                          0   \n",
       "6249                                          0   \n",
       "5557                                          0   \n",
       "7865                                          0   \n",
       "8491                                          0   \n",
       "\n",
       "      What is your current occupation_Other  \\\n",
       "1979                                      0   \n",
       "6249                                      0   \n",
       "5557                                      0   \n",
       "7865                                      0   \n",
       "8491                                      0   \n",
       "\n",
       "      What is your current occupation_Student  \\\n",
       "1979                                        0   \n",
       "6249                                        0   \n",
       "5557                                        0   \n",
       "7865                                        0   \n",
       "8491                                        0   \n",
       "\n",
       "      What is your current occupation_Unemployed  \\\n",
       "1979                                           1   \n",
       "6249                                           1   \n",
       "5557                                           1   \n",
       "7865                                           1   \n",
       "8491                                           1   \n",
       "\n",
       "      What is your current occupation_Working Professional  ...  \\\n",
       "1979                                                  0     ...   \n",
       "6249                                                  0     ...   \n",
       "5557                                                  0     ...   \n",
       "7865                                                  0     ...   \n",
       "8491                                                  0     ...   \n",
       "\n",
       "      Last Notable Activity_Olark Chat Conversation  \\\n",
       "1979                                              0   \n",
       "6249                                              0   \n",
       "5557                                              0   \n",
       "7865                                              0   \n",
       "8491                                              0   \n",
       "\n",
       "      Last Notable Activity_Page Visited on Website  \\\n",
       "1979                                              0   \n",
       "6249                                              0   \n",
       "5557                                              0   \n",
       "7865                                              0   \n",
       "8491                                              0   \n",
       "\n",
       "      Last Notable Activity_SMS Sent  Tags_Busy  Tags_Closed by Horizzon  \\\n",
       "1979                               1          0                        0   \n",
       "6249                               0          0                        0   \n",
       "5557                               0          0                        0   \n",
       "7865                               0          0                        0   \n",
       "8491                               0          0                        0   \n",
       "\n",
       "      Tags_Interested in other courses  Tags_Lost to EINS  Tags_Other_Tags  \\\n",
       "1979                                 0                  0                0   \n",
       "6249                                 0                  0                0   \n",
       "5557                                 0                  0                1   \n",
       "7865                                 0                  0                0   \n",
       "8491                                 0                  0                0   \n",
       "\n",
       "      Tags_Ringing  Tags_Will revert after reading the email  \n",
       "1979             0                                         0  \n",
       "6249             0                                         0  \n",
       "5557             0                                         0  \n",
       "7865             1                                         0  \n",
       "8491             1                                         0  \n",
       "\n",
       "[5 rows x 54 columns]"
      ]
     },
     "execution_count": 118,
     "metadata": {},
     "output_type": "execute_result"
    }
   ],
   "source": [
    "#scaling numeric columns\n",
    "\n",
    "from sklearn.preprocessing import StandardScaler\n",
    "\n",
    "scaler = StandardScaler()\n",
    "\n",
    "num_cols=X_train.select_dtypes(include=['float64', 'int64']).columns\n",
    "\n",
    "X_train[num_cols] = scaler.fit_transform(X_train[num_cols])\n",
    "\n",
    "X_train.head()"
   ]
  },
  {
   "cell_type": "markdown",
   "id": "e3df346a-79f0-43a1-9042-dda9352f175d",
   "metadata": {},
   "source": [
    "### Model Building using Stats Model & RFE:"
   ]
  },
  {
   "cell_type": "code",
   "execution_count": 119,
   "id": "efb580af-5be5-4ab3-bf7a-f29e473fe80b",
   "metadata": {},
   "outputs": [],
   "source": [
    "import statsmodels.api as sm"
   ]
  },
  {
   "cell_type": "code",
   "execution_count": 130,
   "id": "55c66237-337d-4f30-a89c-75d161dd224d",
   "metadata": {},
   "outputs": [],
   "source": [
    "from sklearn.linear_model import LogisticRegression\n",
    "logreg = LogisticRegression()\n",
    "\n",
    "from sklearn.feature_selection import RFE\n",
    "rfe = RFE(logreg)  \n",
    "rfe = rfe.fit(X_train, y_train)"
   ]
  },
  {
   "cell_type": "code",
   "execution_count": 131,
   "id": "0a75dd9f-37cb-4dfd-a95d-c98e86baa682",
   "metadata": {},
   "outputs": [
    {
     "data": {
      "text/plain": [
       "array([False,  True, False,  True,  True, False, False, False,  True,\n",
       "        True, False, False, False, False,  True, False,  True, False,\n",
       "        True, False, False,  True,  True, False, False, False, False,\n",
       "        True, False, False, False,  True,  True,  True,  True, False,\n",
       "       False, False, False,  True,  True, False, False,  True,  True,\n",
       "       False,  True,  True,  True,  True,  True,  True,  True,  True])"
      ]
     },
     "execution_count": 131,
     "metadata": {},
     "output_type": "execute_result"
    }
   ],
   "source": [
    "rfe.support_"
   ]
  },
  {
   "cell_type": "code",
   "execution_count": 132,
   "id": "c708dba6-2198-481c-994b-1ac9cf6f87d0",
   "metadata": {},
   "outputs": [
    {
     "data": {
      "text/plain": [
       "[('TotalVisits', False, 17),\n",
       " ('Total Time Spent on Website', True, 1),\n",
       " ('Page Views Per Visit', False, 19),\n",
       " ('Lead Origin_Landing Page Submission', True, 1),\n",
       " ('Lead Origin_Lead Add Form', True, 1),\n",
       " ('What is your current occupation_Housewife', False, 15),\n",
       " ('What is your current occupation_Other', False, 20),\n",
       " ('What is your current occupation_Student', False, 5),\n",
       " ('What is your current occupation_Unemployed', True, 1),\n",
       " ('What is your current occupation_Working Professional', True, 1),\n",
       " ('City_Other Cities', False, 28),\n",
       " ('City_Other Cities of Maharashtra', False, 23),\n",
       " ('City_Other Metro Cities', False, 16),\n",
       " ('City_Thane & Outskirts', False, 26),\n",
       " ('City_Tier II Cities', True, 1),\n",
       " ('Specialization_Banking, Investment And Insurance', False, 2),\n",
       " ('Specialization_Business Administration', True, 1),\n",
       " ('Specialization_E-Business', False, 7),\n",
       " ('Specialization_E-COMMERCE', True, 1),\n",
       " ('Specialization_International Business', False, 27),\n",
       " ('Specialization_Management_Specializations', False, 3),\n",
       " ('Specialization_Media and Advertising', True, 1),\n",
       " ('Specialization_Rural and Agribusiness', True, 1),\n",
       " ('Specialization_Services Excellence', False, 8),\n",
       " ('Specialization_Travel and Tourism', False, 11),\n",
       " ('Lead Source_Direct Traffic', False, 10),\n",
       " ('Lead Source_Google', False, 22),\n",
       " ('Lead Source_Olark Chat', True, 1),\n",
       " ('Lead Source_Organic Search', False, 21),\n",
       " ('Lead Source_Reference', False, 24),\n",
       " ('Lead Source_Referral Sites', False, 9),\n",
       " ('Lead Source_Social Media', True, 1),\n",
       " ('Lead Source_Welingak Website', True, 1),\n",
       " ('Last Activity_Converted to Lead', True, 1),\n",
       " ('Last Activity_Email Bounced', True, 1),\n",
       " ('Last Activity_Email Link Clicked', False, 6),\n",
       " ('Last Activity_Email Opened', False, 13),\n",
       " ('Last Activity_Form Submitted on Website', False, 14),\n",
       " ('Last Activity_Olark Chat Conversation', False, 25),\n",
       " ('Last Activity_Page Visited on Website', True, 1),\n",
       " ('Last Activity_SMS Sent', True, 1),\n",
       " ('Last Notable Activity_Email Link Clicked', False, 4),\n",
       " ('Last Notable Activity_Email Opened', False, 12),\n",
       " ('Last Notable Activity_Modified', True, 1),\n",
       " ('Last Notable Activity_Olark Chat Conversation', True, 1),\n",
       " ('Last Notable Activity_Page Visited on Website', False, 18),\n",
       " ('Last Notable Activity_SMS Sent', True, 1),\n",
       " ('Tags_Busy', True, 1),\n",
       " ('Tags_Closed by Horizzon', True, 1),\n",
       " ('Tags_Interested in other courses', True, 1),\n",
       " ('Tags_Lost to EINS', True, 1),\n",
       " ('Tags_Other_Tags', True, 1),\n",
       " ('Tags_Ringing', True, 1),\n",
       " ('Tags_Will revert after reading the email', True, 1)]"
      ]
     },
     "execution_count": 132,
     "metadata": {},
     "output_type": "execute_result"
    }
   ],
   "source": [
    "list(zip(X_train.columns, rfe.support_, rfe.ranking_))"
   ]
  },
  {
   "cell_type": "code",
   "execution_count": 133,
   "id": "0a8ad017-1e93-42b6-a520-3f38b5e9b50f",
   "metadata": {},
   "outputs": [
    {
     "data": {
      "text/plain": [
       "Index(['Total Time Spent on Website', 'Lead Origin_Landing Page Submission',\n",
       "       'Lead Origin_Lead Add Form',\n",
       "       'What is your current occupation_Unemployed',\n",
       "       'What is your current occupation_Working Professional',\n",
       "       'City_Tier II Cities', 'Specialization_Business Administration',\n",
       "       'Specialization_E-COMMERCE', 'Specialization_Media and Advertising',\n",
       "       'Specialization_Rural and Agribusiness', 'Lead Source_Olark Chat',\n",
       "       'Lead Source_Social Media', 'Lead Source_Welingak Website',\n",
       "       'Last Activity_Converted to Lead', 'Last Activity_Email Bounced',\n",
       "       'Last Activity_Page Visited on Website', 'Last Activity_SMS Sent',\n",
       "       'Last Notable Activity_Modified',\n",
       "       'Last Notable Activity_Olark Chat Conversation',\n",
       "       'Last Notable Activity_SMS Sent', 'Tags_Busy',\n",
       "       'Tags_Closed by Horizzon', 'Tags_Interested in other courses',\n",
       "       'Tags_Lost to EINS', 'Tags_Other_Tags', 'Tags_Ringing',\n",
       "       'Tags_Will revert after reading the email'],\n",
       "      dtype='object')"
      ]
     },
     "execution_count": 133,
     "metadata": {},
     "output_type": "execute_result"
    }
   ],
   "source": [
    "#list of RFE supported columns\n",
    "col = X_train.columns[rfe.support_]\n",
    "col"
   ]
  },
  {
   "cell_type": "code",
   "execution_count": 134,
   "id": "fec794e4-9f7a-4063-9293-04560bebbc01",
   "metadata": {},
   "outputs": [
    {
     "data": {
      "text/plain": [
       "Index(['TotalVisits', 'Page Views Per Visit',\n",
       "       'What is your current occupation_Housewife',\n",
       "       'What is your current occupation_Other',\n",
       "       'What is your current occupation_Student', 'City_Other Cities',\n",
       "       'City_Other Cities of Maharashtra', 'City_Other Metro Cities',\n",
       "       'City_Thane & Outskirts',\n",
       "       'Specialization_Banking, Investment And Insurance',\n",
       "       'Specialization_E-Business', 'Specialization_International Business',\n",
       "       'Specialization_Management_Specializations',\n",
       "       'Specialization_Services Excellence',\n",
       "       'Specialization_Travel and Tourism', 'Lead Source_Direct Traffic',\n",
       "       'Lead Source_Google', 'Lead Source_Organic Search',\n",
       "       'Lead Source_Reference', 'Lead Source_Referral Sites',\n",
       "       'Last Activity_Email Link Clicked', 'Last Activity_Email Opened',\n",
       "       'Last Activity_Form Submitted on Website',\n",
       "       'Last Activity_Olark Chat Conversation',\n",
       "       'Last Notable Activity_Email Link Clicked',\n",
       "       'Last Notable Activity_Email Opened',\n",
       "       'Last Notable Activity_Page Visited on Website'],\n",
       "      dtype='object')"
      ]
     },
     "execution_count": 134,
     "metadata": {},
     "output_type": "execute_result"
    }
   ],
   "source": [
    "X_train.columns[~rfe.support_]"
   ]
  },
  {
   "cell_type": "markdown",
   "id": "73f163d1-bc85-4e48-b54d-9e27f3fe7f54",
   "metadata": {},
   "source": [
    "## MODEL BUILDING"
   ]
  },
  {
   "cell_type": "code",
   "execution_count": null,
   "id": "35e78cb2-c96b-48a9-9683-c7d6b0a54f40",
   "metadata": {},
   "outputs": [
    {
     "data": {
      "text/html": [
       "<table class=\"simpletable\">\n",
       "<caption>Generalized Linear Model Regression Results</caption>\n",
       "<tr>\n",
       "  <th>Dep. Variable:</th>       <td>Converted</td>    <th>  No. Observations:  </th>  <td>  4648</td> \n",
       "</tr>\n",
       "<tr>\n",
       "  <th>Model:</th>                  <td>GLM</td>       <th>  Df Residuals:      </th>  <td>  4620</td> \n",
       "</tr>\n",
       "<tr>\n",
       "  <th>Model Family:</th>        <td>Binomial</td>     <th>  Df Model:          </th>  <td>    27</td> \n",
       "</tr>\n",
       "<tr>\n",
       "  <th>Link Function:</th>         <td>Logit</td>      <th>  Scale:             </th> <td>  1.0000</td>\n",
       "</tr>\n",
       "<tr>\n",
       "  <th>Method:</th>                <td>IRLS</td>       <th>  Log-Likelihood:    </th> <td> -855.64</td>\n",
       "</tr>\n",
       "<tr>\n",
       "  <th>Date:</th>            <td>Thu, 14 Dec 2023</td> <th>  Deviance:          </th> <td>  1711.3</td>\n",
       "</tr>\n",
       "<tr>\n",
       "  <th>Time:</th>                <td>22:55:12</td>     <th>  Pearson chi2:      </th> <td>6.52e+03</td>\n",
       "</tr>\n",
       "<tr>\n",
       "  <th>No. Iterations:</th>         <td>24</td>        <th>  Pseudo R-squ. (CS):</th>  <td>0.6102</td> \n",
       "</tr>\n",
       "<tr>\n",
       "  <th>Covariance Type:</th>     <td>nonrobust</td>    <th>                     </th>     <td> </td>   \n",
       "</tr>\n",
       "</table>\n",
       "<table class=\"simpletable\">\n",
       "<tr>\n",
       "                            <td></td>                              <th>coef</th>     <th>std err</th>      <th>z</th>      <th>P>|z|</th>  <th>[0.025</th>    <th>0.975]</th>  \n",
       "</tr>\n",
       "<tr>\n",
       "  <th>const</th>                                                <td>   -0.3578</td> <td>    0.531</td> <td>   -0.673</td> <td> 0.501</td> <td>   -1.399</td> <td>    0.684</td>\n",
       "</tr>\n",
       "<tr>\n",
       "  <th>Total Time Spent on Website</th>                          <td>    1.1277</td> <td>    0.066</td> <td>   17.109</td> <td> 0.000</td> <td>    0.999</td> <td>    1.257</td>\n",
       "</tr>\n",
       "<tr>\n",
       "  <th>Lead Origin_Landing Page Submission</th>                  <td>   -0.7147</td> <td>    0.143</td> <td>   -4.983</td> <td> 0.000</td> <td>   -0.996</td> <td>   -0.434</td>\n",
       "</tr>\n",
       "<tr>\n",
       "  <th>Lead Origin_Lead Add Form</th>                            <td>   22.5031</td> <td> 4.44e+04</td> <td>    0.001</td> <td> 1.000</td> <td>-8.69e+04</td> <td> 8.69e+04</td>\n",
       "</tr>\n",
       "<tr>\n",
       "  <th>What is your current occupation_Unemployed</th>           <td>   -0.7273</td> <td>    0.517</td> <td>   -1.406</td> <td> 0.160</td> <td>   -1.741</td> <td>    0.286</td>\n",
       "</tr>\n",
       "<tr>\n",
       "  <th>What is your current occupation_Working Professional</th> <td>    0.7012</td> <td>    0.726</td> <td>    0.966</td> <td> 0.334</td> <td>   -0.722</td> <td>    2.124</td>\n",
       "</tr>\n",
       "<tr>\n",
       "  <th>City_Tier II Cities</th>                                  <td>    0.7459</td> <td>    0.657</td> <td>    1.136</td> <td> 0.256</td> <td>   -0.541</td> <td>    2.033</td>\n",
       "</tr>\n",
       "<tr>\n",
       "  <th>Specialization_Business Administration</th>               <td>    0.4206</td> <td>    0.281</td> <td>    1.496</td> <td> 0.135</td> <td>   -0.130</td> <td>    0.972</td>\n",
       "</tr>\n",
       "<tr>\n",
       "  <th>Specialization_E-COMMERCE</th>                            <td>    0.5721</td> <td>    0.552</td> <td>    1.037</td> <td> 0.300</td> <td>   -0.509</td> <td>    1.653</td>\n",
       "</tr>\n",
       "<tr>\n",
       "  <th>Specialization_Media and Advertising</th>                 <td>    0.2597</td> <td>    0.423</td> <td>    0.614</td> <td> 0.539</td> <td>   -0.569</td> <td>    1.088</td>\n",
       "</tr>\n",
       "<tr>\n",
       "  <th>Specialization_Rural and Agribusiness</th>                <td>    0.5512</td> <td>    0.730</td> <td>    0.755</td> <td> 0.450</td> <td>   -0.880</td> <td>    1.983</td>\n",
       "</tr>\n",
       "<tr>\n",
       "  <th>Lead Source_Olark Chat</th>                               <td>   -0.3006</td> <td>    0.441</td> <td>   -0.682</td> <td> 0.495</td> <td>   -1.165</td> <td>    0.564</td>\n",
       "</tr>\n",
       "<tr>\n",
       "  <th>Lead Source_Social Media</th>                             <td>   -2.4687</td> <td>    1.635</td> <td>   -1.510</td> <td> 0.131</td> <td>   -5.673</td> <td>    0.736</td>\n",
       "</tr>\n",
       "<tr>\n",
       "  <th>Lead Source_Welingak Website</th>                         <td>    2.3468</td> <td> 1.05e+05</td> <td> 2.24e-05</td> <td> 1.000</td> <td>-2.05e+05</td> <td> 2.05e+05</td>\n",
       "</tr>\n",
       "<tr>\n",
       "  <th>Last Activity_Converted to Lead</th>                      <td>   -0.7007</td> <td>    0.379</td> <td>   -1.851</td> <td> 0.064</td> <td>   -1.443</td> <td>    0.041</td>\n",
       "</tr>\n",
       "<tr>\n",
       "  <th>Last Activity_Email Bounced</th>                          <td>   -1.4583</td> <td>    0.564</td> <td>   -2.584</td> <td> 0.010</td> <td>   -2.565</td> <td>   -0.352</td>\n",
       "</tr>\n",
       "<tr>\n",
       "  <th>Last Activity_Page Visited on Website</th>                <td>   -0.7036</td> <td>    0.283</td> <td>   -2.484</td> <td> 0.013</td> <td>   -1.259</td> <td>   -0.148</td>\n",
       "</tr>\n",
       "<tr>\n",
       "  <th>Last Activity_SMS Sent</th>                               <td>    0.6975</td> <td>    0.280</td> <td>    2.495</td> <td> 0.013</td> <td>    0.150</td> <td>    1.245</td>\n",
       "</tr>\n",
       "<tr>\n",
       "  <th>Last Notable Activity_Modified</th>                       <td>   -0.7608</td> <td>    0.199</td> <td>   -3.820</td> <td> 0.000</td> <td>   -1.151</td> <td>   -0.370</td>\n",
       "</tr>\n",
       "<tr>\n",
       "  <th>Last Notable Activity_Olark Chat Conversation</th>        <td>   -0.8566</td> <td>    0.558</td> <td>   -1.536</td> <td> 0.124</td> <td>   -1.949</td> <td>    0.236</td>\n",
       "</tr>\n",
       "<tr>\n",
       "  <th>Last Notable Activity_SMS Sent</th>                       <td>    1.2529</td> <td>    0.315</td> <td>    3.983</td> <td> 0.000</td> <td>    0.636</td> <td>    1.869</td>\n",
       "</tr>\n",
       "<tr>\n",
       "  <th>Tags_Busy</th>                                            <td>    1.0724</td> <td>    0.250</td> <td>    4.285</td> <td> 0.000</td> <td>    0.582</td> <td>    1.563</td>\n",
       "</tr>\n",
       "<tr>\n",
       "  <th>Tags_Closed by Horizzon</th>                              <td>   27.1565</td> <td> 1.82e+04</td> <td>    0.001</td> <td> 0.999</td> <td>-3.56e+04</td> <td> 3.57e+04</td>\n",
       "</tr>\n",
       "<tr>\n",
       "  <th>Tags_Interested in other courses</th>                     <td>   -2.1943</td> <td>    0.431</td> <td>   -5.094</td> <td> 0.000</td> <td>   -3.039</td> <td>   -1.350</td>\n",
       "</tr>\n",
       "<tr>\n",
       "  <th>Tags_Lost to EINS</th>                                    <td>    5.3808</td> <td>    0.629</td> <td>    8.560</td> <td> 0.000</td> <td>    4.149</td> <td>    6.613</td>\n",
       "</tr>\n",
       "<tr>\n",
       "  <th>Tags_Other_Tags</th>                                      <td>   -2.4727</td> <td>    0.248</td> <td>   -9.972</td> <td> 0.000</td> <td>   -2.959</td> <td>   -1.987</td>\n",
       "</tr>\n",
       "<tr>\n",
       "  <th>Tags_Ringing</th>                                         <td>   -3.3123</td> <td>    0.287</td> <td>  -11.543</td> <td> 0.000</td> <td>   -3.875</td> <td>   -2.750</td>\n",
       "</tr>\n",
       "<tr>\n",
       "  <th>Tags_Will revert after reading the email</th>             <td>    4.6963</td> <td>    0.237</td> <td>   19.817</td> <td> 0.000</td> <td>    4.232</td> <td>    5.161</td>\n",
       "</tr>\n",
       "</table>"
      ],
      "text/plain": [
       "<class 'statsmodels.iolib.summary.Summary'>\n",
       "\"\"\"\n",
       "                 Generalized Linear Model Regression Results                  \n",
       "==============================================================================\n",
       "Dep. Variable:              Converted   No. Observations:                 4648\n",
       "Model:                            GLM   Df Residuals:                     4620\n",
       "Model Family:                Binomial   Df Model:                           27\n",
       "Link Function:                  Logit   Scale:                          1.0000\n",
       "Method:                          IRLS   Log-Likelihood:                -855.64\n",
       "Date:                Thu, 14 Dec 2023   Deviance:                       1711.3\n",
       "Time:                        22:55:12   Pearson chi2:                 6.52e+03\n",
       "No. Iterations:                    24   Pseudo R-squ. (CS):             0.6102\n",
       "Covariance Type:            nonrobust                                         \n",
       "========================================================================================================================\n",
       "                                                           coef    std err          z      P>|z|      [0.025      0.975]\n",
       "------------------------------------------------------------------------------------------------------------------------\n",
       "const                                                   -0.3578      0.531     -0.673      0.501      -1.399       0.684\n",
       "Total Time Spent on Website                              1.1277      0.066     17.109      0.000       0.999       1.257\n",
       "Lead Origin_Landing Page Submission                     -0.7147      0.143     -4.983      0.000      -0.996      -0.434\n",
       "Lead Origin_Lead Add Form                               22.5031   4.44e+04      0.001      1.000   -8.69e+04    8.69e+04\n",
       "What is your current occupation_Unemployed              -0.7273      0.517     -1.406      0.160      -1.741       0.286\n",
       "What is your current occupation_Working Professional     0.7012      0.726      0.966      0.334      -0.722       2.124\n",
       "City_Tier II Cities                                      0.7459      0.657      1.136      0.256      -0.541       2.033\n",
       "Specialization_Business Administration                   0.4206      0.281      1.496      0.135      -0.130       0.972\n",
       "Specialization_E-COMMERCE                                0.5721      0.552      1.037      0.300      -0.509       1.653\n",
       "Specialization_Media and Advertising                     0.2597      0.423      0.614      0.539      -0.569       1.088\n",
       "Specialization_Rural and Agribusiness                    0.5512      0.730      0.755      0.450      -0.880       1.983\n",
       "Lead Source_Olark Chat                                  -0.3006      0.441     -0.682      0.495      -1.165       0.564\n",
       "Lead Source_Social Media                                -2.4687      1.635     -1.510      0.131      -5.673       0.736\n",
       "Lead Source_Welingak Website                             2.3468   1.05e+05   2.24e-05      1.000   -2.05e+05    2.05e+05\n",
       "Last Activity_Converted to Lead                         -0.7007      0.379     -1.851      0.064      -1.443       0.041\n",
       "Last Activity_Email Bounced                             -1.4583      0.564     -2.584      0.010      -2.565      -0.352\n",
       "Last Activity_Page Visited on Website                   -0.7036      0.283     -2.484      0.013      -1.259      -0.148\n",
       "Last Activity_SMS Sent                                   0.6975      0.280      2.495      0.013       0.150       1.245\n",
       "Last Notable Activity_Modified                          -0.7608      0.199     -3.820      0.000      -1.151      -0.370\n",
       "Last Notable Activity_Olark Chat Conversation           -0.8566      0.558     -1.536      0.124      -1.949       0.236\n",
       "Last Notable Activity_SMS Sent                           1.2529      0.315      3.983      0.000       0.636       1.869\n",
       "Tags_Busy                                                1.0724      0.250      4.285      0.000       0.582       1.563\n",
       "Tags_Closed by Horizzon                                 27.1565   1.82e+04      0.001      0.999   -3.56e+04    3.57e+04\n",
       "Tags_Interested in other courses                        -2.1943      0.431     -5.094      0.000      -3.039      -1.350\n",
       "Tags_Lost to EINS                                        5.3808      0.629      8.560      0.000       4.149       6.613\n",
       "Tags_Other_Tags                                         -2.4727      0.248     -9.972      0.000      -2.959      -1.987\n",
       "Tags_Ringing                                            -3.3123      0.287    -11.543      0.000      -3.875      -2.750\n",
       "Tags_Will revert after reading the email                 4.6963      0.237     19.817      0.000       4.232       5.161\n",
       "========================================================================================================================\n",
       "\"\"\""
      ]
     },
     "execution_count": 136,
     "metadata": {},
     "output_type": "execute_result"
    }
   ],
   "source": [
    "## Model 1\n",
    "X_train_sm = sm.add_constant(X_train[col])\n",
    "logm1 = sm.GLM(y_train,X_train_sm, family = sm.families.Binomial())\n",
    "res = logm1.fit()\n",
    "res.summary()"
   ]
  },
  {
   "cell_type": "markdown",
   "id": "d854fbc1-d59e-4c67-8a8d-c71c53506a1b",
   "metadata": {},
   "source": [
    "#### p-value of variable Lead Origin_Lead Add Form is high, so we can drop it"
   ]
  },
  {
   "cell_type": "code",
   "execution_count": 137,
   "id": "001fc22d-bb0a-4278-a974-ca2bba1a145d",
   "metadata": {},
   "outputs": [],
   "source": [
    "#dropping column with high p-value\n",
    "\n",
    "col = col.drop('Lead Origin_Lead Add Form',1)"
   ]
  },
  {
   "cell_type": "code",
   "execution_count": 138,
   "id": "d380abde-6eeb-4701-9353-e48e5942da01",
   "metadata": {},
   "outputs": [
    {
     "data": {
      "text/html": [
       "<table class=\"simpletable\">\n",
       "<caption>Generalized Linear Model Regression Results</caption>\n",
       "<tr>\n",
       "  <th>Dep. Variable:</th>       <td>Converted</td>    <th>  No. Observations:  </th>  <td>  4648</td> \n",
       "</tr>\n",
       "<tr>\n",
       "  <th>Model:</th>                  <td>GLM</td>       <th>  Df Residuals:      </th>  <td>  4621</td> \n",
       "</tr>\n",
       "<tr>\n",
       "  <th>Model Family:</th>        <td>Binomial</td>     <th>  Df Model:          </th>  <td>    26</td> \n",
       "</tr>\n",
       "<tr>\n",
       "  <th>Link Function:</th>         <td>Logit</td>      <th>  Scale:             </th> <td>  1.0000</td>\n",
       "</tr>\n",
       "<tr>\n",
       "  <th>Method:</th>                <td>IRLS</td>       <th>  Log-Likelihood:    </th> <td> -856.39</td>\n",
       "</tr>\n",
       "<tr>\n",
       "  <th>Date:</th>            <td>Thu, 14 Dec 2023</td> <th>  Deviance:          </th> <td>  1712.8</td>\n",
       "</tr>\n",
       "<tr>\n",
       "  <th>Time:</th>                <td>22:57:53</td>     <th>  Pearson chi2:      </th> <td>6.53e+03</td>\n",
       "</tr>\n",
       "<tr>\n",
       "  <th>No. Iterations:</th>         <td>24</td>        <th>  Pseudo R-squ. (CS):</th>  <td>0.6100</td> \n",
       "</tr>\n",
       "<tr>\n",
       "  <th>Covariance Type:</th>     <td>nonrobust</td>    <th>                     </th>     <td> </td>   \n",
       "</tr>\n",
       "</table>\n",
       "<table class=\"simpletable\">\n",
       "<tr>\n",
       "                            <td></td>                              <th>coef</th>     <th>std err</th>      <th>z</th>      <th>P>|z|</th>  <th>[0.025</th>    <th>0.975]</th>  \n",
       "</tr>\n",
       "<tr>\n",
       "  <th>const</th>                                                <td>   -0.3491</td> <td>    0.531</td> <td>   -0.657</td> <td> 0.511</td> <td>   -1.390</td> <td>    0.692</td>\n",
       "</tr>\n",
       "<tr>\n",
       "  <th>Total Time Spent on Website</th>                          <td>    1.1293</td> <td>    0.066</td> <td>   17.132</td> <td> 0.000</td> <td>    1.000</td> <td>    1.258</td>\n",
       "</tr>\n",
       "<tr>\n",
       "  <th>Lead Origin_Landing Page Submission</th>                  <td>   -0.7207</td> <td>    0.143</td> <td>   -5.029</td> <td> 0.000</td> <td>   -1.002</td> <td>   -0.440</td>\n",
       "</tr>\n",
       "<tr>\n",
       "  <th>What is your current occupation_Unemployed</th>           <td>   -0.7267</td> <td>    0.517</td> <td>   -1.405</td> <td> 0.160</td> <td>   -1.740</td> <td>    0.287</td>\n",
       "</tr>\n",
       "<tr>\n",
       "  <th>What is your current occupation_Working Professional</th> <td>    0.7048</td> <td>    0.726</td> <td>    0.971</td> <td> 0.331</td> <td>   -0.717</td> <td>    2.127</td>\n",
       "</tr>\n",
       "<tr>\n",
       "  <th>City_Tier II Cities</th>                                  <td>    0.7474</td> <td>    0.657</td> <td>    1.138</td> <td> 0.255</td> <td>   -0.539</td> <td>    2.034</td>\n",
       "</tr>\n",
       "<tr>\n",
       "  <th>Specialization_Business Administration</th>               <td>    0.4202</td> <td>    0.281</td> <td>    1.494</td> <td> 0.135</td> <td>   -0.131</td> <td>    0.971</td>\n",
       "</tr>\n",
       "<tr>\n",
       "  <th>Specialization_E-COMMERCE</th>                            <td>    0.5730</td> <td>    0.552</td> <td>    1.039</td> <td> 0.299</td> <td>   -0.508</td> <td>    1.654</td>\n",
       "</tr>\n",
       "<tr>\n",
       "  <th>Specialization_Media and Advertising</th>                 <td>    0.2601</td> <td>    0.423</td> <td>    0.615</td> <td> 0.538</td> <td>   -0.568</td> <td>    1.089</td>\n",
       "</tr>\n",
       "<tr>\n",
       "  <th>Specialization_Rural and Agribusiness</th>                <td>    0.5505</td> <td>    0.730</td> <td>    0.754</td> <td> 0.451</td> <td>   -0.881</td> <td>    1.982</td>\n",
       "</tr>\n",
       "<tr>\n",
       "  <th>Lead Source_Olark Chat</th>                               <td>   -0.3073</td> <td>    0.441</td> <td>   -0.697</td> <td> 0.486</td> <td>   -1.171</td> <td>    0.557</td>\n",
       "</tr>\n",
       "<tr>\n",
       "  <th>Lead Source_Social Media</th>                             <td>   -2.4692</td> <td>    1.636</td> <td>   -1.509</td> <td> 0.131</td> <td>   -5.677</td> <td>    0.738</td>\n",
       "</tr>\n",
       "<tr>\n",
       "  <th>Lead Source_Welingak Website</th>                         <td>   24.8415</td> <td> 9.47e+04</td> <td>    0.000</td> <td> 1.000</td> <td>-1.86e+05</td> <td> 1.86e+05</td>\n",
       "</tr>\n",
       "<tr>\n",
       "  <th>Last Activity_Converted to Lead</th>                      <td>   -0.7011</td> <td>    0.378</td> <td>   -1.853</td> <td> 0.064</td> <td>   -1.443</td> <td>    0.041</td>\n",
       "</tr>\n",
       "<tr>\n",
       "  <th>Last Activity_Email Bounced</th>                          <td>   -1.4600</td> <td>    0.564</td> <td>   -2.587</td> <td> 0.010</td> <td>   -2.566</td> <td>   -0.354</td>\n",
       "</tr>\n",
       "<tr>\n",
       "  <th>Last Activity_Page Visited on Website</th>                <td>   -0.7069</td> <td>    0.283</td> <td>   -2.496</td> <td> 0.013</td> <td>   -1.262</td> <td>   -0.152</td>\n",
       "</tr>\n",
       "<tr>\n",
       "  <th>Last Activity_SMS Sent</th>                               <td>    0.6978</td> <td>    0.280</td> <td>    2.496</td> <td> 0.013</td> <td>    0.150</td> <td>    1.246</td>\n",
       "</tr>\n",
       "<tr>\n",
       "  <th>Last Notable Activity_Modified</th>                       <td>   -0.7660</td> <td>    0.199</td> <td>   -3.848</td> <td> 0.000</td> <td>   -1.156</td> <td>   -0.376</td>\n",
       "</tr>\n",
       "<tr>\n",
       "  <th>Last Notable Activity_Olark Chat Conversation</th>        <td>   -0.8647</td> <td>    0.558</td> <td>   -1.551</td> <td> 0.121</td> <td>   -1.957</td> <td>    0.228</td>\n",
       "</tr>\n",
       "<tr>\n",
       "  <th>Last Notable Activity_SMS Sent</th>                       <td>    1.2482</td> <td>    0.315</td> <td>    3.969</td> <td> 0.000</td> <td>    0.632</td> <td>    1.865</td>\n",
       "</tr>\n",
       "<tr>\n",
       "  <th>Tags_Busy</th>                                            <td>    1.0716</td> <td>    0.250</td> <td>    4.282</td> <td> 0.000</td> <td>    0.581</td> <td>    1.562</td>\n",
       "</tr>\n",
       "<tr>\n",
       "  <th>Tags_Closed by Horizzon</th>                              <td>   27.2184</td> <td> 1.85e+04</td> <td>    0.001</td> <td> 0.999</td> <td>-3.63e+04</td> <td> 3.63e+04</td>\n",
       "</tr>\n",
       "<tr>\n",
       "  <th>Tags_Interested in other courses</th>                     <td>   -2.1984</td> <td>    0.431</td> <td>   -5.103</td> <td> 0.000</td> <td>   -3.043</td> <td>   -1.354</td>\n",
       "</tr>\n",
       "<tr>\n",
       "  <th>Tags_Lost to EINS</th>                                    <td>    5.3818</td> <td>    0.629</td> <td>    8.560</td> <td> 0.000</td> <td>    4.149</td> <td>    6.614</td>\n",
       "</tr>\n",
       "<tr>\n",
       "  <th>Tags_Other_Tags</th>                                      <td>   -2.4754</td> <td>    0.248</td> <td>   -9.982</td> <td> 0.000</td> <td>   -2.961</td> <td>   -1.989</td>\n",
       "</tr>\n",
       "<tr>\n",
       "  <th>Tags_Ringing</th>                                         <td>   -3.3147</td> <td>    0.287</td> <td>  -11.550</td> <td> 0.000</td> <td>   -3.877</td> <td>   -2.752</td>\n",
       "</tr>\n",
       "<tr>\n",
       "  <th>Tags_Will revert after reading the email</th>             <td>    4.6956</td> <td>    0.237</td> <td>   19.808</td> <td> 0.000</td> <td>    4.231</td> <td>    5.160</td>\n",
       "</tr>\n",
       "</table>"
      ],
      "text/plain": [
       "<class 'statsmodels.iolib.summary.Summary'>\n",
       "\"\"\"\n",
       "                 Generalized Linear Model Regression Results                  \n",
       "==============================================================================\n",
       "Dep. Variable:              Converted   No. Observations:                 4648\n",
       "Model:                            GLM   Df Residuals:                     4621\n",
       "Model Family:                Binomial   Df Model:                           26\n",
       "Link Function:                  Logit   Scale:                          1.0000\n",
       "Method:                          IRLS   Log-Likelihood:                -856.39\n",
       "Date:                Thu, 14 Dec 2023   Deviance:                       1712.8\n",
       "Time:                        22:57:53   Pearson chi2:                 6.53e+03\n",
       "No. Iterations:                    24   Pseudo R-squ. (CS):             0.6100\n",
       "Covariance Type:            nonrobust                                         \n",
       "========================================================================================================================\n",
       "                                                           coef    std err          z      P>|z|      [0.025      0.975]\n",
       "------------------------------------------------------------------------------------------------------------------------\n",
       "const                                                   -0.3491      0.531     -0.657      0.511      -1.390       0.692\n",
       "Total Time Spent on Website                              1.1293      0.066     17.132      0.000       1.000       1.258\n",
       "Lead Origin_Landing Page Submission                     -0.7207      0.143     -5.029      0.000      -1.002      -0.440\n",
       "What is your current occupation_Unemployed              -0.7267      0.517     -1.405      0.160      -1.740       0.287\n",
       "What is your current occupation_Working Professional     0.7048      0.726      0.971      0.331      -0.717       2.127\n",
       "City_Tier II Cities                                      0.7474      0.657      1.138      0.255      -0.539       2.034\n",
       "Specialization_Business Administration                   0.4202      0.281      1.494      0.135      -0.131       0.971\n",
       "Specialization_E-COMMERCE                                0.5730      0.552      1.039      0.299      -0.508       1.654\n",
       "Specialization_Media and Advertising                     0.2601      0.423      0.615      0.538      -0.568       1.089\n",
       "Specialization_Rural and Agribusiness                    0.5505      0.730      0.754      0.451      -0.881       1.982\n",
       "Lead Source_Olark Chat                                  -0.3073      0.441     -0.697      0.486      -1.171       0.557\n",
       "Lead Source_Social Media                                -2.4692      1.636     -1.509      0.131      -5.677       0.738\n",
       "Lead Source_Welingak Website                            24.8415   9.47e+04      0.000      1.000   -1.86e+05    1.86e+05\n",
       "Last Activity_Converted to Lead                         -0.7011      0.378     -1.853      0.064      -1.443       0.041\n",
       "Last Activity_Email Bounced                             -1.4600      0.564     -2.587      0.010      -2.566      -0.354\n",
       "Last Activity_Page Visited on Website                   -0.7069      0.283     -2.496      0.013      -1.262      -0.152\n",
       "Last Activity_SMS Sent                                   0.6978      0.280      2.496      0.013       0.150       1.246\n",
       "Last Notable Activity_Modified                          -0.7660      0.199     -3.848      0.000      -1.156      -0.376\n",
       "Last Notable Activity_Olark Chat Conversation           -0.8647      0.558     -1.551      0.121      -1.957       0.228\n",
       "Last Notable Activity_SMS Sent                           1.2482      0.315      3.969      0.000       0.632       1.865\n",
       "Tags_Busy                                                1.0716      0.250      4.282      0.000       0.581       1.562\n",
       "Tags_Closed by Horizzon                                 27.2184   1.85e+04      0.001      0.999   -3.63e+04    3.63e+04\n",
       "Tags_Interested in other courses                        -2.1984      0.431     -5.103      0.000      -3.043      -1.354\n",
       "Tags_Lost to EINS                                        5.3818      0.629      8.560      0.000       4.149       6.614\n",
       "Tags_Other_Tags                                         -2.4754      0.248     -9.982      0.000      -2.961      -1.989\n",
       "Tags_Ringing                                            -3.3147      0.287    -11.550      0.000      -3.877      -2.752\n",
       "Tags_Will revert after reading the email                 4.6956      0.237     19.808      0.000       4.231       5.160\n",
       "========================================================================================================================\n",
       "\"\"\""
      ]
     },
     "execution_count": 138,
     "metadata": {},
     "output_type": "execute_result"
    }
   ],
   "source": [
    "## Model 2\n",
    "X_train_sm = sm.add_constant(X_train[col])\n",
    "logm2 = sm.GLM(y_train,X_train_sm, family = sm.families.Binomial())\n",
    "res = logm2.fit()\n",
    "res.summary()"
   ]
  },
  {
   "cell_type": "markdown",
   "id": "86938c70-583d-4bc9-8562-058835059aed",
   "metadata": {},
   "source": [
    "#### p-value of variable Tags_Closed by Horizzon is high, so we can drop it"
   ]
  },
  {
   "cell_type": "code",
   "execution_count": 139,
   "id": "2d730d7d-4456-4cd9-b0ef-ea4e81ff53ab",
   "metadata": {},
   "outputs": [],
   "source": [
    "#dropping column with high p-value\n",
    "\n",
    "col = col.drop('Tags_Closed by Horizzon',1)"
   ]
  },
  {
   "cell_type": "code",
   "execution_count": 140,
   "id": "12c52d26-d596-4ea9-82de-b6fb776d4e23",
   "metadata": {},
   "outputs": [
    {
     "data": {
      "text/html": [
       "<table class=\"simpletable\">\n",
       "<caption>Generalized Linear Model Regression Results</caption>\n",
       "<tr>\n",
       "  <th>Dep. Variable:</th>       <td>Converted</td>    <th>  No. Observations:  </th>  <td>  4648</td> \n",
       "</tr>\n",
       "<tr>\n",
       "  <th>Model:</th>                  <td>GLM</td>       <th>  Df Residuals:      </th>  <td>  4622</td> \n",
       "</tr>\n",
       "<tr>\n",
       "  <th>Model Family:</th>        <td>Binomial</td>     <th>  Df Model:          </th>  <td>    25</td> \n",
       "</tr>\n",
       "<tr>\n",
       "  <th>Link Function:</th>         <td>Logit</td>      <th>  Scale:             </th> <td>  1.0000</td>\n",
       "</tr>\n",
       "<tr>\n",
       "  <th>Method:</th>                <td>IRLS</td>       <th>  Log-Likelihood:    </th> <td> -987.00</td>\n",
       "</tr>\n",
       "<tr>\n",
       "  <th>Date:</th>            <td>Thu, 14 Dec 2023</td> <th>  Deviance:          </th> <td>  1974.0</td>\n",
       "</tr>\n",
       "<tr>\n",
       "  <th>Time:</th>                <td>22:58:59</td>     <th>  Pearson chi2:      </th> <td>6.92e+03</td>\n",
       "</tr>\n",
       "<tr>\n",
       "  <th>No. Iterations:</th>         <td>20</td>        <th>  Pseudo R-squ. (CS):</th>  <td>0.5875</td> \n",
       "</tr>\n",
       "<tr>\n",
       "  <th>Covariance Type:</th>     <td>nonrobust</td>    <th>                     </th>     <td> </td>   \n",
       "</tr>\n",
       "</table>\n",
       "<table class=\"simpletable\">\n",
       "<tr>\n",
       "                            <td></td>                              <th>coef</th>     <th>std err</th>      <th>z</th>      <th>P>|z|</th>  <th>[0.025</th>    <th>0.975]</th>  \n",
       "</tr>\n",
       "<tr>\n",
       "  <th>const</th>                                                <td>    0.2314</td> <td>    0.434</td> <td>    0.533</td> <td> 0.594</td> <td>   -0.620</td> <td>    1.083</td>\n",
       "</tr>\n",
       "<tr>\n",
       "  <th>Total Time Spent on Website</th>                          <td>    1.1365</td> <td>    0.061</td> <td>   18.611</td> <td> 0.000</td> <td>    1.017</td> <td>    1.256</td>\n",
       "</tr>\n",
       "<tr>\n",
       "  <th>Lead Origin_Landing Page Submission</th>                  <td>   -0.4746</td> <td>    0.131</td> <td>   -3.621</td> <td> 0.000</td> <td>   -0.731</td> <td>   -0.218</td>\n",
       "</tr>\n",
       "<tr>\n",
       "  <th>What is your current occupation_Unemployed</th>           <td>   -1.1509</td> <td>    0.422</td> <td>   -2.729</td> <td> 0.006</td> <td>   -1.977</td> <td>   -0.324</td>\n",
       "</tr>\n",
       "<tr>\n",
       "  <th>What is your current occupation_Working Professional</th> <td>    1.5409</td> <td>    0.564</td> <td>    2.730</td> <td> 0.006</td> <td>    0.435</td> <td>    2.647</td>\n",
       "</tr>\n",
       "<tr>\n",
       "  <th>City_Tier II Cities</th>                                  <td>    0.5643</td> <td>    0.599</td> <td>    0.943</td> <td> 0.346</td> <td>   -0.609</td> <td>    1.738</td>\n",
       "</tr>\n",
       "<tr>\n",
       "  <th>Specialization_Business Administration</th>               <td>    0.3598</td> <td>    0.261</td> <td>    1.378</td> <td> 0.168</td> <td>   -0.152</td> <td>    0.872</td>\n",
       "</tr>\n",
       "<tr>\n",
       "  <th>Specialization_E-COMMERCE</th>                            <td>    0.6251</td> <td>    0.477</td> <td>    1.311</td> <td> 0.190</td> <td>   -0.309</td> <td>    1.559</td>\n",
       "</tr>\n",
       "<tr>\n",
       "  <th>Specialization_Media and Advertising</th>                 <td>    0.2680</td> <td>    0.390</td> <td>    0.688</td> <td> 0.492</td> <td>   -0.496</td> <td>    1.032</td>\n",
       "</tr>\n",
       "<tr>\n",
       "  <th>Specialization_Rural and Agribusiness</th>                <td>    0.2008</td> <td>    0.708</td> <td>    0.284</td> <td> 0.777</td> <td>   -1.186</td> <td>    1.588</td>\n",
       "</tr>\n",
       "<tr>\n",
       "  <th>Lead Source_Olark Chat</th>                               <td>   -0.4364</td> <td>    0.430</td> <td>   -1.015</td> <td> 0.310</td> <td>   -1.279</td> <td>    0.406</td>\n",
       "</tr>\n",
       "<tr>\n",
       "  <th>Lead Source_Social Media</th>                             <td>   -2.7376</td> <td>    1.609</td> <td>   -1.701</td> <td> 0.089</td> <td>   -5.891</td> <td>    0.416</td>\n",
       "</tr>\n",
       "<tr>\n",
       "  <th>Lead Source_Welingak Website</th>                         <td>   21.3043</td> <td>  1.4e+04</td> <td>    0.002</td> <td> 0.999</td> <td>-2.74e+04</td> <td> 2.75e+04</td>\n",
       "</tr>\n",
       "<tr>\n",
       "  <th>Last Activity_Converted to Lead</th>                      <td>   -1.3814</td> <td>    0.354</td> <td>   -3.901</td> <td> 0.000</td> <td>   -2.076</td> <td>   -0.687</td>\n",
       "</tr>\n",
       "<tr>\n",
       "  <th>Last Activity_Email Bounced</th>                          <td>   -1.8942</td> <td>    0.496</td> <td>   -3.819</td> <td> 0.000</td> <td>   -2.866</td> <td>   -0.922</td>\n",
       "</tr>\n",
       "<tr>\n",
       "  <th>Last Activity_Page Visited on Website</th>                <td>   -0.5394</td> <td>    0.227</td> <td>   -2.378</td> <td> 0.017</td> <td>   -0.984</td> <td>   -0.095</td>\n",
       "</tr>\n",
       "<tr>\n",
       "  <th>Last Activity_SMS Sent</th>                               <td>   -0.0133</td> <td>    0.250</td> <td>   -0.053</td> <td> 0.957</td> <td>   -0.503</td> <td>    0.476</td>\n",
       "</tr>\n",
       "<tr>\n",
       "  <th>Last Notable Activity_Modified</th>                       <td>   -0.2359</td> <td>    0.162</td> <td>   -1.456</td> <td> 0.145</td> <td>   -0.553</td> <td>    0.082</td>\n",
       "</tr>\n",
       "<tr>\n",
       "  <th>Last Notable Activity_Olark Chat Conversation</th>        <td>   -0.8340</td> <td>    0.513</td> <td>   -1.627</td> <td> 0.104</td> <td>   -1.839</td> <td>    0.171</td>\n",
       "</tr>\n",
       "<tr>\n",
       "  <th>Last Notable Activity_SMS Sent</th>                       <td>    1.7571</td> <td>    0.288</td> <td>    6.092</td> <td> 0.000</td> <td>    1.192</td> <td>    2.322</td>\n",
       "</tr>\n",
       "<tr>\n",
       "  <th>Tags_Busy</th>                                            <td>    0.7746</td> <td>    0.245</td> <td>    3.159</td> <td> 0.002</td> <td>    0.294</td> <td>    1.255</td>\n",
       "</tr>\n",
       "<tr>\n",
       "  <th>Tags_Interested in other courses</th>                     <td>   -2.8074</td> <td>    0.432</td> <td>   -6.492</td> <td> 0.000</td> <td>   -3.655</td> <td>   -1.960</td>\n",
       "</tr>\n",
       "<tr>\n",
       "  <th>Tags_Lost to EINS</th>                                    <td>    4.8556</td> <td>    0.630</td> <td>    7.710</td> <td> 0.000</td> <td>    3.621</td> <td>    6.090</td>\n",
       "</tr>\n",
       "<tr>\n",
       "  <th>Tags_Other_Tags</th>                                      <td>   -2.8446</td> <td>    0.244</td> <td>  -11.672</td> <td> 0.000</td> <td>   -3.322</td> <td>   -2.367</td>\n",
       "</tr>\n",
       "<tr>\n",
       "  <th>Tags_Ringing</th>                                         <td>   -3.5602</td> <td>    0.285</td> <td>  -12.475</td> <td> 0.000</td> <td>   -4.120</td> <td>   -3.001</td>\n",
       "</tr>\n",
       "<tr>\n",
       "  <th>Tags_Will revert after reading the email</th>             <td>    4.2175</td> <td>    0.227</td> <td>   18.603</td> <td> 0.000</td> <td>    3.773</td> <td>    4.662</td>\n",
       "</tr>\n",
       "</table>"
      ],
      "text/plain": [
       "<class 'statsmodels.iolib.summary.Summary'>\n",
       "\"\"\"\n",
       "                 Generalized Linear Model Regression Results                  \n",
       "==============================================================================\n",
       "Dep. Variable:              Converted   No. Observations:                 4648\n",
       "Model:                            GLM   Df Residuals:                     4622\n",
       "Model Family:                Binomial   Df Model:                           25\n",
       "Link Function:                  Logit   Scale:                          1.0000\n",
       "Method:                          IRLS   Log-Likelihood:                -987.00\n",
       "Date:                Thu, 14 Dec 2023   Deviance:                       1974.0\n",
       "Time:                        22:58:59   Pearson chi2:                 6.92e+03\n",
       "No. Iterations:                    20   Pseudo R-squ. (CS):             0.5875\n",
       "Covariance Type:            nonrobust                                         \n",
       "========================================================================================================================\n",
       "                                                           coef    std err          z      P>|z|      [0.025      0.975]\n",
       "------------------------------------------------------------------------------------------------------------------------\n",
       "const                                                    0.2314      0.434      0.533      0.594      -0.620       1.083\n",
       "Total Time Spent on Website                              1.1365      0.061     18.611      0.000       1.017       1.256\n",
       "Lead Origin_Landing Page Submission                     -0.4746      0.131     -3.621      0.000      -0.731      -0.218\n",
       "What is your current occupation_Unemployed              -1.1509      0.422     -2.729      0.006      -1.977      -0.324\n",
       "What is your current occupation_Working Professional     1.5409      0.564      2.730      0.006       0.435       2.647\n",
       "City_Tier II Cities                                      0.5643      0.599      0.943      0.346      -0.609       1.738\n",
       "Specialization_Business Administration                   0.3598      0.261      1.378      0.168      -0.152       0.872\n",
       "Specialization_E-COMMERCE                                0.6251      0.477      1.311      0.190      -0.309       1.559\n",
       "Specialization_Media and Advertising                     0.2680      0.390      0.688      0.492      -0.496       1.032\n",
       "Specialization_Rural and Agribusiness                    0.2008      0.708      0.284      0.777      -1.186       1.588\n",
       "Lead Source_Olark Chat                                  -0.4364      0.430     -1.015      0.310      -1.279       0.406\n",
       "Lead Source_Social Media                                -2.7376      1.609     -1.701      0.089      -5.891       0.416\n",
       "Lead Source_Welingak Website                            21.3043    1.4e+04      0.002      0.999   -2.74e+04    2.75e+04\n",
       "Last Activity_Converted to Lead                         -1.3814      0.354     -3.901      0.000      -2.076      -0.687\n",
       "Last Activity_Email Bounced                             -1.8942      0.496     -3.819      0.000      -2.866      -0.922\n",
       "Last Activity_Page Visited on Website                   -0.5394      0.227     -2.378      0.017      -0.984      -0.095\n",
       "Last Activity_SMS Sent                                  -0.0133      0.250     -0.053      0.957      -0.503       0.476\n",
       "Last Notable Activity_Modified                          -0.2359      0.162     -1.456      0.145      -0.553       0.082\n",
       "Last Notable Activity_Olark Chat Conversation           -0.8340      0.513     -1.627      0.104      -1.839       0.171\n",
       "Last Notable Activity_SMS Sent                           1.7571      0.288      6.092      0.000       1.192       2.322\n",
       "Tags_Busy                                                0.7746      0.245      3.159      0.002       0.294       1.255\n",
       "Tags_Interested in other courses                        -2.8074      0.432     -6.492      0.000      -3.655      -1.960\n",
       "Tags_Lost to EINS                                        4.8556      0.630      7.710      0.000       3.621       6.090\n",
       "Tags_Other_Tags                                         -2.8446      0.244    -11.672      0.000      -3.322      -2.367\n",
       "Tags_Ringing                                            -3.5602      0.285    -12.475      0.000      -4.120      -3.001\n",
       "Tags_Will revert after reading the email                 4.2175      0.227     18.603      0.000       3.773       4.662\n",
       "========================================================================================================================\n",
       "\"\"\""
      ]
     },
     "execution_count": 140,
     "metadata": {},
     "output_type": "execute_result"
    }
   ],
   "source": [
    "## Model 3\n",
    "X_train_sm = sm.add_constant(X_train[col])\n",
    "logm2 = sm.GLM(y_train,X_train_sm, family = sm.families.Binomial())\n",
    "res = logm2.fit()\n",
    "res.summary()"
   ]
  },
  {
   "cell_type": "markdown",
   "id": "a0bd7d73-530f-413d-82a1-96738712ecb3",
   "metadata": {},
   "source": [
    "#### p-value of variable Last Notable Activity_Modified is high, so we can drop it"
   ]
  },
  {
   "cell_type": "code",
   "execution_count": 141,
   "id": "e3d1a8f2-8377-4622-bce4-834c44ea1cda",
   "metadata": {},
   "outputs": [],
   "source": [
    "#dropping column with high p-value\n",
    "\n",
    "col = col.drop('Last Notable Activity_Modified',1)"
   ]
  },
  {
   "cell_type": "code",
   "execution_count": 142,
   "id": "f83853ba-be32-453a-a057-dfc429b25037",
   "metadata": {},
   "outputs": [
    {
     "data": {
      "text/html": [
       "<table class=\"simpletable\">\n",
       "<caption>Generalized Linear Model Regression Results</caption>\n",
       "<tr>\n",
       "  <th>Dep. Variable:</th>       <td>Converted</td>    <th>  No. Observations:  </th>  <td>  4648</td> \n",
       "</tr>\n",
       "<tr>\n",
       "  <th>Model:</th>                  <td>GLM</td>       <th>  Df Residuals:      </th>  <td>  4623</td> \n",
       "</tr>\n",
       "<tr>\n",
       "  <th>Model Family:</th>        <td>Binomial</td>     <th>  Df Model:          </th>  <td>    24</td> \n",
       "</tr>\n",
       "<tr>\n",
       "  <th>Link Function:</th>         <td>Logit</td>      <th>  Scale:             </th> <td>  1.0000</td>\n",
       "</tr>\n",
       "<tr>\n",
       "  <th>Method:</th>                <td>IRLS</td>       <th>  Log-Likelihood:    </th> <td> -988.07</td>\n",
       "</tr>\n",
       "<tr>\n",
       "  <th>Date:</th>            <td>Thu, 14 Dec 2023</td> <th>  Deviance:          </th> <td>  1976.1</td>\n",
       "</tr>\n",
       "<tr>\n",
       "  <th>Time:</th>                <td>22:59:55</td>     <th>  Pearson chi2:      </th> <td>7.13e+03</td>\n",
       "</tr>\n",
       "<tr>\n",
       "  <th>No. Iterations:</th>         <td>20</td>        <th>  Pseudo R-squ. (CS):</th>  <td>0.5873</td> \n",
       "</tr>\n",
       "<tr>\n",
       "  <th>Covariance Type:</th>     <td>nonrobust</td>    <th>                     </th>     <td> </td>   \n",
       "</tr>\n",
       "</table>\n",
       "<table class=\"simpletable\">\n",
       "<tr>\n",
       "                            <td></td>                              <th>coef</th>     <th>std err</th>      <th>z</th>      <th>P>|z|</th>  <th>[0.025</th>    <th>0.975]</th>  \n",
       "</tr>\n",
       "<tr>\n",
       "  <th>const</th>                                                <td>    0.1458</td> <td>    0.430</td> <td>    0.339</td> <td> 0.735</td> <td>   -0.698</td> <td>    0.989</td>\n",
       "</tr>\n",
       "<tr>\n",
       "  <th>Total Time Spent on Website</th>                          <td>    1.1334</td> <td>    0.061</td> <td>   18.594</td> <td> 0.000</td> <td>    1.014</td> <td>    1.253</td>\n",
       "</tr>\n",
       "<tr>\n",
       "  <th>Lead Origin_Landing Page Submission</th>                  <td>   -0.4711</td> <td>    0.131</td> <td>   -3.599</td> <td> 0.000</td> <td>   -0.728</td> <td>   -0.215</td>\n",
       "</tr>\n",
       "<tr>\n",
       "  <th>What is your current occupation_Unemployed</th>           <td>   -1.1385</td> <td>    0.422</td> <td>   -2.700</td> <td> 0.007</td> <td>   -1.965</td> <td>   -0.312</td>\n",
       "</tr>\n",
       "<tr>\n",
       "  <th>What is your current occupation_Working Professional</th> <td>    1.5700</td> <td>    0.565</td> <td>    2.778</td> <td> 0.005</td> <td>    0.462</td> <td>    2.678</td>\n",
       "</tr>\n",
       "<tr>\n",
       "  <th>City_Tier II Cities</th>                                  <td>    0.5512</td> <td>    0.602</td> <td>    0.916</td> <td> 0.360</td> <td>   -0.628</td> <td>    1.730</td>\n",
       "</tr>\n",
       "<tr>\n",
       "  <th>Specialization_Business Administration</th>               <td>    0.3632</td> <td>    0.261</td> <td>    1.390</td> <td> 0.164</td> <td>   -0.149</td> <td>    0.875</td>\n",
       "</tr>\n",
       "<tr>\n",
       "  <th>Specialization_E-COMMERCE</th>                            <td>    0.6305</td> <td>    0.475</td> <td>    1.327</td> <td> 0.184</td> <td>   -0.301</td> <td>    1.562</td>\n",
       "</tr>\n",
       "<tr>\n",
       "  <th>Specialization_Media and Advertising</th>                 <td>    0.2609</td> <td>    0.391</td> <td>    0.668</td> <td> 0.504</td> <td>   -0.505</td> <td>    1.026</td>\n",
       "</tr>\n",
       "<tr>\n",
       "  <th>Specialization_Rural and Agribusiness</th>                <td>    0.2057</td> <td>    0.707</td> <td>    0.291</td> <td> 0.771</td> <td>   -1.181</td> <td>    1.592</td>\n",
       "</tr>\n",
       "<tr>\n",
       "  <th>Lead Source_Olark Chat</th>                               <td>   -0.4335</td> <td>    0.430</td> <td>   -1.009</td> <td> 0.313</td> <td>   -1.275</td> <td>    0.408</td>\n",
       "</tr>\n",
       "<tr>\n",
       "  <th>Lead Source_Social Media</th>                             <td>   -2.8240</td> <td>    1.640</td> <td>   -1.722</td> <td> 0.085</td> <td>   -6.038</td> <td>    0.390</td>\n",
       "</tr>\n",
       "<tr>\n",
       "  <th>Lead Source_Welingak Website</th>                         <td>   21.3070</td> <td>  1.4e+04</td> <td>    0.002</td> <td> 0.999</td> <td>-2.75e+04</td> <td> 2.75e+04</td>\n",
       "</tr>\n",
       "<tr>\n",
       "  <th>Last Activity_Converted to Lead</th>                      <td>   -1.5448</td> <td>    0.336</td> <td>   -4.597</td> <td> 0.000</td> <td>   -2.203</td> <td>   -0.886</td>\n",
       "</tr>\n",
       "<tr>\n",
       "  <th>Last Activity_Email Bounced</th>                          <td>   -1.9972</td> <td>    0.491</td> <td>   -4.070</td> <td> 0.000</td> <td>   -2.959</td> <td>   -1.035</td>\n",
       "</tr>\n",
       "<tr>\n",
       "  <th>Last Activity_Page Visited on Website</th>                <td>   -0.5806</td> <td>    0.225</td> <td>   -2.582</td> <td> 0.010</td> <td>   -1.021</td> <td>   -0.140</td>\n",
       "</tr>\n",
       "<tr>\n",
       "  <th>Last Activity_SMS Sent</th>                               <td>   -0.1794</td> <td>    0.222</td> <td>   -0.810</td> <td> 0.418</td> <td>   -0.614</td> <td>    0.255</td>\n",
       "</tr>\n",
       "<tr>\n",
       "  <th>Last Notable Activity_Olark Chat Conversation</th>        <td>   -0.7592</td> <td>    0.510</td> <td>   -1.488</td> <td> 0.137</td> <td>   -1.759</td> <td>    0.241</td>\n",
       "</tr>\n",
       "<tr>\n",
       "  <th>Last Notable Activity_SMS Sent</th>                       <td>    1.9909</td> <td>    0.240</td> <td>    8.299</td> <td> 0.000</td> <td>    1.521</td> <td>    2.461</td>\n",
       "</tr>\n",
       "<tr>\n",
       "  <th>Tags_Busy</th>                                            <td>    0.7876</td> <td>    0.246</td> <td>    3.205</td> <td> 0.001</td> <td>    0.306</td> <td>    1.269</td>\n",
       "</tr>\n",
       "<tr>\n",
       "  <th>Tags_Interested in other courses</th>                     <td>   -2.8782</td> <td>    0.431</td> <td>   -6.685</td> <td> 0.000</td> <td>   -3.722</td> <td>   -2.034</td>\n",
       "</tr>\n",
       "<tr>\n",
       "  <th>Tags_Lost to EINS</th>                                    <td>    4.8224</td> <td>    0.630</td> <td>    7.653</td> <td> 0.000</td> <td>    3.587</td> <td>    6.057</td>\n",
       "</tr>\n",
       "<tr>\n",
       "  <th>Tags_Other_Tags</th>                                      <td>   -2.8395</td> <td>    0.243</td> <td>  -11.673</td> <td> 0.000</td> <td>   -3.316</td> <td>   -2.363</td>\n",
       "</tr>\n",
       "<tr>\n",
       "  <th>Tags_Ringing</th>                                         <td>   -3.5451</td> <td>    0.285</td> <td>  -12.423</td> <td> 0.000</td> <td>   -4.104</td> <td>   -2.986</td>\n",
       "</tr>\n",
       "<tr>\n",
       "  <th>Tags_Will revert after reading the email</th>             <td>    4.2293</td> <td>    0.226</td> <td>   18.695</td> <td> 0.000</td> <td>    3.786</td> <td>    4.673</td>\n",
       "</tr>\n",
       "</table>"
      ],
      "text/plain": [
       "<class 'statsmodels.iolib.summary.Summary'>\n",
       "\"\"\"\n",
       "                 Generalized Linear Model Regression Results                  \n",
       "==============================================================================\n",
       "Dep. Variable:              Converted   No. Observations:                 4648\n",
       "Model:                            GLM   Df Residuals:                     4623\n",
       "Model Family:                Binomial   Df Model:                           24\n",
       "Link Function:                  Logit   Scale:                          1.0000\n",
       "Method:                          IRLS   Log-Likelihood:                -988.07\n",
       "Date:                Thu, 14 Dec 2023   Deviance:                       1976.1\n",
       "Time:                        22:59:55   Pearson chi2:                 7.13e+03\n",
       "No. Iterations:                    20   Pseudo R-squ. (CS):             0.5873\n",
       "Covariance Type:            nonrobust                                         \n",
       "========================================================================================================================\n",
       "                                                           coef    std err          z      P>|z|      [0.025      0.975]\n",
       "------------------------------------------------------------------------------------------------------------------------\n",
       "const                                                    0.1458      0.430      0.339      0.735      -0.698       0.989\n",
       "Total Time Spent on Website                              1.1334      0.061     18.594      0.000       1.014       1.253\n",
       "Lead Origin_Landing Page Submission                     -0.4711      0.131     -3.599      0.000      -0.728      -0.215\n",
       "What is your current occupation_Unemployed              -1.1385      0.422     -2.700      0.007      -1.965      -0.312\n",
       "What is your current occupation_Working Professional     1.5700      0.565      2.778      0.005       0.462       2.678\n",
       "City_Tier II Cities                                      0.5512      0.602      0.916      0.360      -0.628       1.730\n",
       "Specialization_Business Administration                   0.3632      0.261      1.390      0.164      -0.149       0.875\n",
       "Specialization_E-COMMERCE                                0.6305      0.475      1.327      0.184      -0.301       1.562\n",
       "Specialization_Media and Advertising                     0.2609      0.391      0.668      0.504      -0.505       1.026\n",
       "Specialization_Rural and Agribusiness                    0.2057      0.707      0.291      0.771      -1.181       1.592\n",
       "Lead Source_Olark Chat                                  -0.4335      0.430     -1.009      0.313      -1.275       0.408\n",
       "Lead Source_Social Media                                -2.8240      1.640     -1.722      0.085      -6.038       0.390\n",
       "Lead Source_Welingak Website                            21.3070    1.4e+04      0.002      0.999   -2.75e+04    2.75e+04\n",
       "Last Activity_Converted to Lead                         -1.5448      0.336     -4.597      0.000      -2.203      -0.886\n",
       "Last Activity_Email Bounced                             -1.9972      0.491     -4.070      0.000      -2.959      -1.035\n",
       "Last Activity_Page Visited on Website                   -0.5806      0.225     -2.582      0.010      -1.021      -0.140\n",
       "Last Activity_SMS Sent                                  -0.1794      0.222     -0.810      0.418      -0.614       0.255\n",
       "Last Notable Activity_Olark Chat Conversation           -0.7592      0.510     -1.488      0.137      -1.759       0.241\n",
       "Last Notable Activity_SMS Sent                           1.9909      0.240      8.299      0.000       1.521       2.461\n",
       "Tags_Busy                                                0.7876      0.246      3.205      0.001       0.306       1.269\n",
       "Tags_Interested in other courses                        -2.8782      0.431     -6.685      0.000      -3.722      -2.034\n",
       "Tags_Lost to EINS                                        4.8224      0.630      7.653      0.000       3.587       6.057\n",
       "Tags_Other_Tags                                         -2.8395      0.243    -11.673      0.000      -3.316      -2.363\n",
       "Tags_Ringing                                            -3.5451      0.285    -12.423      0.000      -4.104      -2.986\n",
       "Tags_Will revert after reading the email                 4.2293      0.226     18.695      0.000       3.786       4.673\n",
       "========================================================================================================================\n",
       "\"\"\""
      ]
     },
     "execution_count": 142,
     "metadata": {},
     "output_type": "execute_result"
    }
   ],
   "source": [
    "## Model 4\n",
    "X_train_sm = sm.add_constant(X_train[col])\n",
    "logm2 = sm.GLM(y_train,X_train_sm, family = sm.families.Binomial())\n",
    "res = logm2.fit()\n",
    "res.summary()"
   ]
  },
  {
   "cell_type": "markdown",
   "id": "103908df-2052-416f-84a3-fcb014dd5e61",
   "metadata": {},
   "source": [
    "#### p-value of variable Last Activity_Page Visited on Website is high so we can drop it"
   ]
  },
  {
   "cell_type": "code",
   "execution_count": 143,
   "id": "3e36a36e-55b2-4d3d-9b4c-4330f11597da",
   "metadata": {},
   "outputs": [],
   "source": [
    "#dropping column with high p-value\n",
    "\n",
    "col = col.drop('Last Activity_Page Visited on Website',1)"
   ]
  },
  {
   "cell_type": "code",
   "execution_count": 144,
   "id": "d3fa6dd5-1770-4e95-854e-b7ec1a8d6b9b",
   "metadata": {},
   "outputs": [
    {
     "data": {
      "text/html": [
       "<table class=\"simpletable\">\n",
       "<caption>Generalized Linear Model Regression Results</caption>\n",
       "<tr>\n",
       "  <th>Dep. Variable:</th>       <td>Converted</td>    <th>  No. Observations:  </th>  <td>  4648</td> \n",
       "</tr>\n",
       "<tr>\n",
       "  <th>Model:</th>                  <td>GLM</td>       <th>  Df Residuals:      </th>  <td>  4624</td> \n",
       "</tr>\n",
       "<tr>\n",
       "  <th>Model Family:</th>        <td>Binomial</td>     <th>  Df Model:          </th>  <td>    23</td> \n",
       "</tr>\n",
       "<tr>\n",
       "  <th>Link Function:</th>         <td>Logit</td>      <th>  Scale:             </th> <td>  1.0000</td>\n",
       "</tr>\n",
       "<tr>\n",
       "  <th>Method:</th>                <td>IRLS</td>       <th>  Log-Likelihood:    </th> <td> -991.58</td>\n",
       "</tr>\n",
       "<tr>\n",
       "  <th>Date:</th>            <td>Thu, 14 Dec 2023</td> <th>  Deviance:          </th> <td>  1983.2</td>\n",
       "</tr>\n",
       "<tr>\n",
       "  <th>Time:</th>                <td>23:02:41</td>     <th>  Pearson chi2:      </th> <td>7.10e+03</td>\n",
       "</tr>\n",
       "<tr>\n",
       "  <th>No. Iterations:</th>         <td>20</td>        <th>  Pseudo R-squ. (CS):</th>  <td>0.5867</td> \n",
       "</tr>\n",
       "<tr>\n",
       "  <th>Covariance Type:</th>     <td>nonrobust</td>    <th>                     </th>     <td> </td>   \n",
       "</tr>\n",
       "</table>\n",
       "<table class=\"simpletable\">\n",
       "<tr>\n",
       "                            <td></td>                              <th>coef</th>     <th>std err</th>      <th>z</th>      <th>P>|z|</th>  <th>[0.025</th>    <th>0.975]</th>  \n",
       "</tr>\n",
       "<tr>\n",
       "  <th>const</th>                                                <td>    0.0690</td> <td>    0.430</td> <td>    0.161</td> <td> 0.872</td> <td>   -0.774</td> <td>    0.912</td>\n",
       "</tr>\n",
       "<tr>\n",
       "  <th>Total Time Spent on Website</th>                          <td>    1.1252</td> <td>    0.061</td> <td>   18.565</td> <td> 0.000</td> <td>    1.006</td> <td>    1.244</td>\n",
       "</tr>\n",
       "<tr>\n",
       "  <th>Lead Origin_Landing Page Submission</th>                  <td>   -0.4830</td> <td>    0.131</td> <td>   -3.698</td> <td> 0.000</td> <td>   -0.739</td> <td>   -0.227</td>\n",
       "</tr>\n",
       "<tr>\n",
       "  <th>What is your current occupation_Unemployed</th>           <td>   -1.1342</td> <td>    0.422</td> <td>   -2.685</td> <td> 0.007</td> <td>   -1.962</td> <td>   -0.306</td>\n",
       "</tr>\n",
       "<tr>\n",
       "  <th>What is your current occupation_Working Professional</th> <td>    1.5403</td> <td>    0.569</td> <td>    2.705</td> <td> 0.007</td> <td>    0.424</td> <td>    2.656</td>\n",
       "</tr>\n",
       "<tr>\n",
       "  <th>City_Tier II Cities</th>                                  <td>    0.5379</td> <td>    0.594</td> <td>    0.905</td> <td> 0.365</td> <td>   -0.627</td> <td>    1.703</td>\n",
       "</tr>\n",
       "<tr>\n",
       "  <th>Specialization_Business Administration</th>               <td>    0.3634</td> <td>    0.261</td> <td>    1.391</td> <td> 0.164</td> <td>   -0.149</td> <td>    0.875</td>\n",
       "</tr>\n",
       "<tr>\n",
       "  <th>Specialization_E-COMMERCE</th>                            <td>    0.6125</td> <td>    0.472</td> <td>    1.296</td> <td> 0.195</td> <td>   -0.313</td> <td>    1.539</td>\n",
       "</tr>\n",
       "<tr>\n",
       "  <th>Specialization_Media and Advertising</th>                 <td>    0.2019</td> <td>    0.388</td> <td>    0.520</td> <td> 0.603</td> <td>   -0.559</td> <td>    0.962</td>\n",
       "</tr>\n",
       "<tr>\n",
       "  <th>Specialization_Rural and Agribusiness</th>                <td>    0.1772</td> <td>    0.706</td> <td>    0.251</td> <td> 0.802</td> <td>   -1.207</td> <td>    1.561</td>\n",
       "</tr>\n",
       "<tr>\n",
       "  <th>Lead Source_Olark Chat</th>                               <td>   -0.4190</td> <td>    0.428</td> <td>   -0.978</td> <td> 0.328</td> <td>   -1.259</td> <td>    0.421</td>\n",
       "</tr>\n",
       "<tr>\n",
       "  <th>Lead Source_Social Media</th>                             <td>   -2.7850</td> <td>    1.633</td> <td>   -1.705</td> <td> 0.088</td> <td>   -5.986</td> <td>    0.416</td>\n",
       "</tr>\n",
       "<tr>\n",
       "  <th>Lead Source_Welingak Website</th>                         <td>   21.0981</td> <td> 1.42e+04</td> <td>    0.001</td> <td> 0.999</td> <td>-2.78e+04</td> <td> 2.78e+04</td>\n",
       "</tr>\n",
       "<tr>\n",
       "  <th>Last Activity_Converted to Lead</th>                      <td>   -1.4696</td> <td>    0.335</td> <td>   -4.381</td> <td> 0.000</td> <td>   -2.127</td> <td>   -0.812</td>\n",
       "</tr>\n",
       "<tr>\n",
       "  <th>Last Activity_Email Bounced</th>                          <td>   -1.9117</td> <td>    0.490</td> <td>   -3.900</td> <td> 0.000</td> <td>   -2.872</td> <td>   -0.951</td>\n",
       "</tr>\n",
       "<tr>\n",
       "  <th>Last Activity_SMS Sent</th>                               <td>   -0.0936</td> <td>    0.219</td> <td>   -0.427</td> <td> 0.670</td> <td>   -0.523</td> <td>    0.336</td>\n",
       "</tr>\n",
       "<tr>\n",
       "  <th>Last Notable Activity_Olark Chat Conversation</th>        <td>   -0.6840</td> <td>    0.510</td> <td>   -1.342</td> <td> 0.180</td> <td>   -1.683</td> <td>    0.315</td>\n",
       "</tr>\n",
       "<tr>\n",
       "  <th>Last Notable Activity_SMS Sent</th>                       <td>    1.9873</td> <td>    0.240</td> <td>    8.292</td> <td> 0.000</td> <td>    1.518</td> <td>    2.457</td>\n",
       "</tr>\n",
       "<tr>\n",
       "  <th>Tags_Busy</th>                                            <td>    0.7685</td> <td>    0.245</td> <td>    3.138</td> <td> 0.002</td> <td>    0.288</td> <td>    1.248</td>\n",
       "</tr>\n",
       "<tr>\n",
       "  <th>Tags_Interested in other courses</th>                     <td>   -2.8357</td> <td>    0.428</td> <td>   -6.622</td> <td> 0.000</td> <td>   -3.675</td> <td>   -1.996</td>\n",
       "</tr>\n",
       "<tr>\n",
       "  <th>Tags_Lost to EINS</th>                                    <td>    4.8597</td> <td>    0.629</td> <td>    7.725</td> <td> 0.000</td> <td>    3.627</td> <td>    6.093</td>\n",
       "</tr>\n",
       "<tr>\n",
       "  <th>Tags_Other_Tags</th>                                      <td>   -2.8317</td> <td>    0.243</td> <td>  -11.657</td> <td> 0.000</td> <td>   -3.308</td> <td>   -2.356</td>\n",
       "</tr>\n",
       "<tr>\n",
       "  <th>Tags_Ringing</th>                                         <td>   -3.5274</td> <td>    0.285</td> <td>  -12.361</td> <td> 0.000</td> <td>   -4.087</td> <td>   -2.968</td>\n",
       "</tr>\n",
       "<tr>\n",
       "  <th>Tags_Will revert after reading the email</th>             <td>    4.2496</td> <td>    0.226</td> <td>   18.801</td> <td> 0.000</td> <td>    3.807</td> <td>    4.693</td>\n",
       "</tr>\n",
       "</table>"
      ],
      "text/plain": [
       "<class 'statsmodels.iolib.summary.Summary'>\n",
       "\"\"\"\n",
       "                 Generalized Linear Model Regression Results                  \n",
       "==============================================================================\n",
       "Dep. Variable:              Converted   No. Observations:                 4648\n",
       "Model:                            GLM   Df Residuals:                     4624\n",
       "Model Family:                Binomial   Df Model:                           23\n",
       "Link Function:                  Logit   Scale:                          1.0000\n",
       "Method:                          IRLS   Log-Likelihood:                -991.58\n",
       "Date:                Thu, 14 Dec 2023   Deviance:                       1983.2\n",
       "Time:                        23:02:41   Pearson chi2:                 7.10e+03\n",
       "No. Iterations:                    20   Pseudo R-squ. (CS):             0.5867\n",
       "Covariance Type:            nonrobust                                         \n",
       "========================================================================================================================\n",
       "                                                           coef    std err          z      P>|z|      [0.025      0.975]\n",
       "------------------------------------------------------------------------------------------------------------------------\n",
       "const                                                    0.0690      0.430      0.161      0.872      -0.774       0.912\n",
       "Total Time Spent on Website                              1.1252      0.061     18.565      0.000       1.006       1.244\n",
       "Lead Origin_Landing Page Submission                     -0.4830      0.131     -3.698      0.000      -0.739      -0.227\n",
       "What is your current occupation_Unemployed              -1.1342      0.422     -2.685      0.007      -1.962      -0.306\n",
       "What is your current occupation_Working Professional     1.5403      0.569      2.705      0.007       0.424       2.656\n",
       "City_Tier II Cities                                      0.5379      0.594      0.905      0.365      -0.627       1.703\n",
       "Specialization_Business Administration                   0.3634      0.261      1.391      0.164      -0.149       0.875\n",
       "Specialization_E-COMMERCE                                0.6125      0.472      1.296      0.195      -0.313       1.539\n",
       "Specialization_Media and Advertising                     0.2019      0.388      0.520      0.603      -0.559       0.962\n",
       "Specialization_Rural and Agribusiness                    0.1772      0.706      0.251      0.802      -1.207       1.561\n",
       "Lead Source_Olark Chat                                  -0.4190      0.428     -0.978      0.328      -1.259       0.421\n",
       "Lead Source_Social Media                                -2.7850      1.633     -1.705      0.088      -5.986       0.416\n",
       "Lead Source_Welingak Website                            21.0981   1.42e+04      0.001      0.999   -2.78e+04    2.78e+04\n",
       "Last Activity_Converted to Lead                         -1.4696      0.335     -4.381      0.000      -2.127      -0.812\n",
       "Last Activity_Email Bounced                             -1.9117      0.490     -3.900      0.000      -2.872      -0.951\n",
       "Last Activity_SMS Sent                                  -0.0936      0.219     -0.427      0.670      -0.523       0.336\n",
       "Last Notable Activity_Olark Chat Conversation           -0.6840      0.510     -1.342      0.180      -1.683       0.315\n",
       "Last Notable Activity_SMS Sent                           1.9873      0.240      8.292      0.000       1.518       2.457\n",
       "Tags_Busy                                                0.7685      0.245      3.138      0.002       0.288       1.248\n",
       "Tags_Interested in other courses                        -2.8357      0.428     -6.622      0.000      -3.675      -1.996\n",
       "Tags_Lost to EINS                                        4.8597      0.629      7.725      0.000       3.627       6.093\n",
       "Tags_Other_Tags                                         -2.8317      0.243    -11.657      0.000      -3.308      -2.356\n",
       "Tags_Ringing                                            -3.5274      0.285    -12.361      0.000      -4.087      -2.968\n",
       "Tags_Will revert after reading the email                 4.2496      0.226     18.801      0.000       3.807       4.693\n",
       "========================================================================================================================\n",
       "\"\"\""
      ]
     },
     "execution_count": 144,
     "metadata": {},
     "output_type": "execute_result"
    }
   ],
   "source": [
    "## Model 5\n",
    "X_train_sm = sm.add_constant(X_train[col])\n",
    "logm2 = sm.GLM(y_train,X_train_sm, family = sm.families.Binomial())\n",
    "res = logm2.fit()\n",
    "res.summary()"
   ]
  },
  {
   "cell_type": "markdown",
   "id": "b094ff4b-fc63-4e91-a498-49f3cd0cdc09",
   "metadata": {},
   "source": [
    "#### p-value of variable Tags_Busy is high so we can drop it"
   ]
  },
  {
   "cell_type": "code",
   "execution_count": 146,
   "id": "33e8a26a-97e2-46fb-9039-463dbd7531d2",
   "metadata": {},
   "outputs": [],
   "source": [
    "#dropping column with high p-value\n",
    "col = col.drop('Tags_Busy',1)"
   ]
  },
  {
   "cell_type": "code",
   "execution_count": 147,
   "id": "a04d0170-f8d1-4621-90b9-731a3a6c995c",
   "metadata": {},
   "outputs": [
    {
     "data": {
      "text/html": [
       "<table class=\"simpletable\">\n",
       "<caption>Generalized Linear Model Regression Results</caption>\n",
       "<tr>\n",
       "  <th>Dep. Variable:</th>       <td>Converted</td>    <th>  No. Observations:  </th>  <td>  4648</td> \n",
       "</tr>\n",
       "<tr>\n",
       "  <th>Model:</th>                  <td>GLM</td>       <th>  Df Residuals:      </th>  <td>  4625</td> \n",
       "</tr>\n",
       "<tr>\n",
       "  <th>Model Family:</th>        <td>Binomial</td>     <th>  Df Model:          </th>  <td>    22</td> \n",
       "</tr>\n",
       "<tr>\n",
       "  <th>Link Function:</th>         <td>Logit</td>      <th>  Scale:             </th> <td>  1.0000</td>\n",
       "</tr>\n",
       "<tr>\n",
       "  <th>Method:</th>                <td>IRLS</td>       <th>  Log-Likelihood:    </th> <td> -996.50</td>\n",
       "</tr>\n",
       "<tr>\n",
       "  <th>Date:</th>            <td>Thu, 14 Dec 2023</td> <th>  Deviance:          </th> <td>  1993.0</td>\n",
       "</tr>\n",
       "<tr>\n",
       "  <th>Time:</th>                <td>23:03:38</td>     <th>  Pearson chi2:      </th> <td>7.14e+03</td>\n",
       "</tr>\n",
       "<tr>\n",
       "  <th>No. Iterations:</th>         <td>20</td>        <th>  Pseudo R-squ. (CS):</th>  <td>0.5858</td> \n",
       "</tr>\n",
       "<tr>\n",
       "  <th>Covariance Type:</th>     <td>nonrobust</td>    <th>                     </th>     <td> </td>   \n",
       "</tr>\n",
       "</table>\n",
       "<table class=\"simpletable\">\n",
       "<tr>\n",
       "                            <td></td>                              <th>coef</th>     <th>std err</th>      <th>z</th>      <th>P>|z|</th>  <th>[0.025</th>    <th>0.975]</th>  \n",
       "</tr>\n",
       "<tr>\n",
       "  <th>const</th>                                                <td>    0.0904</td> <td>    0.431</td> <td>    0.210</td> <td> 0.834</td> <td>   -0.754</td> <td>    0.935</td>\n",
       "</tr>\n",
       "<tr>\n",
       "  <th>Total Time Spent on Website</th>                          <td>    1.1210</td> <td>    0.060</td> <td>   18.603</td> <td> 0.000</td> <td>    1.003</td> <td>    1.239</td>\n",
       "</tr>\n",
       "<tr>\n",
       "  <th>Lead Origin_Landing Page Submission</th>                  <td>   -0.4467</td> <td>    0.130</td> <td>   -3.437</td> <td> 0.001</td> <td>   -0.702</td> <td>   -0.192</td>\n",
       "</tr>\n",
       "<tr>\n",
       "  <th>What is your current occupation_Unemployed</th>           <td>   -1.1348</td> <td>    0.423</td> <td>   -2.681</td> <td> 0.007</td> <td>   -1.964</td> <td>   -0.305</td>\n",
       "</tr>\n",
       "<tr>\n",
       "  <th>What is your current occupation_Working Professional</th> <td>    1.5130</td> <td>    0.571</td> <td>    2.649</td> <td> 0.008</td> <td>    0.394</td> <td>    2.632</td>\n",
       "</tr>\n",
       "<tr>\n",
       "  <th>City_Tier II Cities</th>                                  <td>    0.4980</td> <td>    0.597</td> <td>    0.835</td> <td> 0.404</td> <td>   -0.671</td> <td>    1.667</td>\n",
       "</tr>\n",
       "<tr>\n",
       "  <th>Specialization_Business Administration</th>               <td>    0.4161</td> <td>    0.256</td> <td>    1.623</td> <td> 0.105</td> <td>   -0.086</td> <td>    0.919</td>\n",
       "</tr>\n",
       "<tr>\n",
       "  <th>Specialization_E-COMMERCE</th>                            <td>    0.5537</td> <td>    0.472</td> <td>    1.174</td> <td> 0.240</td> <td>   -0.371</td> <td>    1.478</td>\n",
       "</tr>\n",
       "<tr>\n",
       "  <th>Specialization_Media and Advertising</th>                 <td>    0.2309</td> <td>    0.381</td> <td>    0.605</td> <td> 0.545</td> <td>   -0.517</td> <td>    0.978</td>\n",
       "</tr>\n",
       "<tr>\n",
       "  <th>Specialization_Rural and Agribusiness</th>                <td>    0.2480</td> <td>    0.679</td> <td>    0.365</td> <td> 0.715</td> <td>   -1.083</td> <td>    1.579</td>\n",
       "</tr>\n",
       "<tr>\n",
       "  <th>Lead Source_Olark Chat</th>                               <td>   -0.4017</td> <td>    0.429</td> <td>   -0.937</td> <td> 0.349</td> <td>   -1.242</td> <td>    0.438</td>\n",
       "</tr>\n",
       "<tr>\n",
       "  <th>Lead Source_Social Media</th>                             <td>   -2.4443</td> <td>    1.761</td> <td>   -1.388</td> <td> 0.165</td> <td>   -5.895</td> <td>    1.007</td>\n",
       "</tr>\n",
       "<tr>\n",
       "  <th>Lead Source_Welingak Website</th>                         <td>   21.0949</td> <td> 1.43e+04</td> <td>    0.001</td> <td> 0.999</td> <td> -2.8e+04</td> <td>  2.8e+04</td>\n",
       "</tr>\n",
       "<tr>\n",
       "  <th>Last Activity_Converted to Lead</th>                      <td>   -1.4782</td> <td>    0.334</td> <td>   -4.425</td> <td> 0.000</td> <td>   -2.133</td> <td>   -0.824</td>\n",
       "</tr>\n",
       "<tr>\n",
       "  <th>Last Activity_Email Bounced</th>                          <td>   -1.9397</td> <td>    0.487</td> <td>   -3.980</td> <td> 0.000</td> <td>   -2.895</td> <td>   -0.985</td>\n",
       "</tr>\n",
       "<tr>\n",
       "  <th>Last Activity_SMS Sent</th>                               <td>   -0.0529</td> <td>    0.217</td> <td>   -0.244</td> <td> 0.808</td> <td>   -0.478</td> <td>    0.373</td>\n",
       "</tr>\n",
       "<tr>\n",
       "  <th>Last Notable Activity_Olark Chat Conversation</th>        <td>   -0.6991</td> <td>    0.509</td> <td>   -1.375</td> <td> 0.169</td> <td>   -1.696</td> <td>    0.298</td>\n",
       "</tr>\n",
       "<tr>\n",
       "  <th>Last Notable Activity_SMS Sent</th>                       <td>    2.0165</td> <td>    0.238</td> <td>    8.466</td> <td> 0.000</td> <td>    1.550</td> <td>    2.483</td>\n",
       "</tr>\n",
       "<tr>\n",
       "  <th>Tags_Interested in other courses</th>                     <td>   -2.8817</td> <td>    0.428</td> <td>   -6.732</td> <td> 0.000</td> <td>   -3.721</td> <td>   -2.043</td>\n",
       "</tr>\n",
       "<tr>\n",
       "  <th>Tags_Lost to EINS</th>                                    <td>    4.8045</td> <td>    0.629</td> <td>    7.642</td> <td> 0.000</td> <td>    3.572</td> <td>    6.037</td>\n",
       "</tr>\n",
       "<tr>\n",
       "  <th>Tags_Other_Tags</th>                                      <td>   -2.9119</td> <td>    0.242</td> <td>  -12.026</td> <td> 0.000</td> <td>   -3.386</td> <td>   -2.437</td>\n",
       "</tr>\n",
       "<tr>\n",
       "  <th>Tags_Ringing</th>                                         <td>   -3.6269</td> <td>    0.285</td> <td>  -12.740</td> <td> 0.000</td> <td>   -4.185</td> <td>   -3.069</td>\n",
       "</tr>\n",
       "<tr>\n",
       "  <th>Tags_Will revert after reading the email</th>             <td>    4.1879</td> <td>    0.225</td> <td>   18.613</td> <td> 0.000</td> <td>    3.747</td> <td>    4.629</td>\n",
       "</tr>\n",
       "</table>"
      ],
      "text/plain": [
       "<class 'statsmodels.iolib.summary.Summary'>\n",
       "\"\"\"\n",
       "                 Generalized Linear Model Regression Results                  \n",
       "==============================================================================\n",
       "Dep. Variable:              Converted   No. Observations:                 4648\n",
       "Model:                            GLM   Df Residuals:                     4625\n",
       "Model Family:                Binomial   Df Model:                           22\n",
       "Link Function:                  Logit   Scale:                          1.0000\n",
       "Method:                          IRLS   Log-Likelihood:                -996.50\n",
       "Date:                Thu, 14 Dec 2023   Deviance:                       1993.0\n",
       "Time:                        23:03:38   Pearson chi2:                 7.14e+03\n",
       "No. Iterations:                    20   Pseudo R-squ. (CS):             0.5858\n",
       "Covariance Type:            nonrobust                                         \n",
       "========================================================================================================================\n",
       "                                                           coef    std err          z      P>|z|      [0.025      0.975]\n",
       "------------------------------------------------------------------------------------------------------------------------\n",
       "const                                                    0.0904      0.431      0.210      0.834      -0.754       0.935\n",
       "Total Time Spent on Website                              1.1210      0.060     18.603      0.000       1.003       1.239\n",
       "Lead Origin_Landing Page Submission                     -0.4467      0.130     -3.437      0.001      -0.702      -0.192\n",
       "What is your current occupation_Unemployed              -1.1348      0.423     -2.681      0.007      -1.964      -0.305\n",
       "What is your current occupation_Working Professional     1.5130      0.571      2.649      0.008       0.394       2.632\n",
       "City_Tier II Cities                                      0.4980      0.597      0.835      0.404      -0.671       1.667\n",
       "Specialization_Business Administration                   0.4161      0.256      1.623      0.105      -0.086       0.919\n",
       "Specialization_E-COMMERCE                                0.5537      0.472      1.174      0.240      -0.371       1.478\n",
       "Specialization_Media and Advertising                     0.2309      0.381      0.605      0.545      -0.517       0.978\n",
       "Specialization_Rural and Agribusiness                    0.2480      0.679      0.365      0.715      -1.083       1.579\n",
       "Lead Source_Olark Chat                                  -0.4017      0.429     -0.937      0.349      -1.242       0.438\n",
       "Lead Source_Social Media                                -2.4443      1.761     -1.388      0.165      -5.895       1.007\n",
       "Lead Source_Welingak Website                            21.0949   1.43e+04      0.001      0.999    -2.8e+04     2.8e+04\n",
       "Last Activity_Converted to Lead                         -1.4782      0.334     -4.425      0.000      -2.133      -0.824\n",
       "Last Activity_Email Bounced                             -1.9397      0.487     -3.980      0.000      -2.895      -0.985\n",
       "Last Activity_SMS Sent                                  -0.0529      0.217     -0.244      0.808      -0.478       0.373\n",
       "Last Notable Activity_Olark Chat Conversation           -0.6991      0.509     -1.375      0.169      -1.696       0.298\n",
       "Last Notable Activity_SMS Sent                           2.0165      0.238      8.466      0.000       1.550       2.483\n",
       "Tags_Interested in other courses                        -2.8817      0.428     -6.732      0.000      -3.721      -2.043\n",
       "Tags_Lost to EINS                                        4.8045      0.629      7.642      0.000       3.572       6.037\n",
       "Tags_Other_Tags                                         -2.9119      0.242    -12.026      0.000      -3.386      -2.437\n",
       "Tags_Ringing                                            -3.6269      0.285    -12.740      0.000      -4.185      -3.069\n",
       "Tags_Will revert after reading the email                 4.1879      0.225     18.613      0.000       3.747       4.629\n",
       "========================================================================================================================\n",
       "\"\"\""
      ]
     },
     "execution_count": 147,
     "metadata": {},
     "output_type": "execute_result"
    }
   ],
   "source": [
    "## Model 6\n",
    "X_train_sm = sm.add_constant(X_train[col])\n",
    "logm2 = sm.GLM(y_train,X_train_sm, family = sm.families.Binomial())\n",
    "res = logm2.fit()\n",
    "res.summary()"
   ]
  },
  {
   "cell_type": "markdown",
   "id": "28a44364-af85-4c01-807f-011e272759dc",
   "metadata": {},
   "source": [
    "#### Since 'All' the p-values are less we can check the Variance Inflation Factor to see if there is any correlation between the variables"
   ]
  },
  {
   "cell_type": "code",
   "execution_count": 148,
   "id": "006a23c1-4d84-4315-9fd8-30b51b7b5c5e",
   "metadata": {},
   "outputs": [],
   "source": [
    "# Check for the VIF values of the feature variables. \n",
    "from statsmodels.stats.outliers_influence import variance_inflation_factor"
   ]
  },
  {
   "cell_type": "code",
   "execution_count": 149,
   "id": "afe15100-32f7-4c64-839e-ab9fb4707894",
   "metadata": {},
   "outputs": [
    {
     "data": {
      "text/html": [
       "<div>\n",
       "<style scoped>\n",
       "    .dataframe tbody tr th:only-of-type {\n",
       "        vertical-align: middle;\n",
       "    }\n",
       "\n",
       "    .dataframe tbody tr th {\n",
       "        vertical-align: top;\n",
       "    }\n",
       "\n",
       "    .dataframe thead th {\n",
       "        text-align: right;\n",
       "    }\n",
       "</style>\n",
       "<table border=\"1\" class=\"dataframe\">\n",
       "  <thead>\n",
       "    <tr style=\"text-align: right;\">\n",
       "      <th></th>\n",
       "      <th>Features</th>\n",
       "      <th>VIF</th>\n",
       "    </tr>\n",
       "  </thead>\n",
       "  <tbody>\n",
       "    <tr>\n",
       "      <th>14</th>\n",
       "      <td>Last Activity_SMS Sent</td>\n",
       "      <td>5.21</td>\n",
       "    </tr>\n",
       "    <tr>\n",
       "      <th>16</th>\n",
       "      <td>Last Notable Activity_SMS Sent</td>\n",
       "      <td>4.82</td>\n",
       "    </tr>\n",
       "    <tr>\n",
       "      <th>2</th>\n",
       "      <td>What is your current occupation_Unemployed</td>\n",
       "      <td>4.57</td>\n",
       "    </tr>\n",
       "    <tr>\n",
       "      <th>1</th>\n",
       "      <td>Lead Origin_Landing Page Submission</td>\n",
       "      <td>3.63</td>\n",
       "    </tr>\n",
       "    <tr>\n",
       "      <th>21</th>\n",
       "      <td>Tags_Will revert after reading the email</td>\n",
       "      <td>1.97</td>\n",
       "    </tr>\n",
       "    <tr>\n",
       "      <th>3</th>\n",
       "      <td>What is your current occupation_Working Profes...</td>\n",
       "      <td>1.56</td>\n",
       "    </tr>\n",
       "    <tr>\n",
       "      <th>20</th>\n",
       "      <td>Tags_Ringing</td>\n",
       "      <td>1.46</td>\n",
       "    </tr>\n",
       "    <tr>\n",
       "      <th>19</th>\n",
       "      <td>Tags_Other_Tags</td>\n",
       "      <td>1.44</td>\n",
       "    </tr>\n",
       "    <tr>\n",
       "      <th>17</th>\n",
       "      <td>Tags_Interested in other courses</td>\n",
       "      <td>1.17</td>\n",
       "    </tr>\n",
       "    <tr>\n",
       "      <th>0</th>\n",
       "      <td>Total Time Spent on Website</td>\n",
       "      <td>1.17</td>\n",
       "    </tr>\n",
       "    <tr>\n",
       "      <th>12</th>\n",
       "      <td>Last Activity_Converted to Lead</td>\n",
       "      <td>1.12</td>\n",
       "    </tr>\n",
       "    <tr>\n",
       "      <th>13</th>\n",
       "      <td>Last Activity_Email Bounced</td>\n",
       "      <td>1.09</td>\n",
       "    </tr>\n",
       "    <tr>\n",
       "      <th>5</th>\n",
       "      <td>Specialization_Business Administration</td>\n",
       "      <td>1.08</td>\n",
       "    </tr>\n",
       "    <tr>\n",
       "      <th>18</th>\n",
       "      <td>Tags_Lost to EINS</td>\n",
       "      <td>1.07</td>\n",
       "    </tr>\n",
       "    <tr>\n",
       "      <th>9</th>\n",
       "      <td>Lead Source_Olark Chat</td>\n",
       "      <td>1.06</td>\n",
       "    </tr>\n",
       "    <tr>\n",
       "      <th>7</th>\n",
       "      <td>Specialization_Media and Advertising</td>\n",
       "      <td>1.04</td>\n",
       "    </tr>\n",
       "    <tr>\n",
       "      <th>6</th>\n",
       "      <td>Specialization_E-COMMERCE</td>\n",
       "      <td>1.03</td>\n",
       "    </tr>\n",
       "    <tr>\n",
       "      <th>8</th>\n",
       "      <td>Specialization_Rural and Agribusiness</td>\n",
       "      <td>1.02</td>\n",
       "    </tr>\n",
       "    <tr>\n",
       "      <th>15</th>\n",
       "      <td>Last Notable Activity_Olark Chat Conversation</td>\n",
       "      <td>1.02</td>\n",
       "    </tr>\n",
       "    <tr>\n",
       "      <th>4</th>\n",
       "      <td>City_Tier II Cities</td>\n",
       "      <td>1.02</td>\n",
       "    </tr>\n",
       "    <tr>\n",
       "      <th>10</th>\n",
       "      <td>Lead Source_Social Media</td>\n",
       "      <td>1.00</td>\n",
       "    </tr>\n",
       "    <tr>\n",
       "      <th>11</th>\n",
       "      <td>Lead Source_Welingak Website</td>\n",
       "      <td>1.00</td>\n",
       "    </tr>\n",
       "  </tbody>\n",
       "</table>\n",
       "</div>"
      ],
      "text/plain": [
       "                                             Features   VIF\n",
       "14                             Last Activity_SMS Sent  5.21\n",
       "16                     Last Notable Activity_SMS Sent  4.82\n",
       "2          What is your current occupation_Unemployed  4.57\n",
       "1                 Lead Origin_Landing Page Submission  3.63\n",
       "21           Tags_Will revert after reading the email  1.97\n",
       "3   What is your current occupation_Working Profes...  1.56\n",
       "20                                       Tags_Ringing  1.46\n",
       "19                                    Tags_Other_Tags  1.44\n",
       "17                   Tags_Interested in other courses  1.17\n",
       "0                         Total Time Spent on Website  1.17\n",
       "12                    Last Activity_Converted to Lead  1.12\n",
       "13                        Last Activity_Email Bounced  1.09\n",
       "5              Specialization_Business Administration  1.08\n",
       "18                                  Tags_Lost to EINS  1.07\n",
       "9                              Lead Source_Olark Chat  1.06\n",
       "7                Specialization_Media and Advertising  1.04\n",
       "6                           Specialization_E-COMMERCE  1.03\n",
       "8               Specialization_Rural and Agribusiness  1.02\n",
       "15      Last Notable Activity_Olark Chat Conversation  1.02\n",
       "4                                 City_Tier II Cities  1.02\n",
       "10                           Lead Source_Social Media  1.00\n",
       "11                       Lead Source_Welingak Website  1.00"
      ]
     },
     "execution_count": 149,
     "metadata": {},
     "output_type": "execute_result"
    }
   ],
   "source": [
    "# Create a dataframe that will contain the names of all the feature variables and their respective VIFs\n",
    "vif = pd.DataFrame()\n",
    "vif['Features'] = X_train[col].columns\n",
    "vif['VIF'] = [variance_inflation_factor(X_train[col].values, i) for i in range(X_train[col].shape[1])]\n",
    "vif['VIF'] = round(vif['VIF'], 2)\n",
    "vif = vif.sort_values(by = \"VIF\", ascending = False)\n",
    "vif"
   ]
  },
  {
   "cell_type": "markdown",
   "id": "a85a647b-0cf7-4f57-8343-39c75b87e6ca",
   "metadata": {},
   "source": [
    "#### So the Values all seem to be in order so now, Moving on to derive the Probabilities, Lead Score, Predictions on Train Data"
   ]
  },
  {
   "cell_type": "code",
   "execution_count": 153,
   "id": "39a06d93-e88a-4fec-ba55-58fe32eff1d9",
   "metadata": {},
   "outputs": [
    {
     "data": {
      "text/plain": [
       "1979    0.926314\n",
       "6249    0.472066\n",
       "5557    0.089375\n",
       "7865    0.002895\n",
       "8491    0.006552\n",
       "2573    0.162202\n",
       "474     0.028862\n",
       "4477    0.968465\n",
       "1952    0.059987\n",
       "1816    0.000569\n",
       "dtype: float64"
      ]
     },
     "execution_count": 153,
     "metadata": {},
     "output_type": "execute_result"
    }
   ],
   "source": [
    "# Getting the Predicted values on the train set\n",
    "y_train_pred = res.predict(X_train_sm)\n",
    "y_train_pred[:10]"
   ]
  },
  {
   "cell_type": "code",
   "execution_count": 152,
   "id": "d6a22420-26b7-424f-9ba2-94143e06f17f",
   "metadata": {},
   "outputs": [
    {
     "data": {
      "text/plain": [
       "array([9.26314191e-01, 4.72065952e-01, 8.93751032e-02, 2.89459400e-03,\n",
       "       6.55180842e-03, 1.62202006e-01, 2.88623761e-02, 9.68465211e-01,\n",
       "       5.99867704e-02, 5.68754417e-04])"
      ]
     },
     "execution_count": 152,
     "metadata": {},
     "output_type": "execute_result"
    }
   ],
   "source": [
    "y_train_pred = y_train_pred.values.reshape(-1)\n",
    "y_train_pred[:10]"
   ]
  },
  {
   "cell_type": "code",
   "execution_count": 154,
   "id": "b5055066-8ced-4878-9594-d1f379adb53f",
   "metadata": {},
   "outputs": [
    {
     "data": {
      "text/html": [
       "<div>\n",
       "<style scoped>\n",
       "    .dataframe tbody tr th:only-of-type {\n",
       "        vertical-align: middle;\n",
       "    }\n",
       "\n",
       "    .dataframe tbody tr th {\n",
       "        vertical-align: top;\n",
       "    }\n",
       "\n",
       "    .dataframe thead th {\n",
       "        text-align: right;\n",
       "    }\n",
       "</style>\n",
       "<table border=\"1\" class=\"dataframe\">\n",
       "  <thead>\n",
       "    <tr style=\"text-align: right;\">\n",
       "      <th></th>\n",
       "      <th>Converted</th>\n",
       "      <th>Converted_prob</th>\n",
       "      <th>Prospect ID</th>\n",
       "    </tr>\n",
       "  </thead>\n",
       "  <tbody>\n",
       "    <tr>\n",
       "      <th>1979</th>\n",
       "      <td>1</td>\n",
       "      <td>0.926314</td>\n",
       "      <td>1979</td>\n",
       "    </tr>\n",
       "    <tr>\n",
       "      <th>6249</th>\n",
       "      <td>0</td>\n",
       "      <td>0.472066</td>\n",
       "      <td>6249</td>\n",
       "    </tr>\n",
       "    <tr>\n",
       "      <th>5557</th>\n",
       "      <td>0</td>\n",
       "      <td>0.089375</td>\n",
       "      <td>5557</td>\n",
       "    </tr>\n",
       "    <tr>\n",
       "      <th>7865</th>\n",
       "      <td>0</td>\n",
       "      <td>0.002895</td>\n",
       "      <td>7865</td>\n",
       "    </tr>\n",
       "    <tr>\n",
       "      <th>8491</th>\n",
       "      <td>0</td>\n",
       "      <td>0.006552</td>\n",
       "      <td>8491</td>\n",
       "    </tr>\n",
       "  </tbody>\n",
       "</table>\n",
       "</div>"
      ],
      "text/plain": [
       "      Converted  Converted_prob  Prospect ID\n",
       "1979          1        0.926314         1979\n",
       "6249          0        0.472066         6249\n",
       "5557          0        0.089375         5557\n",
       "7865          0        0.002895         7865\n",
       "8491          0        0.006552         8491"
      ]
     },
     "execution_count": 154,
     "metadata": {},
     "output_type": "execute_result"
    }
   ],
   "source": [
    "y_train_pred_final = pd.DataFrame({'Converted':y_train.values, 'Converted_prob':y_train_pred})\n",
    "y_train_pred_final['Prospect ID'] = y_train.index\n",
    "y_train_pred_final.head()"
   ]
  },
  {
   "cell_type": "code",
   "execution_count": 155,
   "id": "76554728-6e54-4b0e-af08-d9fc84e1e6d5",
   "metadata": {},
   "outputs": [
    {
     "data": {
      "text/html": [
       "<div>\n",
       "<style scoped>\n",
       "    .dataframe tbody tr th:only-of-type {\n",
       "        vertical-align: middle;\n",
       "    }\n",
       "\n",
       "    .dataframe tbody tr th {\n",
       "        vertical-align: top;\n",
       "    }\n",
       "\n",
       "    .dataframe thead th {\n",
       "        text-align: right;\n",
       "    }\n",
       "</style>\n",
       "<table border=\"1\" class=\"dataframe\">\n",
       "  <thead>\n",
       "    <tr style=\"text-align: right;\">\n",
       "      <th></th>\n",
       "      <th>Converted</th>\n",
       "      <th>Converted_prob</th>\n",
       "      <th>Prospect ID</th>\n",
       "      <th>Predicted</th>\n",
       "    </tr>\n",
       "  </thead>\n",
       "  <tbody>\n",
       "    <tr>\n",
       "      <th>1979</th>\n",
       "      <td>1</td>\n",
       "      <td>0.926314</td>\n",
       "      <td>1979</td>\n",
       "      <td>1</td>\n",
       "    </tr>\n",
       "    <tr>\n",
       "      <th>6249</th>\n",
       "      <td>0</td>\n",
       "      <td>0.472066</td>\n",
       "      <td>6249</td>\n",
       "      <td>0</td>\n",
       "    </tr>\n",
       "    <tr>\n",
       "      <th>5557</th>\n",
       "      <td>0</td>\n",
       "      <td>0.089375</td>\n",
       "      <td>5557</td>\n",
       "      <td>0</td>\n",
       "    </tr>\n",
       "    <tr>\n",
       "      <th>7865</th>\n",
       "      <td>0</td>\n",
       "      <td>0.002895</td>\n",
       "      <td>7865</td>\n",
       "      <td>0</td>\n",
       "    </tr>\n",
       "    <tr>\n",
       "      <th>8491</th>\n",
       "      <td>0</td>\n",
       "      <td>0.006552</td>\n",
       "      <td>8491</td>\n",
       "      <td>0</td>\n",
       "    </tr>\n",
       "  </tbody>\n",
       "</table>\n",
       "</div>"
      ],
      "text/plain": [
       "      Converted  Converted_prob  Prospect ID  Predicted\n",
       "1979          1        0.926314         1979          1\n",
       "6249          0        0.472066         6249          0\n",
       "5557          0        0.089375         5557          0\n",
       "7865          0        0.002895         7865          0\n",
       "8491          0        0.006552         8491          0"
      ]
     },
     "execution_count": 155,
     "metadata": {},
     "output_type": "execute_result"
    }
   ],
   "source": [
    "y_train_pred_final['Predicted'] = y_train_pred_final.Converted_prob.map(lambda x: 1 if x > 0.5 else 0)\n",
    "\n",
    "# Let's see the head\n",
    "y_train_pred_final.head()"
   ]
  },
  {
   "cell_type": "code",
   "execution_count": 156,
   "id": "ec5ed813-26e7-4999-acb2-662c472e44a4",
   "metadata": {},
   "outputs": [
    {
     "name": "stdout",
     "output_type": "stream",
     "text": [
      "[[2820  141]\n",
      " [ 261 1426]]\n"
     ]
    }
   ],
   "source": [
    "from sklearn import metrics\n",
    "\n",
    "# Confusion matrix \n",
    "confusion = metrics.confusion_matrix(y_train_pred_final.Converted, y_train_pred_final.Predicted )\n",
    "print(confusion)"
   ]
  },
  {
   "cell_type": "code",
   "execution_count": 157,
   "id": "4b114f2d-de03-4e35-ad82-43fdc7a3adce",
   "metadata": {},
   "outputs": [
    {
     "name": "stdout",
     "output_type": "stream",
     "text": [
      "0.9135111876075731\n"
     ]
    }
   ],
   "source": [
    "# Let's check the overall accuracy.\n",
    "print(metrics.accuracy_score(y_train_pred_final.Converted, y_train_pred_final.Predicted))"
   ]
  },
  {
   "cell_type": "code",
   "execution_count": 158,
   "id": "8f900b7d-37dd-4929-a682-84f2eee60cca",
   "metadata": {},
   "outputs": [],
   "source": [
    "TP = confusion[1,1] # true positive \n",
    "TN = confusion[0,0] # true negatives\n",
    "FP = confusion[0,1] # false positives\n",
    "FN = confusion[1,0] # false negatives"
   ]
  },
  {
   "cell_type": "code",
   "execution_count": 159,
   "id": "51edee0b-d8ae-4f97-be99-f6a96202ba9d",
   "metadata": {},
   "outputs": [
    {
     "data": {
      "text/plain": [
       "0.8452874925903971"
      ]
     },
     "execution_count": 159,
     "metadata": {},
     "output_type": "execute_result"
    }
   ],
   "source": [
    "# Let's see the sensitivity of our logistic regression model\n",
    "TP / float(TP+FN)"
   ]
  },
  {
   "cell_type": "code",
   "execution_count": 160,
   "id": "8a1036f9-f053-4304-ba51-665571d2f928",
   "metadata": {},
   "outputs": [
    {
     "data": {
      "text/plain": [
       "0.9523809523809523"
      ]
     },
     "execution_count": 160,
     "metadata": {},
     "output_type": "execute_result"
    }
   ],
   "source": [
    "# Let us calculate specificity\n",
    "TN / float(TN+FP)"
   ]
  },
  {
   "cell_type": "code",
   "execution_count": 161,
   "id": "e3526b66-6d96-482f-9d0a-6618351459d9",
   "metadata": {},
   "outputs": [
    {
     "name": "stdout",
     "output_type": "stream",
     "text": [
      "0.047619047619047616\n"
     ]
    }
   ],
   "source": [
    "# Calculate False Postive Rate - predicting conversion when customer does not have convert\n",
    "print(FP/ float(TN+FP))"
   ]
  },
  {
   "cell_type": "code",
   "execution_count": 162,
   "id": "1854d6dd-efd1-4be7-aa01-8f52e55e8da2",
   "metadata": {},
   "outputs": [
    {
     "name": "stdout",
     "output_type": "stream",
     "text": [
      "0.9100191448627951\n"
     ]
    }
   ],
   "source": [
    "# positive predictive value \n",
    "print (TP / float(TP+FP))"
   ]
  },
  {
   "cell_type": "code",
   "execution_count": 163,
   "id": "fbbed96c-acd7-4c00-8411-0398c96bd6c5",
   "metadata": {},
   "outputs": [
    {
     "name": "stdout",
     "output_type": "stream",
     "text": [
      "0.9152872444011685\n"
     ]
    }
   ],
   "source": [
    "# Negative predictive value\n",
    "print (TN / float(TN+ FN))"
   ]
  },
  {
   "cell_type": "markdown",
   "id": "4e705403-101e-490d-9748-57195ebc3955",
   "metadata": {},
   "source": [
    "## PLOTTING ROC CURVE"
   ]
  },
  {
   "cell_type": "code",
   "execution_count": 164,
   "id": "ed3184bf-003b-425c-9544-dc34dbe65ef5",
   "metadata": {},
   "outputs": [],
   "source": [
    "def draw_roc( actual, probs ):\n",
    "    fpr, tpr, thresholds = metrics.roc_curve( actual, probs,\n",
    "                                              drop_intermediate = False )\n",
    "    auc_score = metrics.roc_auc_score( actual, probs )\n",
    "    plt.figure(figsize=(5, 5))\n",
    "    plt.plot( fpr, tpr, label='ROC curve (area = %0.2f)' % auc_score )\n",
    "    plt.plot([0, 1], [0, 1], 'k--')\n",
    "    plt.xlim([0.0, 1.0])\n",
    "    plt.ylim([0.0, 1.05])\n",
    "    plt.xlabel('False Positive Rate or [1 - True Negative Rate]')\n",
    "    plt.ylabel('True Positive Rate')\n",
    "    plt.title('Receiver operating characteristic example')\n",
    "    plt.legend(loc=\"lower right\")\n",
    "    plt.show()\n",
    "\n",
    "    return None"
   ]
  },
  {
   "cell_type": "code",
   "execution_count": 165,
   "id": "918d6c0d-2401-46c2-b80e-fe8692fc418a",
   "metadata": {},
   "outputs": [],
   "source": [
    "fpr, tpr, thresholds = metrics.roc_curve( y_train_pred_final.Converted, y_train_pred_final.Converted_prob, drop_intermediate = False )"
   ]
  },
  {
   "cell_type": "code",
   "execution_count": 166,
   "id": "2666104b-b251-4114-823c-763959d4db63",
   "metadata": {},
   "outputs": [
    {
     "data": {
      "image/png": "[encoded data removed]",
      "text/plain": [
       "<Figure size 500x500 with 1 Axes>"
      ]
     },
     "metadata": {},
     "output_type": "display_data"
    }
   ],
   "source": [
    "draw_roc(y_train_pred_final.Converted, y_train_pred_final.Converted_prob)"
   ]
  },
  {
   "cell_type": "markdown",
   "id": "effd604f-6c71-4895-aba6-de3f43cf8f64",
   "metadata": {},
   "source": [
    "#### The ROC Curve should be a value close to 1. We are getting a good value of 0.97 indicating a good predictive model.\n",
    "\n",
    "### Finding Optimal Cutoff Point\n",
    "#### Above we had chosen an arbitrary cut-off value of 0.5. We need to determine the best cut-off value and the below section deals with that:"
   ]
  },
  {
   "cell_type": "code",
   "execution_count": 167,
   "id": "5c1f5e47-29e9-4e73-9557-6a9516b65219",
   "metadata": {},
   "outputs": [
    {
     "data": {
      "text/html": [
       "<div>\n",
       "<style scoped>\n",
       "    .dataframe tbody tr th:only-of-type {\n",
       "        vertical-align: middle;\n",
       "    }\n",
       "\n",
       "    .dataframe tbody tr th {\n",
       "        vertical-align: top;\n",
       "    }\n",
       "\n",
       "    .dataframe thead th {\n",
       "        text-align: right;\n",
       "    }\n",
       "</style>\n",
       "<table border=\"1\" class=\"dataframe\">\n",
       "  <thead>\n",
       "    <tr style=\"text-align: right;\">\n",
       "      <th></th>\n",
       "      <th>Converted</th>\n",
       "      <th>Converted_prob</th>\n",
       "      <th>Prospect ID</th>\n",
       "      <th>Predicted</th>\n",
       "      <th>0.0</th>\n",
       "      <th>0.1</th>\n",
       "      <th>0.2</th>\n",
       "      <th>0.3</th>\n",
       "      <th>0.4</th>\n",
       "      <th>0.5</th>\n",
       "      <th>0.6</th>\n",
       "      <th>0.7</th>\n",
       "      <th>0.8</th>\n",
       "      <th>0.9</th>\n",
       "    </tr>\n",
       "  </thead>\n",
       "  <tbody>\n",
       "    <tr>\n",
       "      <th>1979</th>\n",
       "      <td>1</td>\n",
       "      <td>0.926314</td>\n",
       "      <td>1979</td>\n",
       "      <td>1</td>\n",
       "      <td>1</td>\n",
       "      <td>1</td>\n",
       "      <td>1</td>\n",
       "      <td>1</td>\n",
       "      <td>1</td>\n",
       "      <td>1</td>\n",
       "      <td>1</td>\n",
       "      <td>1</td>\n",
       "      <td>1</td>\n",
       "      <td>1</td>\n",
       "    </tr>\n",
       "    <tr>\n",
       "      <th>6249</th>\n",
       "      <td>0</td>\n",
       "      <td>0.472066</td>\n",
       "      <td>6249</td>\n",
       "      <td>0</td>\n",
       "      <td>1</td>\n",
       "      <td>1</td>\n",
       "      <td>1</td>\n",
       "      <td>1</td>\n",
       "      <td>1</td>\n",
       "      <td>0</td>\n",
       "      <td>0</td>\n",
       "      <td>0</td>\n",
       "      <td>0</td>\n",
       "      <td>0</td>\n",
       "    </tr>\n",
       "    <tr>\n",
       "      <th>5557</th>\n",
       "      <td>0</td>\n",
       "      <td>0.089375</td>\n",
       "      <td>5557</td>\n",
       "      <td>0</td>\n",
       "      <td>1</td>\n",
       "      <td>0</td>\n",
       "      <td>0</td>\n",
       "      <td>0</td>\n",
       "      <td>0</td>\n",
       "      <td>0</td>\n",
       "      <td>0</td>\n",
       "      <td>0</td>\n",
       "      <td>0</td>\n",
       "      <td>0</td>\n",
       "    </tr>\n",
       "    <tr>\n",
       "      <th>7865</th>\n",
       "      <td>0</td>\n",
       "      <td>0.002895</td>\n",
       "      <td>7865</td>\n",
       "      <td>0</td>\n",
       "      <td>1</td>\n",
       "      <td>0</td>\n",
       "      <td>0</td>\n",
       "      <td>0</td>\n",
       "      <td>0</td>\n",
       "      <td>0</td>\n",
       "      <td>0</td>\n",
       "      <td>0</td>\n",
       "      <td>0</td>\n",
       "      <td>0</td>\n",
       "    </tr>\n",
       "    <tr>\n",
       "      <th>8491</th>\n",
       "      <td>0</td>\n",
       "      <td>0.006552</td>\n",
       "      <td>8491</td>\n",
       "      <td>0</td>\n",
       "      <td>1</td>\n",
       "      <td>0</td>\n",
       "      <td>0</td>\n",
       "      <td>0</td>\n",
       "      <td>0</td>\n",
       "      <td>0</td>\n",
       "      <td>0</td>\n",
       "      <td>0</td>\n",
       "      <td>0</td>\n",
       "      <td>0</td>\n",
       "    </tr>\n",
       "  </tbody>\n",
       "</table>\n",
       "</div>"
      ],
      "text/plain": [
       "      Converted  Converted_prob  Prospect ID  Predicted  0.0  0.1  0.2  0.3  \\\n",
       "1979          1        0.926314         1979          1    1    1    1    1   \n",
       "6249          0        0.472066         6249          0    1    1    1    1   \n",
       "5557          0        0.089375         5557          0    1    0    0    0   \n",
       "7865          0        0.002895         7865          0    1    0    0    0   \n",
       "8491          0        0.006552         8491          0    1    0    0    0   \n",
       "\n",
       "      0.4  0.5  0.6  0.7  0.8  0.9  \n",
       "1979    1    1    1    1    1    1  \n",
       "6249    1    0    0    0    0    0  \n",
       "5557    0    0    0    0    0    0  \n",
       "7865    0    0    0    0    0    0  \n",
       "8491    0    0    0    0    0    0  "
      ]
     },
     "execution_count": 167,
     "metadata": {},
     "output_type": "execute_result"
    }
   ],
   "source": [
    "# Let's create columns with different probability cutoffs \n",
    "numbers = [float(x)/10 for x in range(10)]\n",
    "for i in numbers:\n",
    "    y_train_pred_final[i]= y_train_pred_final.Converted_prob.map(lambda x: 1 if x > i else 0)\n",
    "y_train_pred_final.head()"
   ]
  },
  {
   "cell_type": "code",
   "execution_count": 168,
   "id": "80f88229-5187-43a8-ae43-b989f73a0000",
   "metadata": {},
   "outputs": [
    {
     "name": "stdout",
     "output_type": "stream",
     "text": [
      "     prob  accuracy     sensi     speci\n",
      "0.0   0.0  0.362952  1.000000  0.000000\n",
      "0.1   0.1  0.816050  0.965027  0.731172\n",
      "0.2   0.2  0.901033  0.943687  0.876731\n",
      "0.3   0.3  0.906842  0.919976  0.899358\n",
      "0.4   0.4  0.913081  0.887967  0.927389\n",
      "0.5   0.5  0.913511  0.845287  0.952381\n",
      "0.6   0.6  0.911360  0.809129  0.969605\n",
      "0.7   0.7  0.905981  0.778305  0.978723\n",
      "0.8   0.8  0.895654  0.743331  0.982438\n",
      "0.9   0.9  0.866394  0.647303  0.991219\n"
     ]
    }
   ],
   "source": [
    "# Now let's calculate accuracy sensitivity and specificity for various probability cutoffs.\n",
    "cutoff_df = pd.DataFrame( columns = ['prob','accuracy','sensi','speci'])\n",
    "from sklearn.metrics import confusion_matrix\n",
    "\n",
    "# TP = confusion[1,1] # true positive \n",
    "# TN = confusion[0,0] # true negatives\n",
    "# FP = confusion[0,1] # false positives\n",
    "# FN = confusion[1,0] # false negatives\n",
    "\n",
    "num = [0.0,0.1,0.2,0.3,0.4,0.5,0.6,0.7,0.8,0.9]\n",
    "for i in num:\n",
    "    cm1 = metrics.confusion_matrix(y_train_pred_final.Converted, y_train_pred_final[i] )\n",
    "    total1=sum(sum(cm1))\n",
    "    accuracy = (cm1[0,0]+cm1[1,1])/total1\n",
    "    \n",
    "    speci = cm1[0,0]/(cm1[0,0]+cm1[0,1])\n",
    "    sensi = cm1[1,1]/(cm1[1,0]+cm1[1,1])\n",
    "    cutoff_df.loc[i] =[ i ,accuracy,sensi,speci]\n",
    "print(cutoff_df)"
   ]
  },
  {
   "cell_type": "code",
   "execution_count": 169,
   "id": "b51843c0-b3b9-45db-aa4f-006a3b9de275",
   "metadata": {},
   "outputs": [
    {
     "data": {
      "image/png": "[encoded data removed]",
      "text/plain": [
       "<Figure size 640x480 with 1 Axes>"
      ]
     },
     "metadata": {},
     "output_type": "display_data"
    }
   ],
   "source": [
    "# Let's plot accuracy sensitivity and specificity for various probabilities.\n",
    "cutoff_df.plot.line(x='prob', y=['accuracy','sensi','speci'])\n",
    "plt.show()"
   ]
  },
  {
   "cell_type": "code",
   "execution_count": 170,
   "id": "c0266c9b-93bc-456b-b104-34be4df782a5",
   "metadata": {},
   "outputs": [
    {
     "data": {
      "text/html": [
       "<div>\n",
       "<style scoped>\n",
       "    .dataframe tbody tr th:only-of-type {\n",
       "        vertical-align: middle;\n",
       "    }\n",
       "\n",
       "    .dataframe tbody tr th {\n",
       "        vertical-align: top;\n",
       "    }\n",
       "\n",
       "    .dataframe thead th {\n",
       "        text-align: right;\n",
       "    }\n",
       "</style>\n",
       "<table border=\"1\" class=\"dataframe\">\n",
       "  <thead>\n",
       "    <tr style=\"text-align: right;\">\n",
       "      <th></th>\n",
       "      <th>Converted</th>\n",
       "      <th>Converted_prob</th>\n",
       "      <th>Prospect ID</th>\n",
       "      <th>Predicted</th>\n",
       "      <th>0.0</th>\n",
       "      <th>0.1</th>\n",
       "      <th>0.2</th>\n",
       "      <th>0.3</th>\n",
       "      <th>0.4</th>\n",
       "      <th>0.5</th>\n",
       "      <th>0.6</th>\n",
       "      <th>0.7</th>\n",
       "      <th>0.8</th>\n",
       "      <th>0.9</th>\n",
       "      <th>final_Predicted</th>\n",
       "    </tr>\n",
       "  </thead>\n",
       "  <tbody>\n",
       "    <tr>\n",
       "      <th>1979</th>\n",
       "      <td>1</td>\n",
       "      <td>0.926314</td>\n",
       "      <td>1979</td>\n",
       "      <td>1</td>\n",
       "      <td>1</td>\n",
       "      <td>1</td>\n",
       "      <td>1</td>\n",
       "      <td>1</td>\n",
       "      <td>1</td>\n",
       "      <td>1</td>\n",
       "      <td>1</td>\n",
       "      <td>1</td>\n",
       "      <td>1</td>\n",
       "      <td>1</td>\n",
       "      <td>1</td>\n",
       "    </tr>\n",
       "    <tr>\n",
       "      <th>6249</th>\n",
       "      <td>0</td>\n",
       "      <td>0.472066</td>\n",
       "      <td>6249</td>\n",
       "      <td>0</td>\n",
       "      <td>1</td>\n",
       "      <td>1</td>\n",
       "      <td>1</td>\n",
       "      <td>1</td>\n",
       "      <td>1</td>\n",
       "      <td>0</td>\n",
       "      <td>0</td>\n",
       "      <td>0</td>\n",
       "      <td>0</td>\n",
       "      <td>0</td>\n",
       "      <td>1</td>\n",
       "    </tr>\n",
       "    <tr>\n",
       "      <th>5557</th>\n",
       "      <td>0</td>\n",
       "      <td>0.089375</td>\n",
       "      <td>5557</td>\n",
       "      <td>0</td>\n",
       "      <td>1</td>\n",
       "      <td>0</td>\n",
       "      <td>0</td>\n",
       "      <td>0</td>\n",
       "      <td>0</td>\n",
       "      <td>0</td>\n",
       "      <td>0</td>\n",
       "      <td>0</td>\n",
       "      <td>0</td>\n",
       "      <td>0</td>\n",
       "      <td>0</td>\n",
       "    </tr>\n",
       "    <tr>\n",
       "      <th>7865</th>\n",
       "      <td>0</td>\n",
       "      <td>0.002895</td>\n",
       "      <td>7865</td>\n",
       "      <td>0</td>\n",
       "      <td>1</td>\n",
       "      <td>0</td>\n",
       "      <td>0</td>\n",
       "      <td>0</td>\n",
       "      <td>0</td>\n",
       "      <td>0</td>\n",
       "      <td>0</td>\n",
       "      <td>0</td>\n",
       "      <td>0</td>\n",
       "      <td>0</td>\n",
       "      <td>0</td>\n",
       "    </tr>\n",
       "    <tr>\n",
       "      <th>8491</th>\n",
       "      <td>0</td>\n",
       "      <td>0.006552</td>\n",
       "      <td>8491</td>\n",
       "      <td>0</td>\n",
       "      <td>1</td>\n",
       "      <td>0</td>\n",
       "      <td>0</td>\n",
       "      <td>0</td>\n",
       "      <td>0</td>\n",
       "      <td>0</td>\n",
       "      <td>0</td>\n",
       "      <td>0</td>\n",
       "      <td>0</td>\n",
       "      <td>0</td>\n",
       "      <td>0</td>\n",
       "    </tr>\n",
       "  </tbody>\n",
       "</table>\n",
       "</div>"
      ],
      "text/plain": [
       "      Converted  Converted_prob  Prospect ID  Predicted  0.0  0.1  0.2  0.3  \\\n",
       "1979          1        0.926314         1979          1    1    1    1    1   \n",
       "6249          0        0.472066         6249          0    1    1    1    1   \n",
       "5557          0        0.089375         5557          0    1    0    0    0   \n",
       "7865          0        0.002895         7865          0    1    0    0    0   \n",
       "8491          0        0.006552         8491          0    1    0    0    0   \n",
       "\n",
       "      0.4  0.5  0.6  0.7  0.8  0.9  final_Predicted  \n",
       "1979    1    1    1    1    1    1                1  \n",
       "6249    1    0    0    0    0    0                1  \n",
       "5557    0    0    0    0    0    0                0  \n",
       "7865    0    0    0    0    0    0                0  \n",
       "8491    0    0    0    0    0    0                0  "
      ]
     },
     "execution_count": 170,
     "metadata": {},
     "output_type": "execute_result"
    }
   ],
   "source": [
    "#### From the curve above, 0.35 is the optimum point to take it as a cutoff probability.\n",
    "\n",
    "y_train_pred_final['final_Predicted'] = y_train_pred_final.Converted_prob.map( lambda x: 1 if x > 0.35 else 0)\n",
    "\n",
    "y_train_pred_final.head()"
   ]
  },
  {
   "cell_type": "code",
   "execution_count": 171,
   "id": "6ef7e51c-8117-4f99-b9e0-c8fafdadd051",
   "metadata": {},
   "outputs": [
    {
     "data": {
      "text/html": [
       "<div>\n",
       "<style scoped>\n",
       "    .dataframe tbody tr th:only-of-type {\n",
       "        vertical-align: middle;\n",
       "    }\n",
       "\n",
       "    .dataframe tbody tr th {\n",
       "        vertical-align: top;\n",
       "    }\n",
       "\n",
       "    .dataframe thead th {\n",
       "        text-align: right;\n",
       "    }\n",
       "</style>\n",
       "<table border=\"1\" class=\"dataframe\">\n",
       "  <thead>\n",
       "    <tr style=\"text-align: right;\">\n",
       "      <th></th>\n",
       "      <th>Converted</th>\n",
       "      <th>Converted_prob</th>\n",
       "      <th>Prospect ID</th>\n",
       "      <th>final_Predicted</th>\n",
       "      <th>Lead_Score</th>\n",
       "    </tr>\n",
       "  </thead>\n",
       "  <tbody>\n",
       "    <tr>\n",
       "      <th>1979</th>\n",
       "      <td>1</td>\n",
       "      <td>0.926314</td>\n",
       "      <td>1979</td>\n",
       "      <td>1</td>\n",
       "      <td>93</td>\n",
       "    </tr>\n",
       "    <tr>\n",
       "      <th>6249</th>\n",
       "      <td>0</td>\n",
       "      <td>0.472066</td>\n",
       "      <td>6249</td>\n",
       "      <td>1</td>\n",
       "      <td>47</td>\n",
       "    </tr>\n",
       "    <tr>\n",
       "      <th>5557</th>\n",
       "      <td>0</td>\n",
       "      <td>0.089375</td>\n",
       "      <td>5557</td>\n",
       "      <td>0</td>\n",
       "      <td>9</td>\n",
       "    </tr>\n",
       "    <tr>\n",
       "      <th>7865</th>\n",
       "      <td>0</td>\n",
       "      <td>0.002895</td>\n",
       "      <td>7865</td>\n",
       "      <td>0</td>\n",
       "      <td>0</td>\n",
       "    </tr>\n",
       "    <tr>\n",
       "      <th>8491</th>\n",
       "      <td>0</td>\n",
       "      <td>0.006552</td>\n",
       "      <td>8491</td>\n",
       "      <td>0</td>\n",
       "      <td>1</td>\n",
       "    </tr>\n",
       "  </tbody>\n",
       "</table>\n",
       "</div>"
      ],
      "text/plain": [
       "      Converted  Converted_prob  Prospect ID  final_Predicted  Lead_Score\n",
       "1979          1        0.926314         1979                1          93\n",
       "6249          0        0.472066         6249                1          47\n",
       "5557          0        0.089375         5557                0           9\n",
       "7865          0        0.002895         7865                0           0\n",
       "8491          0        0.006552         8491                0           1"
      ]
     },
     "execution_count": 171,
     "metadata": {},
     "output_type": "execute_result"
    }
   ],
   "source": [
    "y_train_pred_final['Lead_Score'] = y_train_pred_final.Converted_prob.map( lambda x: round(x*100))\n",
    "\n",
    "y_train_pred_final[['Converted','Converted_prob','Prospect ID','final_Predicted','Lead_Score']].head()"
   ]
  },
  {
   "cell_type": "code",
   "execution_count": 172,
   "id": "ede1ae38-d1e7-4aa3-a790-6743887e4ccc",
   "metadata": {},
   "outputs": [
    {
     "data": {
      "text/plain": [
       "0.911144578313253"
      ]
     },
     "execution_count": 172,
     "metadata": {},
     "output_type": "execute_result"
    }
   ],
   "source": [
    "# Let's check the overall accuracy.\n",
    "metrics.accuracy_score(y_train_pred_final.Converted, y_train_pred_final.final_Predicted)"
   ]
  },
  {
   "cell_type": "code",
   "execution_count": 173,
   "id": "896d1777-0217-44c7-b0a3-43cd4750fdec",
   "metadata": {},
   "outputs": [
    {
     "data": {
      "text/plain": [
       "array([[2710,  251],\n",
       "       [ 162, 1525]], dtype=int64)"
      ]
     },
     "execution_count": 173,
     "metadata": {},
     "output_type": "execute_result"
    }
   ],
   "source": [
    "confusion2 = metrics.confusion_matrix(y_train_pred_final.Converted, y_train_pred_final.final_Predicted )\n",
    "confusion2"
   ]
  },
  {
   "cell_type": "code",
   "execution_count": 175,
   "id": "02508175-8cd2-4ab7-8088-85d814e66893",
   "metadata": {},
   "outputs": [],
   "source": [
    "TP = confusion2[1,1] # true positive \n",
    "TN = confusion2[0,0] # true negatives\n",
    "FP = confusion2[0,1] # false positives\n",
    "FN = confusion2[1,0] # false negatives"
   ]
  },
  {
   "cell_type": "code",
   "execution_count": 177,
   "id": "20251063-2f22-4fbb-9e6e-7875fd3777dc",
   "metadata": {},
   "outputs": [
    {
     "data": {
      "text/plain": [
       "0.9039715471250741"
      ]
     },
     "execution_count": 177,
     "metadata": {},
     "output_type": "execute_result"
    }
   ],
   "source": [
    "# Let's see the sensitivity of our logistic regression model\n",
    "TP / float(TP+FN)"
   ]
  },
  {
   "cell_type": "code",
   "execution_count": 178,
   "id": "17b80dcf-696f-45d7-a619-0a76f2ec19f3",
   "metadata": {},
   "outputs": [
    {
     "data": {
      "text/plain": [
       "0.9152313407632556"
      ]
     },
     "execution_count": 178,
     "metadata": {},
     "output_type": "execute_result"
    }
   ],
   "source": [
    "# Let us calculate specificity\n",
    "TN / float(TN+FP)"
   ]
  },
  {
   "cell_type": "markdown",
   "id": "83dbc56c-1356-48d8-a448-fce0284d5028",
   "metadata": {},
   "source": [
    "## Observation:\n",
    "\n",
    "## So as we can see above the model seems to be performing well. The ROC curve has a value of 0.97, which is very good. We have the following values for the Train Data:\n",
    "## Accuracy : 91.11%\n",
    "## Sensitivity : 90.39%\n",
    "## Specificity : 91.52%\n",
    "## Some of the other Stats are derived below, indicating the False Positive Rate, Positive Predictive Value,Negative Predictive Values, Precision & Recall."
   ]
  },
  {
   "cell_type": "code",
   "execution_count": 179,
   "id": "d3b615d4-58e3-4b63-a8a6-92e95b8772b9",
   "metadata": {},
   "outputs": [
    {
     "name": "stdout",
     "output_type": "stream",
     "text": [
      "0.08476865923674434\n"
     ]
    }
   ],
   "source": [
    "# Calculate False Postive Rate - predicting conversion when customer does not have convert\n",
    "print(FP/ float(TN+FP))"
   ]
  },
  {
   "cell_type": "code",
   "execution_count": 180,
   "id": "a42f8164-ebfb-4475-93a8-76f12a091a35",
   "metadata": {},
   "outputs": [
    {
     "name": "stdout",
     "output_type": "stream",
     "text": [
      "0.8586711711711712\n"
     ]
    }
   ],
   "source": [
    "# Positive predictive value \n",
    "print (TP / float(TP+FP))"
   ]
  },
  {
   "cell_type": "code",
   "execution_count": 181,
   "id": "c6a1a071-f2ef-4d23-b28b-d336c58e021f",
   "metadata": {},
   "outputs": [
    {
     "name": "stdout",
     "output_type": "stream",
     "text": [
      "0.9435933147632312\n"
     ]
    }
   ],
   "source": [
    "# Negative predictive value\n",
    "print (TN / float(TN+ FN))"
   ]
  },
  {
   "cell_type": "code",
   "execution_count": 182,
   "id": "a9487cea-25ab-4dd4-9a62-fcfd21b5f6dd",
   "metadata": {},
   "outputs": [
    {
     "data": {
      "text/plain": [
       "array([[2710,  251],\n",
       "       [ 162, 1525]], dtype=int64)"
      ]
     },
     "execution_count": 182,
     "metadata": {},
     "output_type": "execute_result"
    }
   ],
   "source": [
    "#Looking at the confusion matrix again\n",
    "\n",
    "confusion = metrics.confusion_matrix(y_train_pred_final.Converted, y_train_pred_final.final_Predicted )\n",
    "confusion"
   ]
  },
  {
   "cell_type": "markdown",
   "id": "4f494bc4-e404-4e67-b5be-066cb70bea44",
   "metadata": {},
   "source": [
    "##### Precision"
   ]
  },
  {
   "cell_type": "code",
   "execution_count": 183,
   "id": "eb966529-e42b-419c-ba4b-0d3f65e5caef",
   "metadata": {},
   "outputs": [
    {
     "data": {
      "text/plain": [
       "0.8586711711711712"
      ]
     },
     "execution_count": 183,
     "metadata": {},
     "output_type": "execute_result"
    }
   ],
   "source": [
    "TP / TP + FP\n",
    "confusion[1,1]/(confusion[0,1]+confusion[1,1])"
   ]
  },
  {
   "cell_type": "markdown",
   "id": "90041658-72ce-4c3f-89e2-58be7ad8d93e",
   "metadata": {},
   "source": [
    "##### Recall"
   ]
  },
  {
   "cell_type": "code",
   "execution_count": 184,
   "id": "c75b937b-abee-4c23-9594-faff74e9af11",
   "metadata": {},
   "outputs": [
    {
     "data": {
      "text/plain": [
       "0.9039715471250741"
      ]
     },
     "execution_count": 184,
     "metadata": {},
     "output_type": "execute_result"
    }
   ],
   "source": [
    "TP / TP + FN\n",
    "confusion[1,1]/(confusion[1,0]+confusion[1,1])"
   ]
  },
  {
   "cell_type": "code",
   "execution_count": 185,
   "id": "d6212cf4-fdb7-4759-ac13-82f60633a08d",
   "metadata": {},
   "outputs": [],
   "source": [
    "from sklearn.metrics import precision_score, recall_score"
   ]
  },
  {
   "cell_type": "code",
   "execution_count": 186,
   "id": "152d961c-98a9-47a0-b092-7cf92bbf8773",
   "metadata": {},
   "outputs": [
    {
     "data": {
      "text/plain": [
       "0.8586711711711712"
      ]
     },
     "execution_count": 186,
     "metadata": {},
     "output_type": "execute_result"
    }
   ],
   "source": [
    "precision_score(y_train_pred_final.Converted , y_train_pred_final.final_Predicted)"
   ]
  },
  {
   "cell_type": "code",
   "execution_count": 187,
   "id": "63bde9b2-fc78-4e60-b2e1-2768a25f3c6e",
   "metadata": {},
   "outputs": [
    {
     "data": {
      "text/plain": [
       "0.9039715471250741"
      ]
     },
     "execution_count": 187,
     "metadata": {},
     "output_type": "execute_result"
    }
   ],
   "source": [
    "recall_score(y_train_pred_final.Converted, y_train_pred_final.final_Predicted)"
   ]
  },
  {
   "cell_type": "code",
   "execution_count": 188,
   "id": "50782024-8180-4d56-ad0d-f7694e47a38d",
   "metadata": {},
   "outputs": [],
   "source": [
    "from sklearn.metrics import precision_recall_curve"
   ]
  },
  {
   "cell_type": "code",
   "execution_count": 189,
   "id": "61b3659e-a8de-45b7-9ce4-4932763f412a",
   "metadata": {},
   "outputs": [],
   "source": [
    "y_train_pred_final.Converted, y_train_pred_final.final_Predicted\n",
    "p, r, thresholds = precision_recall_curve(y_train_pred_final.Converted, y_train_pred_final.Converted_prob)"
   ]
  },
  {
   "cell_type": "code",
   "execution_count": 190,
   "id": "4c49606f-ab3f-49bc-a1b3-a5ae5b592906",
   "metadata": {},
   "outputs": [
    {
     "data": {
      "image/png": "[encoded data removed]",
      "text/plain": [
       "<Figure size 640x480 with 1 Axes>"
      ]
     },
     "metadata": {},
     "output_type": "display_data"
    }
   ],
   "source": [
    "plt.plot(thresholds, p[:-1], \"g-\")\n",
    "plt.plot(thresholds, r[:-1], \"r-\")\n",
    "plt.show()"
   ]
  },
  {
   "cell_type": "code",
   "execution_count": 191,
   "id": "1336d3a0-2ab1-446c-9b2b-42c5c2859f3e",
   "metadata": {},
   "outputs": [
    {
     "data": {
      "text/html": [
       "<div>\n",
       "<style scoped>\n",
       "    .dataframe tbody tr th:only-of-type {\n",
       "        vertical-align: middle;\n",
       "    }\n",
       "\n",
       "    .dataframe tbody tr th {\n",
       "        vertical-align: top;\n",
       "    }\n",
       "\n",
       "    .dataframe thead th {\n",
       "        text-align: right;\n",
       "    }\n",
       "</style>\n",
       "<table border=\"1\" class=\"dataframe\">\n",
       "  <thead>\n",
       "    <tr style=\"text-align: right;\">\n",
       "      <th></th>\n",
       "      <th>TotalVisits</th>\n",
       "      <th>Total Time Spent on Website</th>\n",
       "      <th>Page Views Per Visit</th>\n",
       "      <th>Lead Origin_Landing Page Submission</th>\n",
       "      <th>Lead Origin_Lead Add Form</th>\n",
       "      <th>What is your current occupation_Housewife</th>\n",
       "      <th>What is your current occupation_Other</th>\n",
       "      <th>What is your current occupation_Student</th>\n",
       "      <th>What is your current occupation_Unemployed</th>\n",
       "      <th>What is your current occupation_Working Professional</th>\n",
       "      <th>...</th>\n",
       "      <th>Last Notable Activity_Olark Chat Conversation</th>\n",
       "      <th>Last Notable Activity_Page Visited on Website</th>\n",
       "      <th>Last Notable Activity_SMS Sent</th>\n",
       "      <th>Tags_Busy</th>\n",
       "      <th>Tags_Closed by Horizzon</th>\n",
       "      <th>Tags_Interested in other courses</th>\n",
       "      <th>Tags_Lost to EINS</th>\n",
       "      <th>Tags_Other_Tags</th>\n",
       "      <th>Tags_Ringing</th>\n",
       "      <th>Tags_Will revert after reading the email</th>\n",
       "    </tr>\n",
       "  </thead>\n",
       "  <tbody>\n",
       "    <tr>\n",
       "      <th>8970</th>\n",
       "      <td>-1.144209</td>\n",
       "      <td>-0.560701</td>\n",
       "      <td>-1.266390</td>\n",
       "      <td>0</td>\n",
       "      <td>0</td>\n",
       "      <td>0</td>\n",
       "      <td>0</td>\n",
       "      <td>0</td>\n",
       "      <td>1</td>\n",
       "      <td>0</td>\n",
       "      <td>...</td>\n",
       "      <td>0</td>\n",
       "      <td>0</td>\n",
       "      <td>0</td>\n",
       "      <td>0</td>\n",
       "      <td>0</td>\n",
       "      <td>1</td>\n",
       "      <td>0</td>\n",
       "      <td>0</td>\n",
       "      <td>0</td>\n",
       "      <td>0</td>\n",
       "    </tr>\n",
       "    <tr>\n",
       "      <th>8280</th>\n",
       "      <td>-0.783851</td>\n",
       "      <td>-0.236439</td>\n",
       "      <td>-0.628396</td>\n",
       "      <td>0</td>\n",
       "      <td>0</td>\n",
       "      <td>0</td>\n",
       "      <td>0</td>\n",
       "      <td>0</td>\n",
       "      <td>1</td>\n",
       "      <td>0</td>\n",
       "      <td>...</td>\n",
       "      <td>0</td>\n",
       "      <td>0</td>\n",
       "      <td>0</td>\n",
       "      <td>0</td>\n",
       "      <td>0</td>\n",
       "      <td>0</td>\n",
       "      <td>0</td>\n",
       "      <td>0</td>\n",
       "      <td>0</td>\n",
       "      <td>0</td>\n",
       "    </tr>\n",
       "    <tr>\n",
       "      <th>6941</th>\n",
       "      <td>-0.783851</td>\n",
       "      <td>-1.021301</td>\n",
       "      <td>-1.266390</td>\n",
       "      <td>0</td>\n",
       "      <td>0</td>\n",
       "      <td>0</td>\n",
       "      <td>0</td>\n",
       "      <td>0</td>\n",
       "      <td>1</td>\n",
       "      <td>0</td>\n",
       "      <td>...</td>\n",
       "      <td>0</td>\n",
       "      <td>0</td>\n",
       "      <td>0</td>\n",
       "      <td>0</td>\n",
       "      <td>0</td>\n",
       "      <td>1</td>\n",
       "      <td>0</td>\n",
       "      <td>0</td>\n",
       "      <td>0</td>\n",
       "      <td>0</td>\n",
       "    </tr>\n",
       "    <tr>\n",
       "      <th>7343</th>\n",
       "      <td>4.621518</td>\n",
       "      <td>0.028867</td>\n",
       "      <td>-0.545456</td>\n",
       "      <td>1</td>\n",
       "      <td>0</td>\n",
       "      <td>0</td>\n",
       "      <td>0</td>\n",
       "      <td>0</td>\n",
       "      <td>1</td>\n",
       "      <td>0</td>\n",
       "      <td>...</td>\n",
       "      <td>0</td>\n",
       "      <td>0</td>\n",
       "      <td>0</td>\n",
       "      <td>0</td>\n",
       "      <td>0</td>\n",
       "      <td>0</td>\n",
       "      <td>0</td>\n",
       "      <td>0</td>\n",
       "      <td>0</td>\n",
       "      <td>1</td>\n",
       "    </tr>\n",
       "    <tr>\n",
       "      <th>3734</th>\n",
       "      <td>-0.063135</td>\n",
       "      <td>-0.582810</td>\n",
       "      <td>0.647593</td>\n",
       "      <td>1</td>\n",
       "      <td>0</td>\n",
       "      <td>0</td>\n",
       "      <td>0</td>\n",
       "      <td>0</td>\n",
       "      <td>1</td>\n",
       "      <td>0</td>\n",
       "      <td>...</td>\n",
       "      <td>0</td>\n",
       "      <td>0</td>\n",
       "      <td>0</td>\n",
       "      <td>0</td>\n",
       "      <td>0</td>\n",
       "      <td>0</td>\n",
       "      <td>0</td>\n",
       "      <td>0</td>\n",
       "      <td>0</td>\n",
       "      <td>0</td>\n",
       "    </tr>\n",
       "  </tbody>\n",
       "</table>\n",
       "<p>5 rows × 54 columns</p>\n",
       "</div>"
      ],
      "text/plain": [
       "      TotalVisits  Total Time Spent on Website  Page Views Per Visit  \\\n",
       "8970    -1.144209                    -0.560701             -1.266390   \n",
       "8280    -0.783851                    -0.236439             -0.628396   \n",
       "6941    -0.783851                    -1.021301             -1.266390   \n",
       "7343     4.621518                     0.028867             -0.545456   \n",
       "3734    -0.063135                    -0.582810              0.647593   \n",
       "\n",
       "      Lead Origin_Landing Page Submission  Lead Origin_Lead Add Form  \\\n",
       "8970                                    0                          0   \n",
       "8280                                    0                          0   \n",
       "6941                                    0                          0   \n",
       "7343                                    1                          0   \n",
       "3734                                    1                          0   \n",
       "\n",
       "      What is your current occupation_Housewife  \\\n",
       "8970                                          0   \n",
       "8280                                          0   \n",
       "6941                                          0   \n",
       "7343                                          0   \n",
       "3734                                          0   \n",
       "\n",
       "      What is your current occupation_Other  \\\n",
       "8970                                      0   \n",
       "8280                                      0   \n",
       "6941                                      0   \n",
       "7343                                      0   \n",
       "3734                                      0   \n",
       "\n",
       "      What is your current occupation_Student  \\\n",
       "8970                                        0   \n",
       "8280                                        0   \n",
       "6941                                        0   \n",
       "7343                                        0   \n",
       "3734                                        0   \n",
       "\n",
       "      What is your current occupation_Unemployed  \\\n",
       "8970                                           1   \n",
       "8280                                           1   \n",
       "6941                                           1   \n",
       "7343                                           1   \n",
       "3734                                           1   \n",
       "\n",
       "      What is your current occupation_Working Professional  ...  \\\n",
       "8970                                                  0     ...   \n",
       "8280                                                  0     ...   \n",
       "6941                                                  0     ...   \n",
       "7343                                                  0     ...   \n",
       "3734                                                  0     ...   \n",
       "\n",
       "      Last Notable Activity_Olark Chat Conversation  \\\n",
       "8970                                              0   \n",
       "8280                                              0   \n",
       "6941                                              0   \n",
       "7343                                              0   \n",
       "3734                                              0   \n",
       "\n",
       "      Last Notable Activity_Page Visited on Website  \\\n",
       "8970                                              0   \n",
       "8280                                              0   \n",
       "6941                                              0   \n",
       "7343                                              0   \n",
       "3734                                              0   \n",
       "\n",
       "      Last Notable Activity_SMS Sent  Tags_Busy  Tags_Closed by Horizzon  \\\n",
       "8970                               0          0                        0   \n",
       "8280                               0          0                        0   \n",
       "6941                               0          0                        0   \n",
       "7343                               0          0                        0   \n",
       "3734                               0          0                        0   \n",
       "\n",
       "      Tags_Interested in other courses  Tags_Lost to EINS  Tags_Other_Tags  \\\n",
       "8970                                 1                  0                0   \n",
       "8280                                 0                  0                0   \n",
       "6941                                 1                  0                0   \n",
       "7343                                 0                  0                0   \n",
       "3734                                 0                  0                0   \n",
       "\n",
       "      Tags_Ringing  Tags_Will revert after reading the email  \n",
       "8970             0                                         0  \n",
       "8280             0                                         0  \n",
       "6941             0                                         0  \n",
       "7343             0                                         1  \n",
       "3734             0                                         0  \n",
       "\n",
       "[5 rows x 54 columns]"
      ]
     },
     "execution_count": 191,
     "metadata": {},
     "output_type": "execute_result"
    }
   ],
   "source": [
    "#scaling test set\n",
    "\n",
    "num_cols=X_test.select_dtypes(include=['float64', 'int64']).columns\n",
    "\n",
    "X_test[num_cols] = scaler.fit_transform(X_test[num_cols])\n",
    "\n",
    "X_test.head()"
   ]
  },
  {
   "cell_type": "code",
   "execution_count": 192,
   "id": "4af6db19-fa2b-45f4-a458-cea0b931f6c9",
   "metadata": {},
   "outputs": [
    {
     "data": {
      "text/html": [
       "<div>\n",
       "<style scoped>\n",
       "    .dataframe tbody tr th:only-of-type {\n",
       "        vertical-align: middle;\n",
       "    }\n",
       "\n",
       "    .dataframe tbody tr th {\n",
       "        vertical-align: top;\n",
       "    }\n",
       "\n",
       "    .dataframe thead th {\n",
       "        text-align: right;\n",
       "    }\n",
       "</style>\n",
       "<table border=\"1\" class=\"dataframe\">\n",
       "  <thead>\n",
       "    <tr style=\"text-align: right;\">\n",
       "      <th></th>\n",
       "      <th>Total Time Spent on Website</th>\n",
       "      <th>Lead Origin_Landing Page Submission</th>\n",
       "      <th>What is your current occupation_Unemployed</th>\n",
       "      <th>What is your current occupation_Working Professional</th>\n",
       "      <th>City_Tier II Cities</th>\n",
       "      <th>Specialization_Business Administration</th>\n",
       "      <th>Specialization_E-COMMERCE</th>\n",
       "      <th>Specialization_Media and Advertising</th>\n",
       "      <th>Specialization_Rural and Agribusiness</th>\n",
       "      <th>Lead Source_Olark Chat</th>\n",
       "      <th>...</th>\n",
       "      <th>Last Activity_Converted to Lead</th>\n",
       "      <th>Last Activity_Email Bounced</th>\n",
       "      <th>Last Activity_SMS Sent</th>\n",
       "      <th>Last Notable Activity_Olark Chat Conversation</th>\n",
       "      <th>Last Notable Activity_SMS Sent</th>\n",
       "      <th>Tags_Interested in other courses</th>\n",
       "      <th>Tags_Lost to EINS</th>\n",
       "      <th>Tags_Other_Tags</th>\n",
       "      <th>Tags_Ringing</th>\n",
       "      <th>Tags_Will revert after reading the email</th>\n",
       "    </tr>\n",
       "  </thead>\n",
       "  <tbody>\n",
       "    <tr>\n",
       "      <th>8970</th>\n",
       "      <td>-0.560701</td>\n",
       "      <td>0</td>\n",
       "      <td>1</td>\n",
       "      <td>0</td>\n",
       "      <td>0</td>\n",
       "      <td>0</td>\n",
       "      <td>0</td>\n",
       "      <td>0</td>\n",
       "      <td>0</td>\n",
       "      <td>0</td>\n",
       "      <td>...</td>\n",
       "      <td>1</td>\n",
       "      <td>0</td>\n",
       "      <td>0</td>\n",
       "      <td>0</td>\n",
       "      <td>0</td>\n",
       "      <td>1</td>\n",
       "      <td>0</td>\n",
       "      <td>0</td>\n",
       "      <td>0</td>\n",
       "      <td>0</td>\n",
       "    </tr>\n",
       "    <tr>\n",
       "      <th>8280</th>\n",
       "      <td>-0.236439</td>\n",
       "      <td>0</td>\n",
       "      <td>1</td>\n",
       "      <td>0</td>\n",
       "      <td>0</td>\n",
       "      <td>0</td>\n",
       "      <td>0</td>\n",
       "      <td>0</td>\n",
       "      <td>0</td>\n",
       "      <td>0</td>\n",
       "      <td>...</td>\n",
       "      <td>0</td>\n",
       "      <td>0</td>\n",
       "      <td>0</td>\n",
       "      <td>0</td>\n",
       "      <td>0</td>\n",
       "      <td>0</td>\n",
       "      <td>0</td>\n",
       "      <td>0</td>\n",
       "      <td>0</td>\n",
       "      <td>0</td>\n",
       "    </tr>\n",
       "    <tr>\n",
       "      <th>6941</th>\n",
       "      <td>-1.021301</td>\n",
       "      <td>0</td>\n",
       "      <td>1</td>\n",
       "      <td>0</td>\n",
       "      <td>0</td>\n",
       "      <td>0</td>\n",
       "      <td>0</td>\n",
       "      <td>0</td>\n",
       "      <td>0</td>\n",
       "      <td>0</td>\n",
       "      <td>...</td>\n",
       "      <td>0</td>\n",
       "      <td>0</td>\n",
       "      <td>0</td>\n",
       "      <td>0</td>\n",
       "      <td>0</td>\n",
       "      <td>1</td>\n",
       "      <td>0</td>\n",
       "      <td>0</td>\n",
       "      <td>0</td>\n",
       "      <td>0</td>\n",
       "    </tr>\n",
       "    <tr>\n",
       "      <th>7343</th>\n",
       "      <td>0.028867</td>\n",
       "      <td>1</td>\n",
       "      <td>1</td>\n",
       "      <td>0</td>\n",
       "      <td>0</td>\n",
       "      <td>0</td>\n",
       "      <td>0</td>\n",
       "      <td>0</td>\n",
       "      <td>0</td>\n",
       "      <td>0</td>\n",
       "      <td>...</td>\n",
       "      <td>0</td>\n",
       "      <td>0</td>\n",
       "      <td>0</td>\n",
       "      <td>0</td>\n",
       "      <td>0</td>\n",
       "      <td>0</td>\n",
       "      <td>0</td>\n",
       "      <td>0</td>\n",
       "      <td>0</td>\n",
       "      <td>1</td>\n",
       "    </tr>\n",
       "    <tr>\n",
       "      <th>3734</th>\n",
       "      <td>-0.582810</td>\n",
       "      <td>1</td>\n",
       "      <td>1</td>\n",
       "      <td>0</td>\n",
       "      <td>0</td>\n",
       "      <td>0</td>\n",
       "      <td>0</td>\n",
       "      <td>0</td>\n",
       "      <td>0</td>\n",
       "      <td>0</td>\n",
       "      <td>...</td>\n",
       "      <td>0</td>\n",
       "      <td>0</td>\n",
       "      <td>0</td>\n",
       "      <td>0</td>\n",
       "      <td>0</td>\n",
       "      <td>0</td>\n",
       "      <td>0</td>\n",
       "      <td>0</td>\n",
       "      <td>0</td>\n",
       "      <td>0</td>\n",
       "    </tr>\n",
       "  </tbody>\n",
       "</table>\n",
       "<p>5 rows × 22 columns</p>\n",
       "</div>"
      ],
      "text/plain": [
       "      Total Time Spent on Website  Lead Origin_Landing Page Submission  \\\n",
       "8970                    -0.560701                                    0   \n",
       "8280                    -0.236439                                    0   \n",
       "6941                    -1.021301                                    0   \n",
       "7343                     0.028867                                    1   \n",
       "3734                    -0.582810                                    1   \n",
       "\n",
       "      What is your current occupation_Unemployed  \\\n",
       "8970                                           1   \n",
       "8280                                           1   \n",
       "6941                                           1   \n",
       "7343                                           1   \n",
       "3734                                           1   \n",
       "\n",
       "      What is your current occupation_Working Professional  \\\n",
       "8970                                                  0      \n",
       "8280                                                  0      \n",
       "6941                                                  0      \n",
       "7343                                                  0      \n",
       "3734                                                  0      \n",
       "\n",
       "      City_Tier II Cities  Specialization_Business Administration  \\\n",
       "8970                    0                                       0   \n",
       "8280                    0                                       0   \n",
       "6941                    0                                       0   \n",
       "7343                    0                                       0   \n",
       "3734                    0                                       0   \n",
       "\n",
       "      Specialization_E-COMMERCE  Specialization_Media and Advertising  \\\n",
       "8970                          0                                     0   \n",
       "8280                          0                                     0   \n",
       "6941                          0                                     0   \n",
       "7343                          0                                     0   \n",
       "3734                          0                                     0   \n",
       "\n",
       "      Specialization_Rural and Agribusiness  Lead Source_Olark Chat  ...  \\\n",
       "8970                                      0                       0  ...   \n",
       "8280                                      0                       0  ...   \n",
       "6941                                      0                       0  ...   \n",
       "7343                                      0                       0  ...   \n",
       "3734                                      0                       0  ...   \n",
       "\n",
       "      Last Activity_Converted to Lead  Last Activity_Email Bounced  \\\n",
       "8970                                1                            0   \n",
       "8280                                0                            0   \n",
       "6941                                0                            0   \n",
       "7343                                0                            0   \n",
       "3734                                0                            0   \n",
       "\n",
       "      Last Activity_SMS Sent  Last Notable Activity_Olark Chat Conversation  \\\n",
       "8970                       0                                              0   \n",
       "8280                       0                                              0   \n",
       "6941                       0                                              0   \n",
       "7343                       0                                              0   \n",
       "3734                       0                                              0   \n",
       "\n",
       "      Last Notable Activity_SMS Sent  Tags_Interested in other courses  \\\n",
       "8970                               0                                 1   \n",
       "8280                               0                                 0   \n",
       "6941                               0                                 1   \n",
       "7343                               0                                 0   \n",
       "3734                               0                                 0   \n",
       "\n",
       "      Tags_Lost to EINS  Tags_Other_Tags  Tags_Ringing  \\\n",
       "8970                  0                0             0   \n",
       "8280                  0                0             0   \n",
       "6941                  0                0             0   \n",
       "7343                  0                0             0   \n",
       "3734                  0                0             0   \n",
       "\n",
       "      Tags_Will revert after reading the email  \n",
       "8970                                         0  \n",
       "8280                                         0  \n",
       "6941                                         0  \n",
       "7343                                         1  \n",
       "3734                                         0  \n",
       "\n",
       "[5 rows x 22 columns]"
      ]
     },
     "execution_count": 192,
     "metadata": {},
     "output_type": "execute_result"
    }
   ],
   "source": [
    "X_test = X_test[col]\n",
    "X_test.head()"
   ]
  },
  {
   "cell_type": "code",
   "execution_count": 193,
   "id": "b6323c6a-556a-4f61-890e-436cc37c5ec3",
   "metadata": {},
   "outputs": [],
   "source": [
    "X_test_sm = sm.add_constant(X_test)"
   ]
  },
  {
   "cell_type": "markdown",
   "id": "51cf1c40-f622-4e54-887e-b5a3a56a0bde",
   "metadata": {},
   "source": [
    "### PREDICTIONS ON TEST SET"
   ]
  },
  {
   "cell_type": "code",
   "execution_count": 194,
   "id": "978d4d72-5f93-4a9a-9f12-aad9b09208b2",
   "metadata": {},
   "outputs": [],
   "source": [
    "y_test_pred = res.predict(X_test_sm)"
   ]
  },
  {
   "cell_type": "code",
   "execution_count": 195,
   "id": "55380b2f-6182-46ee-a220-44891a7b5a6b",
   "metadata": {},
   "outputs": [
    {
     "data": {
      "text/plain": [
       "8970    0.002393\n",
       "8280    0.212586\n",
       "6941    0.006237\n",
       "7343    0.938727\n",
       "3734    0.104853\n",
       "7889    0.664890\n",
       "837     0.006148\n",
       "8227    0.026377\n",
       "7245    0.999563\n",
       "8622    0.907734\n",
       "dtype: float64"
      ]
     },
     "execution_count": 195,
     "metadata": {},
     "output_type": "execute_result"
    }
   ],
   "source": [
    "y_test_pred[:10]"
   ]
  },
  {
   "cell_type": "code",
   "execution_count": 196,
   "id": "f7771cb1-a3bf-4807-9826-b9dd0daef7b7",
   "metadata": {},
   "outputs": [],
   "source": [
    "# Converting y_pred to a dataframe which is an array\n",
    "y_pred_1 = pd.DataFrame(y_test_pred)"
   ]
  },
  {
   "cell_type": "code",
   "execution_count": 197,
   "id": "db907627-3ffe-4ad8-93a0-dd2a6118154c",
   "metadata": {},
   "outputs": [
    {
     "data": {
      "text/html": [
       "<div>\n",
       "<style scoped>\n",
       "    .dataframe tbody tr th:only-of-type {\n",
       "        vertical-align: middle;\n",
       "    }\n",
       "\n",
       "    .dataframe tbody tr th {\n",
       "        vertical-align: top;\n",
       "    }\n",
       "\n",
       "    .dataframe thead th {\n",
       "        text-align: right;\n",
       "    }\n",
       "</style>\n",
       "<table border=\"1\" class=\"dataframe\">\n",
       "  <thead>\n",
       "    <tr style=\"text-align: right;\">\n",
       "      <th></th>\n",
       "      <th>0</th>\n",
       "    </tr>\n",
       "  </thead>\n",
       "  <tbody>\n",
       "    <tr>\n",
       "      <th>8970</th>\n",
       "      <td>0.002393</td>\n",
       "    </tr>\n",
       "    <tr>\n",
       "      <th>8280</th>\n",
       "      <td>0.212586</td>\n",
       "    </tr>\n",
       "    <tr>\n",
       "      <th>6941</th>\n",
       "      <td>0.006237</td>\n",
       "    </tr>\n",
       "    <tr>\n",
       "      <th>7343</th>\n",
       "      <td>0.938727</td>\n",
       "    </tr>\n",
       "    <tr>\n",
       "      <th>3734</th>\n",
       "      <td>0.104853</td>\n",
       "    </tr>\n",
       "  </tbody>\n",
       "</table>\n",
       "</div>"
      ],
      "text/plain": [
       "             0\n",
       "8970  0.002393\n",
       "8280  0.212586\n",
       "6941  0.006237\n",
       "7343  0.938727\n",
       "3734  0.104853"
      ]
     },
     "execution_count": 197,
     "metadata": {},
     "output_type": "execute_result"
    }
   ],
   "source": [
    "# Let's see the head\n",
    "y_pred_1.head()"
   ]
  },
  {
   "cell_type": "code",
   "execution_count": 198,
   "id": "26f7c3ce-ceee-4a75-b912-73b7635447a1",
   "metadata": {},
   "outputs": [],
   "source": [
    "# Converting y_test to dataframe\n",
    "y_test_df = pd.DataFrame(y_test)"
   ]
  },
  {
   "cell_type": "code",
   "execution_count": 199,
   "id": "3028b5e9-3f0d-46dd-afc9-7db0557cf8ff",
   "metadata": {},
   "outputs": [],
   "source": [
    "# Putting CustID to index\n",
    "y_test_df['Prospect ID'] = y_test_df.index"
   ]
  },
  {
   "cell_type": "code",
   "execution_count": 200,
   "id": "b8e4d99b-2b4e-4f09-89d5-8ed955bebecc",
   "metadata": {},
   "outputs": [],
   "source": [
    "# Removing index for both dataframes to append them side by side \n",
    "y_pred_1.reset_index(drop=True, inplace=True)\n",
    "y_test_df.reset_index(drop=True, inplace=True)"
   ]
  },
  {
   "cell_type": "code",
   "execution_count": 201,
   "id": "fd59e7fe-0cd9-4f30-a842-3550fc76bbae",
   "metadata": {},
   "outputs": [],
   "source": [
    "# Appending y_test_df and y_pred_1\n",
    "y_pred_final = pd.concat([y_test_df, y_pred_1],axis=1)"
   ]
  },
  {
   "cell_type": "code",
   "execution_count": 202,
   "id": "197261ee-1b04-4eca-b5bc-3d16c397422a",
   "metadata": {},
   "outputs": [
    {
     "data": {
      "text/html": [
       "<div>\n",
       "<style scoped>\n",
       "    .dataframe tbody tr th:only-of-type {\n",
       "        vertical-align: middle;\n",
       "    }\n",
       "\n",
       "    .dataframe tbody tr th {\n",
       "        vertical-align: top;\n",
       "    }\n",
       "\n",
       "    .dataframe thead th {\n",
       "        text-align: right;\n",
       "    }\n",
       "</style>\n",
       "<table border=\"1\" class=\"dataframe\">\n",
       "  <thead>\n",
       "    <tr style=\"text-align: right;\">\n",
       "      <th></th>\n",
       "      <th>Converted</th>\n",
       "      <th>Prospect ID</th>\n",
       "      <th>0</th>\n",
       "    </tr>\n",
       "  </thead>\n",
       "  <tbody>\n",
       "    <tr>\n",
       "      <th>0</th>\n",
       "      <td>0</td>\n",
       "      <td>8970</td>\n",
       "      <td>0.002393</td>\n",
       "    </tr>\n",
       "    <tr>\n",
       "      <th>1</th>\n",
       "      <td>0</td>\n",
       "      <td>8280</td>\n",
       "      <td>0.212586</td>\n",
       "    </tr>\n",
       "    <tr>\n",
       "      <th>2</th>\n",
       "      <td>0</td>\n",
       "      <td>6941</td>\n",
       "      <td>0.006237</td>\n",
       "    </tr>\n",
       "    <tr>\n",
       "      <th>3</th>\n",
       "      <td>0</td>\n",
       "      <td>7343</td>\n",
       "      <td>0.938727</td>\n",
       "    </tr>\n",
       "    <tr>\n",
       "      <th>4</th>\n",
       "      <td>0</td>\n",
       "      <td>3734</td>\n",
       "      <td>0.104853</td>\n",
       "    </tr>\n",
       "  </tbody>\n",
       "</table>\n",
       "</div>"
      ],
      "text/plain": [
       "   Converted  Prospect ID         0\n",
       "0          0         8970  0.002393\n",
       "1          0         8280  0.212586\n",
       "2          0         6941  0.006237\n",
       "3          0         7343  0.938727\n",
       "4          0         3734  0.104853"
      ]
     },
     "execution_count": 202,
     "metadata": {},
     "output_type": "execute_result"
    }
   ],
   "source": [
    "y_pred_final.head()"
   ]
  },
  {
   "cell_type": "code",
   "execution_count": 203,
   "id": "62bc8acf-b7ca-47eb-846b-ef14b5f40e3e",
   "metadata": {},
   "outputs": [],
   "source": [
    "# Renaming the column \n",
    "y_pred_final= y_pred_final.rename(columns={ 0 : 'Converted_prob'})"
   ]
  },
  {
   "cell_type": "code",
   "execution_count": 204,
   "id": "840b22ae-6149-4130-bb5a-a4c98ac54488",
   "metadata": {},
   "outputs": [
    {
     "data": {
      "text/html": [
       "<div>\n",
       "<style scoped>\n",
       "    .dataframe tbody tr th:only-of-type {\n",
       "        vertical-align: middle;\n",
       "    }\n",
       "\n",
       "    .dataframe tbody tr th {\n",
       "        vertical-align: top;\n",
       "    }\n",
       "\n",
       "    .dataframe thead th {\n",
       "        text-align: right;\n",
       "    }\n",
       "</style>\n",
       "<table border=\"1\" class=\"dataframe\">\n",
       "  <thead>\n",
       "    <tr style=\"text-align: right;\">\n",
       "      <th></th>\n",
       "      <th>Converted</th>\n",
       "      <th>Prospect ID</th>\n",
       "      <th>Converted_prob</th>\n",
       "    </tr>\n",
       "  </thead>\n",
       "  <tbody>\n",
       "    <tr>\n",
       "      <th>0</th>\n",
       "      <td>0</td>\n",
       "      <td>8970</td>\n",
       "      <td>0.002393</td>\n",
       "    </tr>\n",
       "    <tr>\n",
       "      <th>1</th>\n",
       "      <td>0</td>\n",
       "      <td>8280</td>\n",
       "      <td>0.212586</td>\n",
       "    </tr>\n",
       "    <tr>\n",
       "      <th>2</th>\n",
       "      <td>0</td>\n",
       "      <td>6941</td>\n",
       "      <td>0.006237</td>\n",
       "    </tr>\n",
       "    <tr>\n",
       "      <th>3</th>\n",
       "      <td>0</td>\n",
       "      <td>7343</td>\n",
       "      <td>0.938727</td>\n",
       "    </tr>\n",
       "    <tr>\n",
       "      <th>4</th>\n",
       "      <td>0</td>\n",
       "      <td>3734</td>\n",
       "      <td>0.104853</td>\n",
       "    </tr>\n",
       "  </tbody>\n",
       "</table>\n",
       "</div>"
      ],
      "text/plain": [
       "   Converted  Prospect ID  Converted_prob\n",
       "0          0         8970        0.002393\n",
       "1          0         8280        0.212586\n",
       "2          0         6941        0.006237\n",
       "3          0         7343        0.938727\n",
       "4          0         3734        0.104853"
      ]
     },
     "execution_count": 204,
     "metadata": {},
     "output_type": "execute_result"
    }
   ],
   "source": [
    "y_pred_final.head()"
   ]
  },
  {
   "cell_type": "code",
   "execution_count": 205,
   "id": "f9124b4f-38dd-46e9-9975-caa2b44ae6a5",
   "metadata": {},
   "outputs": [],
   "source": [
    "# Rearranging the columns\n",
    "y_pred_final = y_pred_final[['Prospect ID','Converted','Converted_prob']]\n",
    "y_pred_final['Lead_Score'] = y_pred_final.Converted_prob.map( lambda x: round(x*100))"
   ]
  },
  {
   "cell_type": "code",
   "execution_count": 206,
   "id": "54ee7851-3b13-4bf3-9cca-37ac2edc0ff2",
   "metadata": {},
   "outputs": [
    {
     "data": {
      "text/html": [
       "<div>\n",
       "<style scoped>\n",
       "    .dataframe tbody tr th:only-of-type {\n",
       "        vertical-align: middle;\n",
       "    }\n",
       "\n",
       "    .dataframe tbody tr th {\n",
       "        vertical-align: top;\n",
       "    }\n",
       "\n",
       "    .dataframe thead th {\n",
       "        text-align: right;\n",
       "    }\n",
       "</style>\n",
       "<table border=\"1\" class=\"dataframe\">\n",
       "  <thead>\n",
       "    <tr style=\"text-align: right;\">\n",
       "      <th></th>\n",
       "      <th>Prospect ID</th>\n",
       "      <th>Converted</th>\n",
       "      <th>Converted_prob</th>\n",
       "      <th>Lead_Score</th>\n",
       "    </tr>\n",
       "  </thead>\n",
       "  <tbody>\n",
       "    <tr>\n",
       "      <th>0</th>\n",
       "      <td>8970</td>\n",
       "      <td>0</td>\n",
       "      <td>0.002393</td>\n",
       "      <td>0</td>\n",
       "    </tr>\n",
       "    <tr>\n",
       "      <th>1</th>\n",
       "      <td>8280</td>\n",
       "      <td>0</td>\n",
       "      <td>0.212586</td>\n",
       "      <td>21</td>\n",
       "    </tr>\n",
       "    <tr>\n",
       "      <th>2</th>\n",
       "      <td>6941</td>\n",
       "      <td>0</td>\n",
       "      <td>0.006237</td>\n",
       "      <td>1</td>\n",
       "    </tr>\n",
       "    <tr>\n",
       "      <th>3</th>\n",
       "      <td>7343</td>\n",
       "      <td>0</td>\n",
       "      <td>0.938727</td>\n",
       "      <td>94</td>\n",
       "    </tr>\n",
       "    <tr>\n",
       "      <th>4</th>\n",
       "      <td>3734</td>\n",
       "      <td>0</td>\n",
       "      <td>0.104853</td>\n",
       "      <td>10</td>\n",
       "    </tr>\n",
       "  </tbody>\n",
       "</table>\n",
       "</div>"
      ],
      "text/plain": [
       "   Prospect ID  Converted  Converted_prob  Lead_Score\n",
       "0         8970          0        0.002393           0\n",
       "1         8280          0        0.212586          21\n",
       "2         6941          0        0.006237           1\n",
       "3         7343          0        0.938727          94\n",
       "4         3734          0        0.104853          10"
      ]
     },
     "execution_count": 206,
     "metadata": {},
     "output_type": "execute_result"
    }
   ],
   "source": [
    "# Let's see the head of y_pred_final\n",
    "y_pred_final.head()"
   ]
  },
  {
   "cell_type": "code",
   "execution_count": 207,
   "id": "b414da78-2684-4a8e-bd8d-d2ec3a5c052f",
   "metadata": {},
   "outputs": [],
   "source": [
    "y_pred_final['final_Predicted'] = y_pred_final.Converted_prob.map(lambda x: 1 if x > 0.35 else 0)"
   ]
  },
  {
   "cell_type": "code",
   "execution_count": 208,
   "id": "f3acbdc9-67b3-4032-87f8-2544fb7a4669",
   "metadata": {},
   "outputs": [
    {
     "data": {
      "text/html": [
       "<div>\n",
       "<style scoped>\n",
       "    .dataframe tbody tr th:only-of-type {\n",
       "        vertical-align: middle;\n",
       "    }\n",
       "\n",
       "    .dataframe tbody tr th {\n",
       "        vertical-align: top;\n",
       "    }\n",
       "\n",
       "    .dataframe thead th {\n",
       "        text-align: right;\n",
       "    }\n",
       "</style>\n",
       "<table border=\"1\" class=\"dataframe\">\n",
       "  <thead>\n",
       "    <tr style=\"text-align: right;\">\n",
       "      <th></th>\n",
       "      <th>Prospect ID</th>\n",
       "      <th>Converted</th>\n",
       "      <th>Converted_prob</th>\n",
       "      <th>Lead_Score</th>\n",
       "      <th>final_Predicted</th>\n",
       "    </tr>\n",
       "  </thead>\n",
       "  <tbody>\n",
       "    <tr>\n",
       "      <th>0</th>\n",
       "      <td>8970</td>\n",
       "      <td>0</td>\n",
       "      <td>0.002393</td>\n",
       "      <td>0</td>\n",
       "      <td>0</td>\n",
       "    </tr>\n",
       "    <tr>\n",
       "      <th>1</th>\n",
       "      <td>8280</td>\n",
       "      <td>0</td>\n",
       "      <td>0.212586</td>\n",
       "      <td>21</td>\n",
       "      <td>0</td>\n",
       "    </tr>\n",
       "    <tr>\n",
       "      <th>2</th>\n",
       "      <td>6941</td>\n",
       "      <td>0</td>\n",
       "      <td>0.006237</td>\n",
       "      <td>1</td>\n",
       "      <td>0</td>\n",
       "    </tr>\n",
       "    <tr>\n",
       "      <th>3</th>\n",
       "      <td>7343</td>\n",
       "      <td>0</td>\n",
       "      <td>0.938727</td>\n",
       "      <td>94</td>\n",
       "      <td>1</td>\n",
       "    </tr>\n",
       "    <tr>\n",
       "      <th>4</th>\n",
       "      <td>3734</td>\n",
       "      <td>0</td>\n",
       "      <td>0.104853</td>\n",
       "      <td>10</td>\n",
       "      <td>0</td>\n",
       "    </tr>\n",
       "  </tbody>\n",
       "</table>\n",
       "</div>"
      ],
      "text/plain": [
       "   Prospect ID  Converted  Converted_prob  Lead_Score  final_Predicted\n",
       "0         8970          0        0.002393           0                0\n",
       "1         8280          0        0.212586          21                0\n",
       "2         6941          0        0.006237           1                0\n",
       "3         7343          0        0.938727          94                1\n",
       "4         3734          0        0.104853          10                0"
      ]
     },
     "execution_count": 208,
     "metadata": {},
     "output_type": "execute_result"
    }
   ],
   "source": [
    "y_pred_final.head()"
   ]
  },
  {
   "cell_type": "code",
   "execution_count": 209,
   "id": "6ca291be-d7ca-42e7-9212-7fe5d12fd900",
   "metadata": {},
   "outputs": [
    {
     "data": {
      "text/plain": [
       "0.9091365461847389"
      ]
     },
     "execution_count": 209,
     "metadata": {},
     "output_type": "execute_result"
    }
   ],
   "source": [
    "# Let's check the overall accuracy.\n",
    "metrics.accuracy_score(y_pred_final.Converted, y_pred_final.final_Predicted)"
   ]
  },
  {
   "cell_type": "code",
   "execution_count": 210,
   "id": "97eb3341-bfef-43c6-9654-d536a18501af",
   "metadata": {},
   "outputs": [
    {
     "data": {
      "text/plain": [
       "array([[1152,  106],\n",
       "       [  75,  659]], dtype=int64)"
      ]
     },
     "execution_count": 210,
     "metadata": {},
     "output_type": "execute_result"
    }
   ],
   "source": [
    "confusion2 = metrics.confusion_matrix(y_pred_final.Converted, y_pred_final.final_Predicted )\n",
    "confusion2"
   ]
  },
  {
   "cell_type": "code",
   "execution_count": 211,
   "id": "2b559017-586b-4056-a914-b275d01f336f",
   "metadata": {},
   "outputs": [],
   "source": [
    "TP = confusion2[1,1] # true positive \n",
    "TN = confusion2[0,0] # true negatives\n",
    "FP = confusion2[0,1] # false positives\n",
    "FN = confusion2[1,0] # false negatives"
   ]
  },
  {
   "cell_type": "code",
   "execution_count": 212,
   "id": "26d97ae0-5647-4935-b921-44e060a6b2f2",
   "metadata": {},
   "outputs": [
    {
     "data": {
      "text/plain": [
       "0.8978201634877384"
      ]
     },
     "execution_count": 212,
     "metadata": {},
     "output_type": "execute_result"
    }
   ],
   "source": [
    "# Let's see the sensitivity of our logistic regression model\n",
    "TP / float(TP+FN)"
   ]
  },
  {
   "cell_type": "code",
   "execution_count": 213,
   "id": "0760801e-1c0b-4305-a644-c40ce84036f9",
   "metadata": {},
   "outputs": [
    {
     "data": {
      "text/plain": [
       "0.9157392686804452"
      ]
     },
     "execution_count": 213,
     "metadata": {},
     "output_type": "execute_result"
    }
   ],
   "source": [
    "# Let us calculate specificity\n",
    "TN / float(TN+FP)"
   ]
  },
  {
   "cell_type": "code",
   "execution_count": 214,
   "id": "5809f0a7-b626-45c5-a6cc-5fef2e31f15b",
   "metadata": {},
   "outputs": [
    {
     "data": {
      "text/plain": [
       "0.8614379084967321"
      ]
     },
     "execution_count": 214,
     "metadata": {},
     "output_type": "execute_result"
    }
   ],
   "source": [
    "precision_score(y_pred_final.Converted , y_pred_final.final_Predicted)"
   ]
  },
  {
   "cell_type": "code",
   "execution_count": 215,
   "id": "b4aba00b-cf0d-4f8f-b9a2-1a6ce3cdebc1",
   "metadata": {},
   "outputs": [
    {
     "data": {
      "text/plain": [
       "0.8978201634877384"
      ]
     },
     "execution_count": 215,
     "metadata": {},
     "output_type": "execute_result"
    }
   ],
   "source": [
    "recall_score(y_pred_final.Converted, y_pred_final.final_Predicted)"
   ]
  },
  {
   "cell_type": "code",
   "execution_count": null,
   "id": "4f6c594f-5dc3-4e91-815c-22ceec7b17ac",
   "metadata": {},
   "outputs": [],
   "source": [
    "## Observation:\n",
    "\n",
    "#### After running the model on the Test Data these are the figures we obtain:\n",
    "#### Accuracy : 90.91%\n",
    "#### Sensitivity : 89.78%\n",
    "#### Specificity : 91.57%\n",
    "\n",
    "### Final Observation:\n",
    "\n",
    "#### Let us compare the values obtained for Train & Test:\n",
    "\n",
    "### Train Data:\n",
    "#### Accuracy : 91.11%\n",
    "#### Sensitivity : 90.39%\n",
    "#### Specificity : 91.52%\n",
    "\n",
    "### Test Data:\n",
    "#### Accuracy : 90.92%\n",
    "#### Sensitivity : 89.78%\n",
    "#### Specificity : 91.57%\n",
    "\n",
    "## The Model seems to predict the Conversion Rate very well and we should be able to give the CEO confidence in making good calls based on this model"
   ]
  }
 ],
 "metadata": {
  "kernelspec": {
   "display_name": "Python 3 (ipykernel)",
   "language": "python",
   "name": "python3"
  },
  "language_info": {
   "codemirror_mode": {
    "name": "ipython",
    "version": 3
   },
   "file_extension": ".py",
   "mimetype": "text/x-python",
   "name": "python",
   "nbconvert_exporter": "python",
   "pygments_lexer": "ipython3",
   "version": "3.11.3"
  }
 },
 "nbformat": 4,
 "nbformat_minor": 5
}
